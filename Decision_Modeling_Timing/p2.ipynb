{
    "cells": [
        {
            "cell_type": "code",
            "execution_count": 2,
            "metadata": {},
            "outputs": [],
            "source": [
                "import numpy as np\n",
                "import pandas as pd \n",
                "import matplotlib.pyplot as plt \n",
                "import scipy.special as spsp\n",
                "import scipy.stats as spst\n",
                "from statsmodels.base.model import GenericLikelihoodModel"
            ]
        },
        {
            "attachments": {},
            "cell_type": "markdown",
            "metadata": {},
            "source": [
                "# Setting\n",
                "\n",
                "In this problem, we have a simulated dataset that contains two columns: **lambda** and **t**. The values of **lambda** are generated from a gamma distribution with parameters $\\gamma=1$ and $\\alpha=2$. Using each observation of $\\lambda$ along with $c=2$, a corresponding value of $t$ is generated from a Weibull distribution."
            ]
        },
        {
            "cell_type": "code",
            "execution_count": 3,
            "metadata": {},
            "outputs": [
                {
                    "data": {
                        "text/html": [
                            "<div>\n",
                            "<style scoped>\n",
                            "    .dataframe tbody tr th:only-of-type {\n",
                            "        vertical-align: middle;\n",
                            "    }\n",
                            "\n",
                            "    .dataframe tbody tr th {\n",
                            "        vertical-align: top;\n",
                            "    }\n",
                            "\n",
                            "    .dataframe thead th {\n",
                            "        text-align: right;\n",
                            "    }\n",
                            "</style>\n",
                            "<table border=\"1\" class=\"dataframe\">\n",
                            "  <thead>\n",
                            "    <tr style=\"text-align: right;\">\n",
                            "      <th></th>\n",
                            "      <th>lambda</th>\n",
                            "      <th>t</th>\n",
                            "    </tr>\n",
                            "  </thead>\n",
                            "  <tbody>\n",
                            "    <tr>\n",
                            "      <th>0</th>\n",
                            "      <td>0.737717</td>\n",
                            "      <td>0.761881</td>\n",
                            "    </tr>\n",
                            "    <tr>\n",
                            "      <th>1</th>\n",
                            "      <td>0.010485</td>\n",
                            "      <td>12.564622</td>\n",
                            "    </tr>\n",
                            "    <tr>\n",
                            "      <th>2</th>\n",
                            "      <td>0.502081</td>\n",
                            "      <td>1.107216</td>\n",
                            "    </tr>\n",
                            "    <tr>\n",
                            "      <th>3</th>\n",
                            "      <td>0.690761</td>\n",
                            "      <td>1.193429</td>\n",
                            "    </tr>\n",
                            "    <tr>\n",
                            "      <th>4</th>\n",
                            "      <td>0.345083</td>\n",
                            "      <td>0.812329</td>\n",
                            "    </tr>\n",
                            "    <tr>\n",
                            "      <th>...</th>\n",
                            "      <td>...</td>\n",
                            "      <td>...</td>\n",
                            "    </tr>\n",
                            "    <tr>\n",
                            "      <th>995</th>\n",
                            "      <td>0.362410</td>\n",
                            "      <td>2.615255</td>\n",
                            "    </tr>\n",
                            "    <tr>\n",
                            "      <th>996</th>\n",
                            "      <td>0.117958</td>\n",
                            "      <td>2.413434</td>\n",
                            "    </tr>\n",
                            "    <tr>\n",
                            "      <th>997</th>\n",
                            "      <td>0.090229</td>\n",
                            "      <td>2.598580</td>\n",
                            "    </tr>\n",
                            "    <tr>\n",
                            "      <th>998</th>\n",
                            "      <td>0.585508</td>\n",
                            "      <td>2.239545</td>\n",
                            "    </tr>\n",
                            "    <tr>\n",
                            "      <th>999</th>\n",
                            "      <td>0.050015</td>\n",
                            "      <td>0.879659</td>\n",
                            "    </tr>\n",
                            "  </tbody>\n",
                            "</table>\n",
                            "<p>1000 rows × 2 columns</p>\n",
                            "</div>"
                        ],
                        "text/plain": [
                            "       lambda          t\n",
                            "0    0.737717   0.761881\n",
                            "1    0.010485  12.564622\n",
                            "2    0.502081   1.107216\n",
                            "3    0.690761   1.193429\n",
                            "4    0.345083   0.812329\n",
                            "..        ...        ...\n",
                            "995  0.362410   2.615255\n",
                            "996  0.117958   2.413434\n",
                            "997  0.090229   2.598580\n",
                            "998  0.585508   2.239545\n",
                            "999  0.050015   0.879659\n",
                            "\n",
                            "[1000 rows x 2 columns]"
                        ]
                    },
                    "execution_count": 3,
                    "metadata": {},
                    "output_type": "execute_result"
                }
            ],
            "source": [
                "Data = pd.read_csv(\"Data.csv\")\n",
                "Data"
            ]
        },
        {
            "attachments": {},
            "cell_type": "markdown",
            "metadata": {},
            "source": [
                "# Part 1 [12 pts]\n",
                "\n",
                "Use the data to estimate two models. Model 1 is a simple Weibull model estimating the values $\\hat c$ and $\\hat\\lambda$. Model 2 is a Weibull-Gamma model estimating the values of $\\hat c$, $\\hat\\gamma$, and $\\hat\\alpha$.\n",
                "\n",
                "* Show the summaries of the two models with appropriately named parameters.\n",
                "\n",
                "* Generate a plot that overlays the PDFs of Model 1 and Model 2, as well as the histogram of the **t** data values (use `density=True` and `bins=50`), all on one figure. Plot these in the range from 0 to 30, and use a legend to label the two PDFs."
            ]
        },
        {
            "cell_type": "code",
            "execution_count": 4,
            "metadata": {},
            "outputs": [],
            "source": [
                "# I'm running everything locally.\n",
                "# Mimic what's we have from the lecture. Model 1. \n",
                "class Weibull_C(GenericLikelihoodModel):\n",
                "    def loglike(self, params):\n",
                "        t, _ = self.endog, self.exog\n",
                "        c, l = np.exp(params)\n",
                "        likelihood = spst.weibull_min.pdf(t, c = c, scale=l ** (-1/c))\n",
                "        return np.sum(np.log(likelihood))"
            ]
        },
        {
            "cell_type": "code",
            "execution_count": 5,
            "metadata": {},
            "outputs": [
                {
                    "data": {
                        "text/plain": [
                            "0       0.761881\n",
                            "1      12.564622\n",
                            "2       1.107216\n",
                            "3       1.193429\n",
                            "4       0.812329\n",
                            "         ...    \n",
                            "995     2.615255\n",
                            "996     2.413434\n",
                            "997     2.598580\n",
                            "998     2.239545\n",
                            "999     0.879659\n",
                            "Name: t, Length: 1000, dtype: float64"
                        ]
                    },
                    "execution_count": 5,
                    "metadata": {},
                    "output_type": "execute_result"
                }
            ],
            "source": [
                "Data['t']"
            ]
        },
        {
            "cell_type": "code",
            "execution_count": 6,
            "metadata": {},
            "outputs": [
                {
                    "name": "stdout",
                    "output_type": "stream",
                    "text": [
                        "Optimization terminated successfully.\n",
                        "         Current function value: 1.832451\n",
                        "         Iterations: 7\n",
                        "         Function evaluations: 10\n",
                        "         Gradient evaluations: 10\n"
                    ]
                },
                {
                    "data": {
                        "text/html": [
                            "<table class=\"simpletable\">\n",
                            "<caption>Weibull_C Results</caption>\n",
                            "<tr>\n",
                            "  <th>Dep. Variable:</th>             <td>t</td>         <th>  Log-Likelihood:    </th> <td> -1832.5</td>\n",
                            "</tr>\n",
                            "<tr>\n",
                            "  <th>Model:</th>                 <td>Weibull_C</td>     <th>  AIC:               </th> <td>   3673.</td>\n",
                            "</tr>\n",
                            "<tr>\n",
                            "  <th>Method:</th>           <td>Maximum Likelihood</td> <th>  BIC:               </th> <td>   3693.</td>\n",
                            "</tr>\n",
                            "<tr>\n",
                            "  <th>Date:</th>              <td>Mon, 11 Nov 2024</td>  <th>                     </th>     <td> </td>   \n",
                            "</tr>\n",
                            "<tr>\n",
                            "  <th>Time:</th>                  <td>15:09:09</td>      <th>                     </th>     <td> </td>   \n",
                            "</tr>\n",
                            "<tr>\n",
                            "  <th>No. Observations:</th>       <td>  1000</td>       <th>                     </th>     <td> </td>   \n",
                            "</tr>\n",
                            "<tr>\n",
                            "  <th>Df Residuals:</th>           <td>   998</td>       <th>                     </th>     <td> </td>   \n",
                            "</tr>\n",
                            "<tr>\n",
                            "  <th>Df Model:</th>               <td>     2</td>       <th>                     </th>     <td> </td>   \n",
                            "</tr>\n",
                            "</table>\n",
                            "<table class=\"simpletable\">\n",
                            "<tr>\n",
                            "      <td></td>         <th>coef</th>     <th>std err</th>      <th>z</th>      <th>P>|z|</th>  <th>[0.025</th>    <th>0.975]</th>  \n",
                            "</tr>\n",
                            "<tr>\n",
                            "  <th>log_c</th>     <td>    0.0245</td> <td>    0.022</td> <td>    1.127</td> <td> 0.260</td> <td>   -0.018</td> <td>    0.067</td>\n",
                            "</tr>\n",
                            "<tr>\n",
                            "  <th>log_lmbda</th> <td>   -0.8663</td> <td>    0.044</td> <td>  -19.822</td> <td> 0.000</td> <td>   -0.952</td> <td>   -0.781</td>\n",
                            "</tr>\n",
                            "</table>"
                        ],
                        "text/latex": [
                            "\\begin{center}\n",
                            "\\begin{tabular}{lclc}\n",
                            "\\toprule\n",
                            "\\textbf{Dep. Variable:}    &         t          & \\textbf{  Log-Likelihood:    } &   -1832.5   \\\\\n",
                            "\\textbf{Model:}            &     Weibull\\_C     & \\textbf{  AIC:               } &     3673.   \\\\\n",
                            "\\textbf{Method:}           & Maximum Likelihood & \\textbf{  BIC:               } &     3693.   \\\\\n",
                            "\\textbf{Date:}             &  Mon, 11 Nov 2024  & \\textbf{                     } &             \\\\\n",
                            "\\textbf{Time:}             &      15:09:09      & \\textbf{                     } &             \\\\\n",
                            "\\textbf{No. Observations:} &         1000       & \\textbf{                     } &             \\\\\n",
                            "\\textbf{Df Residuals:}     &          998       & \\textbf{                     } &             \\\\\n",
                            "\\textbf{Df Model:}         &            2       & \\textbf{                     } &             \\\\\n",
                            "\\bottomrule\n",
                            "\\end{tabular}\n",
                            "\\begin{tabular}{lcccccc}\n",
                            "                    & \\textbf{coef} & \\textbf{std err} & \\textbf{z} & \\textbf{P$> |$z$|$} & \\textbf{[0.025} & \\textbf{0.975]}  \\\\\n",
                            "\\midrule\n",
                            "\\textbf{log\\_c}     &       0.0245  &        0.022     &     1.127  &         0.260        &       -0.018    &        0.067     \\\\\n",
                            "\\textbf{log\\_lmbda} &      -0.8663  &        0.044     &   -19.822  &         0.000        &       -0.952    &       -0.781     \\\\\n",
                            "\\bottomrule\n",
                            "\\end{tabular}\n",
                            "%\\caption{Weibull_C Results}\n",
                            "\\end{center}"
                        ],
                        "text/plain": [
                            "<class 'statsmodels.iolib.summary.Summary'>\n",
                            "\"\"\"\n",
                            "                              Weibull_C Results                               \n",
                            "==============================================================================\n",
                            "Dep. Variable:                      t   Log-Likelihood:                -1832.5\n",
                            "Model:                      Weibull_C   AIC:                             3673.\n",
                            "Method:            Maximum Likelihood   BIC:                             3693.\n",
                            "Date:                Mon, 11 Nov 2024                                         \n",
                            "Time:                        15:09:09                                         \n",
                            "No. Observations:                1000                                         \n",
                            "Df Residuals:                     998                                         \n",
                            "Df Model:                           2                                         \n",
                            "==============================================================================\n",
                            "                 coef    std err          z      P>|z|      [0.025      0.975]\n",
                            "------------------------------------------------------------------------------\n",
                            "log_c          0.0245      0.022      1.127      0.260      -0.018       0.067\n",
                            "log_lmbda     -0.8663      0.044    -19.822      0.000      -0.952      -0.781\n",
                            "==============================================================================\n",
                            "\"\"\""
                        ]
                    },
                    "execution_count": 6,
                    "metadata": {},
                    "output_type": "execute_result"
                }
            ],
            "source": [
                "Model = Weibull_C(Data['t']).fit(start_params=-np.random.random(2), method=\"bfgs\")\n",
                "Model.summary(xname=[\"log_c\", \"log_lmbda\"])"
            ]
        },
        {
            "cell_type": "code",
            "execution_count": 7,
            "metadata": {},
            "outputs": [],
            "source": [
                "# Model 2. Formulas from lectures.\n",
                "class WG_C(GenericLikelihoodModel):\n",
                "    def loglike(self, params):\n",
                "        t, _ = self.endog, self.exog        \n",
                "        c, gamma, alpha = np.exp(params)\n",
                "        Fwg = (c * gamma * t ** (c) * alpha ** gamma) / (t * (alpha + (t) ** c) ** (gamma + 1) )\n",
                "        return np.sum(np.log(Fwg))"
            ]
        },
        {
            "cell_type": "code",
            "execution_count": 8,
            "metadata": {},
            "outputs": [
                {
                    "name": "stdout",
                    "output_type": "stream",
                    "text": [
                        "Optimization terminated successfully.\n",
                        "         Current function value: 1.708527\n",
                        "         Iterations: 13\n",
                        "         Function evaluations: 14\n",
                        "         Gradient evaluations: 14\n"
                    ]
                },
                {
                    "data": {
                        "text/html": [
                            "<table class=\"simpletable\">\n",
                            "<caption>WG_C Results</caption>\n",
                            "<tr>\n",
                            "  <th>Dep. Variable:</th>             <td>t</td>         <th>  Log-Likelihood:    </th> <td> -1708.5</td>\n",
                            "</tr>\n",
                            "<tr>\n",
                            "  <th>Model:</th>                   <td>WG_C</td>        <th>  AIC:               </th> <td>   3429.</td>\n",
                            "</tr>\n",
                            "<tr>\n",
                            "  <th>Method:</th>           <td>Maximum Likelihood</td> <th>  BIC:               </th> <td>   3459.</td>\n",
                            "</tr>\n",
                            "<tr>\n",
                            "  <th>Date:</th>              <td>Mon, 11 Nov 2024</td>  <th>                     </th>     <td> </td>   \n",
                            "</tr>\n",
                            "<tr>\n",
                            "  <th>Time:</th>                  <td>15:09:09</td>      <th>                     </th>     <td> </td>   \n",
                            "</tr>\n",
                            "<tr>\n",
                            "  <th>No. Observations:</th>       <td>  1000</td>       <th>                     </th>     <td> </td>   \n",
                            "</tr>\n",
                            "<tr>\n",
                            "  <th>Df Residuals:</th>           <td>   997</td>       <th>                     </th>     <td> </td>   \n",
                            "</tr>\n",
                            "<tr>\n",
                            "  <th>Df Model:</th>               <td>     3</td>       <th>                     </th>     <td> </td>   \n",
                            "</tr>\n",
                            "</table>\n",
                            "<table class=\"simpletable\">\n",
                            "<tr>\n",
                            "      <td></td>         <th>coef</th>     <th>std err</th>      <th>z</th>      <th>P>|z|</th>  <th>[0.025</th>    <th>0.975]</th>  \n",
                            "</tr>\n",
                            "<tr>\n",
                            "  <th>log_c</th>     <td>    0.7055</td> <td>    0.049</td> <td>   14.450</td> <td> 0.000</td> <td>    0.610</td> <td>    0.801</td>\n",
                            "</tr>\n",
                            "<tr>\n",
                            "  <th>log_gamma</th> <td>   -0.0979</td> <td>    0.110</td> <td>   -0.893</td> <td> 0.372</td> <td>   -0.313</td> <td>    0.117</td>\n",
                            "</tr>\n",
                            "<tr>\n",
                            "  <th>log_alpha</th> <td>    0.5980</td> <td>    0.152</td> <td>    3.947</td> <td> 0.000</td> <td>    0.301</td> <td>    0.895</td>\n",
                            "</tr>\n",
                            "</table>"
                        ],
                        "text/latex": [
                            "\\begin{center}\n",
                            "\\begin{tabular}{lclc}\n",
                            "\\toprule\n",
                            "\\textbf{Dep. Variable:}    &         t          & \\textbf{  Log-Likelihood:    } &   -1708.5   \\\\\n",
                            "\\textbf{Model:}            &       WG\\_C        & \\textbf{  AIC:               } &     3429.   \\\\\n",
                            "\\textbf{Method:}           & Maximum Likelihood & \\textbf{  BIC:               } &     3459.   \\\\\n",
                            "\\textbf{Date:}             &  Mon, 11 Nov 2024  & \\textbf{                     } &             \\\\\n",
                            "\\textbf{Time:}             &      15:09:09      & \\textbf{                     } &             \\\\\n",
                            "\\textbf{No. Observations:} &         1000       & \\textbf{                     } &             \\\\\n",
                            "\\textbf{Df Residuals:}     &          997       & \\textbf{                     } &             \\\\\n",
                            "\\textbf{Df Model:}         &            3       & \\textbf{                     } &             \\\\\n",
                            "\\bottomrule\n",
                            "\\end{tabular}\n",
                            "\\begin{tabular}{lcccccc}\n",
                            "                    & \\textbf{coef} & \\textbf{std err} & \\textbf{z} & \\textbf{P$> |$z$|$} & \\textbf{[0.025} & \\textbf{0.975]}  \\\\\n",
                            "\\midrule\n",
                            "\\textbf{log\\_c}     &       0.7055  &        0.049     &    14.450  &         0.000        &        0.610    &        0.801     \\\\\n",
                            "\\textbf{log\\_gamma} &      -0.0979  &        0.110     &    -0.893  &         0.372        &       -0.313    &        0.117     \\\\\n",
                            "\\textbf{log\\_alpha} &       0.5980  &        0.152     &     3.947  &         0.000        &        0.301    &        0.895     \\\\\n",
                            "\\bottomrule\n",
                            "\\end{tabular}\n",
                            "%\\caption{WG_C Results}\n",
                            "\\end{center}"
                        ],
                        "text/plain": [
                            "<class 'statsmodels.iolib.summary.Summary'>\n",
                            "\"\"\"\n",
                            "                                 WG_C Results                                 \n",
                            "==============================================================================\n",
                            "Dep. Variable:                      t   Log-Likelihood:                -1708.5\n",
                            "Model:                           WG_C   AIC:                             3429.\n",
                            "Method:            Maximum Likelihood   BIC:                             3459.\n",
                            "Date:                Mon, 11 Nov 2024                                         \n",
                            "Time:                        15:09:09                                         \n",
                            "No. Observations:                1000                                         \n",
                            "Df Residuals:                     997                                         \n",
                            "Df Model:                           3                                         \n",
                            "==============================================================================\n",
                            "                 coef    std err          z      P>|z|      [0.025      0.975]\n",
                            "------------------------------------------------------------------------------\n",
                            "log_c          0.7055      0.049     14.450      0.000       0.610       0.801\n",
                            "log_gamma     -0.0979      0.110     -0.893      0.372      -0.313       0.117\n",
                            "log_alpha      0.5980      0.152      3.947      0.000       0.301       0.895\n",
                            "==============================================================================\n",
                            "\"\"\""
                        ]
                    },
                    "execution_count": 8,
                    "metadata": {},
                    "output_type": "execute_result"
                }
            ],
            "source": [
                "Model2 = WG_C(Data['t']).fit(start_params=-np.random.random(3), method=\"bfgs\")\n",
                "Model2.summary(xname=[\"log_c\", \"log_gamma\", \"log_alpha\"])"
            ]
        },
        {
            "cell_type": "code",
            "execution_count": 13,
            "metadata": {},
            "outputs": [
                {
                    "name": "stderr",
                    "output_type": "stream",
                    "text": [
                        "/var/folders/5w/ypk97qgs7_s3jcbfbhcpmlsw0000gn/T/ipykernel_21276/2648504044.py:9: RuntimeWarning: invalid value encountered in divide\n",
                        "  plt.plot(y, c2*gamma2*y**c2*alpha2**gamma2/(y*(alpha2+y**c2)**(gamma2+1)), label=\"weibull-gamma\")\n"
                    ]
                },
                {
                    "data": {
                        "image/png": "[encoded data removed]",
                        "text/plain": [
                            "<Figure size 640x480 with 1 Axes>"
                        ]
                    },
                    "metadata": {},
                    "output_type": "display_data"
                }
            ],
            "source": [
                "y = np.arange(0,30,.01)\n",
                "\n",
                "# What's needed to plot for Model 1: \n",
                "c1, lmbda1 = np.exp(Model.params)\n",
                "plt.plot(y, spst.weibull_min.pdf(y, c=c1, scale=lmbda1**(-1/c1)), label=\"weibull\")\n",
                "\n",
                "# What's needed to plot for Model 2: \n",
                "c2, gamma2, alpha2 = np.exp(Model2.params[0:3])\n",
                "plt.plot(y, c2*gamma2*y**c2*alpha2**gamma2/(y*(alpha2+y**c2)**(gamma2+1)), label=\"weibull-gamma\")\n",
                "\n",
                "\n",
                "plt.hist(Data[\"t\"], density=True, bins=50)\n",
                "plt.legend()\n",
                "plt.show()"
            ]
        },
        {
            "attachments": {},
            "cell_type": "markdown",
            "metadata": {},
            "source": [
                "# Part 2 [14 pts]\n",
                "\n",
                "Now let's suppose that our dataset exhibits right censoring, and that we only make time observations up to $T=5$. \n",
                "\n",
                "* Create a new column in the dataset **rcensored** that has value equal to **t** if **t** less than 5, and value equal to 5 otherwise.\n",
                "\n",
                "* Estimate two Weibull-Gamma models using the new **rcensored** values. Model 1 does not account for censoring (same estimation procedure as Model 2 in Part 1); Model 2 correctly accounts for censoring. Show the model summaries.\n",
                "\n",
                "* Generate a plot that overlays the PDFs of Model 1 and Model 2, as well as the histogram of the **t** data values (use `density=True` and `bins=50`), all on one figure. Plot these in the range from 0 to 30, and use a legend to label the two PDFs."
            ]
        },
        {
            "cell_type": "code",
            "execution_count": null,
            "metadata": {},
            "outputs": [
                {
                    "name": "stdout",
                    "output_type": "stream",
                    "text": [
                        "       lambda          t  rcensored\n",
                        "0    0.737717   0.761881   0.761881\n",
                        "1    0.010485  12.564622   5.000000\n",
                        "2    0.502081   1.107216   1.107216\n",
                        "3    0.690761   1.193429   1.193429\n",
                        "4    0.345083   0.812329   0.812329\n",
                        "..        ...        ...        ...\n",
                        "995  0.362410   2.615255   2.615255\n",
                        "996  0.117958   2.413434   2.413434\n",
                        "997  0.090229   2.598580   2.598580\n",
                        "998  0.585508   2.239545   2.239545\n",
                        "999  0.050015   0.879659   0.879659\n",
                        "\n",
                        "[1000 rows x 3 columns]\n"
                    ]
                }
            ],
            "source": [
                "Data['rcensored'] = Data['t'].apply(lambda x: x if x < 5 else 5)\n",
                "print(Data)"
            ]
        },
        {
            "cell_type": "code",
            "execution_count": null,
            "metadata": {},
            "outputs": [
                {
                    "data": {
                        "text/plain": [
                            "85"
                        ]
                    },
                    "execution_count": 240,
                    "metadata": {},
                    "output_type": "execute_result"
                }
            ],
            "source": [
                "(Data['t'] > 5).sum()"
            ]
        },
        {
            "cell_type": "code",
            "execution_count": null,
            "metadata": {},
            "outputs": [
                {
                    "data": {
                        "text/plain": [
                            "0"
                        ]
                    },
                    "execution_count": 241,
                    "metadata": {},
                    "output_type": "execute_result"
                }
            ],
            "source": [
                "(Data['t'] == 5).sum()"
            ]
        },
        {
            "cell_type": "code",
            "execution_count": null,
            "metadata": {},
            "outputs": [],
            "source": [
                "# Model 2. Formulas from lectures.\n",
                "class WG_C(GenericLikelihoodModel):\n",
                "    def loglike(self, params):\n",
                "        t, _ = self.endog, self.exog        \n",
                "        c, gamma, alpha = np.exp(params)\n",
                "        fwg = (c * gamma * t ** (c - 1) * alpha ** gamma) / (t * (alpha + (t) ** c) ** (gamma + 1) )\n",
                "        return np.sum(np.log(fwg))"
            ]
        },
        {
            "cell_type": "code",
            "execution_count": null,
            "metadata": {},
            "outputs": [
                {
                    "name": "stdout",
                    "output_type": "stream",
                    "text": [
                        "Optimization terminated successfully.\n",
                        "         Current function value: 1.873043\n",
                        "         Iterations: 21\n",
                        "         Function evaluations: 23\n",
                        "         Gradient evaluations: 23\n"
                    ]
                },
                {
                    "data": {
                        "text/html": [
                            "<table class=\"simpletable\">\n",
                            "<caption>WG_C Results</caption>\n",
                            "<tr>\n",
                            "  <th>Dep. Variable:</th>             <td>y</td>         <th>  Log-Likelihood:    </th> <td> -1873.0</td>\n",
                            "</tr>\n",
                            "<tr>\n",
                            "  <th>Model:</th>                   <td>WG_C</td>        <th>  AIC:               </th> <td>   3758.</td>\n",
                            "</tr>\n",
                            "<tr>\n",
                            "  <th>Method:</th>           <td>Maximum Likelihood</td> <th>  BIC:               </th> <td>   3788.</td>\n",
                            "</tr>\n",
                            "<tr>\n",
                            "  <th>Date:</th>              <td>Wed, 09 Oct 2024</td>  <th>                     </th>     <td> </td>   \n",
                            "</tr>\n",
                            "<tr>\n",
                            "  <th>Time:</th>                  <td>22:28:45</td>      <th>                     </th>     <td> </td>   \n",
                            "</tr>\n",
                            "<tr>\n",
                            "  <th>No. Observations:</th>       <td>  1000</td>       <th>                     </th>     <td> </td>   \n",
                            "</tr>\n",
                            "<tr>\n",
                            "  <th>Df Residuals:</th>           <td>   997</td>       <th>                     </th>     <td> </td>   \n",
                            "</tr>\n",
                            "<tr>\n",
                            "  <th>Df Model:</th>               <td>     3</td>       <th>                     </th>     <td> </td>   \n",
                            "</tr>\n",
                            "</table>\n",
                            "<table class=\"simpletable\">\n",
                            "<tr>\n",
                            "      <td></td>         <th>coef</th>     <th>std err</th>      <th>z</th>      <th>P>|z|</th>  <th>[0.025</th>    <th>0.975]</th>  \n",
                            "</tr>\n",
                            "<tr>\n",
                            "  <th>log_c</th>     <td>    0.4071</td> <td>    0.061</td> <td>    6.647</td> <td> 0.000</td> <td>    0.287</td> <td>    0.527</td>\n",
                            "</tr>\n",
                            "<tr>\n",
                            "  <th>log_gamma</th> <td>    1.9853</td> <td>    0.809</td> <td>    2.454</td> <td> 0.014</td> <td>    0.400</td> <td>    3.571</td>\n",
                            "</tr>\n",
                            "<tr>\n",
                            "  <th>log_alpha</th> <td>    2.9657</td> <td>    0.836</td> <td>    3.545</td> <td> 0.000</td> <td>    1.326</td> <td>    4.605</td>\n",
                            "</tr>\n",
                            "</table>"
                        ],
                        "text/latex": [
                            "\\begin{center}\n",
                            "\\begin{tabular}{lclc}\n",
                            "\\toprule\n",
                            "\\textbf{Dep. Variable:}    &         y          & \\textbf{  Log-Likelihood:    } &   -1873.0   \\\\\n",
                            "\\textbf{Model:}            &       WG\\_C        & \\textbf{  AIC:               } &     3758.   \\\\\n",
                            "\\textbf{Method:}           & Maximum Likelihood & \\textbf{  BIC:               } &     3788.   \\\\\n",
                            "\\textbf{Date:}             &  Wed, 09 Oct 2024  & \\textbf{                     } &             \\\\\n",
                            "\\textbf{Time:}             &      22:28:45      & \\textbf{                     } &             \\\\\n",
                            "\\textbf{No. Observations:} &         1000       & \\textbf{                     } &             \\\\\n",
                            "\\textbf{Df Residuals:}     &          997       & \\textbf{                     } &             \\\\\n",
                            "\\textbf{Df Model:}         &            3       & \\textbf{                     } &             \\\\\n",
                            "\\bottomrule\n",
                            "\\end{tabular}\n",
                            "\\begin{tabular}{lcccccc}\n",
                            "                    & \\textbf{coef} & \\textbf{std err} & \\textbf{z} & \\textbf{P$> |$z$|$} & \\textbf{[0.025} & \\textbf{0.975]}  \\\\\n",
                            "\\midrule\n",
                            "\\textbf{log\\_c}     &       0.4071  &        0.061     &     6.647  &         0.000        &        0.287    &        0.527     \\\\\n",
                            "\\textbf{log\\_gamma} &       1.9853  &        0.809     &     2.454  &         0.014        &        0.400    &        3.571     \\\\\n",
                            "\\textbf{log\\_alpha} &       2.9657  &        0.836     &     3.545  &         0.000        &        1.326    &        4.605     \\\\\n",
                            "\\bottomrule\n",
                            "\\end{tabular}\n",
                            "%\\caption{WG_C Results}\n",
                            "\\end{center}"
                        ],
                        "text/plain": [
                            "<class 'statsmodels.iolib.summary.Summary'>\n",
                            "\"\"\"\n",
                            "                                 WG_C Results                                 \n",
                            "==============================================================================\n",
                            "Dep. Variable:                      y   Log-Likelihood:                -1873.0\n",
                            "Model:                           WG_C   AIC:                             3758.\n",
                            "Method:            Maximum Likelihood   BIC:                             3788.\n",
                            "Date:                Wed, 09 Oct 2024                                         \n",
                            "Time:                        22:28:45                                         \n",
                            "No. Observations:                1000                                         \n",
                            "Df Residuals:                     997                                         \n",
                            "Df Model:                           3                                         \n",
                            "==============================================================================\n",
                            "                 coef    std err          z      P>|z|      [0.025      0.975]\n",
                            "------------------------------------------------------------------------------\n",
                            "log_c          0.4071      0.061      6.647      0.000       0.287       0.527\n",
                            "log_gamma      1.9853      0.809      2.454      0.014       0.400       3.571\n",
                            "log_alpha      2.9657      0.836      3.545      0.000       1.326       4.605\n",
                            "==============================================================================\n",
                            "\"\"\""
                        ]
                    },
                    "execution_count": 243,
                    "metadata": {},
                    "output_type": "execute_result"
                }
            ],
            "source": [
                "Model2 = WG_C(Data['rcensored'].values).fit(start_params=-np.random.random(3), method=\"bfgs\")\n",
                "Model2.summary(xname=[\"log_c\", \"log_gamma\", \"log_alpha\"])"
            ]
        },
        {
            "cell_type": "code",
            "execution_count": null,
            "metadata": {},
            "outputs": [],
            "source": [
                "class WG_C_p2(GenericLikelihoodModel):\n",
                "    def loglike(self, params):\n",
                "        t, X = self.endog, self.exog\n",
                "        censored = np.where(t == 5, 1, 0)\n",
                "        c, gamma, alpha = np.exp(params[0:3])\n",
                "        # for non-censored\n",
                "        fwg = (c * gamma * t ** (c - 1) * alpha ** gamma) / (t * (alpha + (t) ** c) ** (gamma + 1) )\n",
                "        # for right-censored\n",
                "        Fwg = 1 - (alpha/(alpha+(t)**c))**gamma\n",
                "        likelihood = np.where(censored == 0, fwg, Fwg)\n",
                "        return np.sum(np.log(likelihood))"
            ]
        },
        {
            "cell_type": "code",
            "execution_count": null,
            "metadata": {},
            "outputs": [
                {
                    "name": "stdout",
                    "output_type": "stream",
                    "text": [
                        "Optimization terminated successfully.\n",
                        "         Current function value: 1.404591\n",
                        "         Iterations: 21\n",
                        "         Function evaluations: 23\n",
                        "         Gradient evaluations: 23\n",
                        "                               WG_C_p2 Results                                \n",
                        "==============================================================================\n",
                        "Dep. Variable:              rcensored   Log-Likelihood:                -1404.6\n",
                        "Model:                        WG_C_p2   AIC:                             2821.\n",
                        "Method:            Maximum Likelihood   BIC:                             2851.\n",
                        "Date:                Wed, 09 Oct 2024                                         \n",
                        "Time:                        22:28:55                                         \n",
                        "No. Observations:                1000                                         \n",
                        "Df Residuals:                     997                                         \n",
                        "Df Model:                           3                                         \n",
                        "==============================================================================\n",
                        "                 coef    std err          z      P>|z|      [0.025      0.975]\n",
                        "------------------------------------------------------------------------------\n",
                        "log_c          0.5006      0.051      9.864      0.000       0.401       0.600\n",
                        "log_gamma      2.2626      0.776      2.915      0.004       0.742       3.784\n",
                        "log_alpha      3.1164      0.799      3.899      0.000       1.550       4.683\n",
                        "==============================================================================\n"
                    ]
                }
            ],
            "source": [
                "Model3 = WG_C_p2(Data['rcensored']).fit(start_params=-np.random.random(3), method=\"bfgs\")\n",
                "print(Model3.summary(xname=[\"log_c\", \"log_gamma\", \"log_alpha\"]))"
            ]
        },
        {
            "cell_type": "code",
            "execution_count": null,
            "metadata": {},
            "outputs": [
                {
                    "data": {
                        "image/png": "[encoded data removed]",
                        "text/plain": [
                            "<Figure size 640x480 with 1 Axes>"
                        ]
                    },
                    "metadata": {},
                    "output_type": "display_data"
                }
            ],
            "source": [
                "t = np.linspace(0.01, 30, 1000)\n",
                "\n",
                "# What's needed to plot for Model 2: \n",
                "c2, gamma2, alpha2 = np.exp(Model2.params[0:3])\n",
                "pdf_WG = (c2 * gamma2 * (t ** (c2)) * (alpha2 ** gamma2)) / (t * (alpha2 + (t) ** c2) ** (gamma2 + 1) )\n",
                "# or simply plug in formula for Weibull distribution\n",
                "\n",
                "# What's needed to plot for Model 3: \n",
                "c3, gamma3, alpha3 = np.exp(Model3.params[0:3])\n",
                "pdf_WG3 = (c3 * gamma3 * (t ** (c3)) * (alpha3 ** gamma3)) / (t * (alpha3 + (t) ** c3) ** (gamma3 + 1) )\n",
                "\n",
                "plt.hist(Data['t'], bins = 50, density = True, label = 't')\n",
                "plt.plot(t,pdf_WG,marker=\"o\", label = 'Weibull-Gamma (not censored)')\n",
                "plt.plot(t, pdf_WG3, marker='o', label = 'Weibull-Gamma (censored)')\n",
                "plt.legend()\n",
                "plt.show()"
            ]
        },
        {
            "attachments": {},
            "cell_type": "markdown",
            "metadata": {},
            "source": [
                "# Part 3 [14 pts]\n",
                "\n",
                "Now let's suppose that our dataset exhibits interval censoring with intervals of length $0.5$. \n",
                "\n",
                "* Create a new column in the dataset **icensored** that has value equal to **t** rounded up to the nearest $n$ or $n+0.5$ value, where $n \\in \\mathbb Z$. For example, 2.31 rounds up to 2.5, and 2.68 rounds up to 3.0.\n",
                "\n",
                "* Estimate two Weibull-Gamma models using the new **icensored** values. Model 1 does not account for censoring (same estimation procedure as Model 1 in Part 2); Model 2 correctly accounts for censoring. Show the model summaries.\n",
                "\n",
                "* Generate a plot that overlays the PDFs of Model 1 and Model 2, as well as the histogram of the **t** data values (use `density=True` and `bins=50`), all on one figure. Plot these in the range from 0 to 30, and use a legend to label the two PDFs."
            ]
        },
        {
            "cell_type": "code",
            "execution_count": null,
            "metadata": {},
            "outputs": [],
            "source": [
                "def rounding(x):\n",
                "    return np.ceil(x*2)/2\n",
                "Data['icensored'] = Data['t'].apply(rounding)"
            ]
        },
        {
            "cell_type": "code",
            "execution_count": null,
            "metadata": {},
            "outputs": [
                {
                    "data": {
                        "text/html": [
                            "<div>\n",
                            "<style scoped>\n",
                            "    .dataframe tbody tr th:only-of-type {\n",
                            "        vertical-align: middle;\n",
                            "    }\n",
                            "\n",
                            "    .dataframe tbody tr th {\n",
                            "        vertical-align: top;\n",
                            "    }\n",
                            "\n",
                            "    .dataframe thead th {\n",
                            "        text-align: right;\n",
                            "    }\n",
                            "</style>\n",
                            "<table border=\"1\" class=\"dataframe\">\n",
                            "  <thead>\n",
                            "    <tr style=\"text-align: right;\">\n",
                            "      <th></th>\n",
                            "      <th>lambda</th>\n",
                            "      <th>t</th>\n",
                            "      <th>rcensored</th>\n",
                            "      <th>icensored</th>\n",
                            "    </tr>\n",
                            "  </thead>\n",
                            "  <tbody>\n",
                            "    <tr>\n",
                            "      <th>0</th>\n",
                            "      <td>0.737717</td>\n",
                            "      <td>0.761881</td>\n",
                            "      <td>0.761881</td>\n",
                            "      <td>1.0</td>\n",
                            "    </tr>\n",
                            "    <tr>\n",
                            "      <th>1</th>\n",
                            "      <td>0.010485</td>\n",
                            "      <td>12.564622</td>\n",
                            "      <td>5.000000</td>\n",
                            "      <td>13.0</td>\n",
                            "    </tr>\n",
                            "    <tr>\n",
                            "      <th>2</th>\n",
                            "      <td>0.502081</td>\n",
                            "      <td>1.107216</td>\n",
                            "      <td>1.107216</td>\n",
                            "      <td>1.5</td>\n",
                            "    </tr>\n",
                            "    <tr>\n",
                            "      <th>3</th>\n",
                            "      <td>0.690761</td>\n",
                            "      <td>1.193429</td>\n",
                            "      <td>1.193429</td>\n",
                            "      <td>1.5</td>\n",
                            "    </tr>\n",
                            "    <tr>\n",
                            "      <th>4</th>\n",
                            "      <td>0.345083</td>\n",
                            "      <td>0.812329</td>\n",
                            "      <td>0.812329</td>\n",
                            "      <td>1.0</td>\n",
                            "    </tr>\n",
                            "    <tr>\n",
                            "      <th>...</th>\n",
                            "      <td>...</td>\n",
                            "      <td>...</td>\n",
                            "      <td>...</td>\n",
                            "      <td>...</td>\n",
                            "    </tr>\n",
                            "    <tr>\n",
                            "      <th>995</th>\n",
                            "      <td>0.362410</td>\n",
                            "      <td>2.615255</td>\n",
                            "      <td>2.615255</td>\n",
                            "      <td>3.0</td>\n",
                            "    </tr>\n",
                            "    <tr>\n",
                            "      <th>996</th>\n",
                            "      <td>0.117958</td>\n",
                            "      <td>2.413434</td>\n",
                            "      <td>2.413434</td>\n",
                            "      <td>2.5</td>\n",
                            "    </tr>\n",
                            "    <tr>\n",
                            "      <th>997</th>\n",
                            "      <td>0.090229</td>\n",
                            "      <td>2.598580</td>\n",
                            "      <td>2.598580</td>\n",
                            "      <td>3.0</td>\n",
                            "    </tr>\n",
                            "    <tr>\n",
                            "      <th>998</th>\n",
                            "      <td>0.585508</td>\n",
                            "      <td>2.239545</td>\n",
                            "      <td>2.239545</td>\n",
                            "      <td>2.5</td>\n",
                            "    </tr>\n",
                            "    <tr>\n",
                            "      <th>999</th>\n",
                            "      <td>0.050015</td>\n",
                            "      <td>0.879659</td>\n",
                            "      <td>0.879659</td>\n",
                            "      <td>1.0</td>\n",
                            "    </tr>\n",
                            "  </tbody>\n",
                            "</table>\n",
                            "<p>1000 rows × 4 columns</p>\n",
                            "</div>"
                        ],
                        "text/plain": [
                            "       lambda          t  rcensored  icensored\n",
                            "0    0.737717   0.761881   0.761881        1.0\n",
                            "1    0.010485  12.564622   5.000000       13.0\n",
                            "2    0.502081   1.107216   1.107216        1.5\n",
                            "3    0.690761   1.193429   1.193429        1.5\n",
                            "4    0.345083   0.812329   0.812329        1.0\n",
                            "..        ...        ...        ...        ...\n",
                            "995  0.362410   2.615255   2.615255        3.0\n",
                            "996  0.117958   2.413434   2.413434        2.5\n",
                            "997  0.090229   2.598580   2.598580        3.0\n",
                            "998  0.585508   2.239545   2.239545        2.5\n",
                            "999  0.050015   0.879659   0.879659        1.0\n",
                            "\n",
                            "[1000 rows x 4 columns]"
                        ]
                    },
                    "execution_count": 252,
                    "metadata": {},
                    "output_type": "execute_result"
                }
            ],
            "source": [
                "Data"
            ]
        },
        {
            "cell_type": "code",
            "execution_count": null,
            "metadata": {},
            "outputs": [],
            "source": [
                "# Model 2. Formulas from lectures.\n",
                "class WG_C6(GenericLikelihoodModel):\n",
                "    def loglike(self, params):\n",
                "        t, _ = self.endog, self.exog        \n",
                "        c, gamma, alpha = np.exp(params)\n",
                "        fwg = (c * gamma * t ** (c - 1) * alpha ** gamma) / (t * (alpha + (t) ** c) ** (gamma + 1) )\n",
                "        return np.sum(np.log(fwg))"
            ]
        },
        {
            "cell_type": "code",
            "execution_count": null,
            "metadata": {},
            "outputs": [
                {
                    "name": "stdout",
                    "output_type": "stream",
                    "text": [
                        "Optimization terminated successfully.\n",
                        "         Current function value: 2.313726\n",
                        "         Iterations: 14\n",
                        "         Function evaluations: 16\n",
                        "         Gradient evaluations: 16\n"
                    ]
                },
                {
                    "data": {
                        "text/html": [
                            "<table class=\"simpletable\">\n",
                            "<caption>WG_C6 Results</caption>\n",
                            "<tr>\n",
                            "  <th>Dep. Variable:</th>             <td>y</td>         <th>  Log-Likelihood:    </th> <td> -2313.7</td>\n",
                            "</tr>\n",
                            "<tr>\n",
                            "  <th>Model:</th>                   <td>WG_C6</td>       <th>  AIC:               </th> <td>   4639.</td>\n",
                            "</tr>\n",
                            "<tr>\n",
                            "  <th>Method:</th>           <td>Maximum Likelihood</td> <th>  BIC:               </th> <td>   4669.</td>\n",
                            "</tr>\n",
                            "<tr>\n",
                            "  <th>Date:</th>              <td>Wed, 09 Oct 2024</td>  <th>                     </th>     <td> </td>   \n",
                            "</tr>\n",
                            "<tr>\n",
                            "  <th>Time:</th>                  <td>22:51:11</td>      <th>                     </th>     <td> </td>   \n",
                            "</tr>\n",
                            "<tr>\n",
                            "  <th>No. Observations:</th>       <td>  1000</td>       <th>                     </th>     <td> </td>   \n",
                            "</tr>\n",
                            "<tr>\n",
                            "  <th>Df Residuals:</th>           <td>   997</td>       <th>                     </th>     <td> </td>   \n",
                            "</tr>\n",
                            "<tr>\n",
                            "  <th>Df Model:</th>               <td>     3</td>       <th>                     </th>     <td> </td>   \n",
                            "</tr>\n",
                            "</table>\n",
                            "<table class=\"simpletable\">\n",
                            "<tr>\n",
                            "      <td></td>         <th>coef</th>     <th>std err</th>      <th>z</th>      <th>P>|z|</th>  <th>[0.025</th>    <th>0.975]</th>  \n",
                            "</tr>\n",
                            "<tr>\n",
                            "  <th>log_c</th>     <td>    1.0697</td> <td>    0.054</td> <td>   19.718</td> <td> 0.000</td> <td>    0.963</td> <td>    1.176</td>\n",
                            "</tr>\n",
                            "<tr>\n",
                            "  <th>log_gamma</th> <td>   -0.5108</td> <td>    0.102</td> <td>   -5.028</td> <td> 0.000</td> <td>   -0.710</td> <td>   -0.312</td>\n",
                            "</tr>\n",
                            "<tr>\n",
                            "  <th>log_alpha</th> <td>    0.7431</td> <td>    0.138</td> <td>    5.394</td> <td> 0.000</td> <td>    0.473</td> <td>    1.013</td>\n",
                            "</tr>\n",
                            "</table>"
                        ],
                        "text/latex": [
                            "\\begin{center}\n",
                            "\\begin{tabular}{lclc}\n",
                            "\\toprule\n",
                            "\\textbf{Dep. Variable:}    &         y          & \\textbf{  Log-Likelihood:    } &   -2313.7   \\\\\n",
                            "\\textbf{Model:}            &       WG\\_C6       & \\textbf{  AIC:               } &     4639.   \\\\\n",
                            "\\textbf{Method:}           & Maximum Likelihood & \\textbf{  BIC:               } &     4669.   \\\\\n",
                            "\\textbf{Date:}             &  Wed, 09 Oct 2024  & \\textbf{                     } &             \\\\\n",
                            "\\textbf{Time:}             &      22:51:11      & \\textbf{                     } &             \\\\\n",
                            "\\textbf{No. Observations:} &         1000       & \\textbf{                     } &             \\\\\n",
                            "\\textbf{Df Residuals:}     &          997       & \\textbf{                     } &             \\\\\n",
                            "\\textbf{Df Model:}         &            3       & \\textbf{                     } &             \\\\\n",
                            "\\bottomrule\n",
                            "\\end{tabular}\n",
                            "\\begin{tabular}{lcccccc}\n",
                            "                    & \\textbf{coef} & \\textbf{std err} & \\textbf{z} & \\textbf{P$> |$z$|$} & \\textbf{[0.025} & \\textbf{0.975]}  \\\\\n",
                            "\\midrule\n",
                            "\\textbf{log\\_c}     &       1.0697  &        0.054     &    19.718  &         0.000        &        0.963    &        1.176     \\\\\n",
                            "\\textbf{log\\_gamma} &      -0.5108  &        0.102     &    -5.028  &         0.000        &       -0.710    &       -0.312     \\\\\n",
                            "\\textbf{log\\_alpha} &       0.7431  &        0.138     &     5.394  &         0.000        &        0.473    &        1.013     \\\\\n",
                            "\\bottomrule\n",
                            "\\end{tabular}\n",
                            "%\\caption{WG_C6 Results}\n",
                            "\\end{center}"
                        ],
                        "text/plain": [
                            "<class 'statsmodels.iolib.summary.Summary'>\n",
                            "\"\"\"\n",
                            "                                WG_C6 Results                                 \n",
                            "==============================================================================\n",
                            "Dep. Variable:                      y   Log-Likelihood:                -2313.7\n",
                            "Model:                          WG_C6   AIC:                             4639.\n",
                            "Method:            Maximum Likelihood   BIC:                             4669.\n",
                            "Date:                Wed, 09 Oct 2024                                         \n",
                            "Time:                        22:51:11                                         \n",
                            "No. Observations:                1000                                         \n",
                            "Df Residuals:                     997                                         \n",
                            "Df Model:                           3                                         \n",
                            "==============================================================================\n",
                            "                 coef    std err          z      P>|z|      [0.025      0.975]\n",
                            "------------------------------------------------------------------------------\n",
                            "log_c          1.0697      0.054     19.718      0.000       0.963       1.176\n",
                            "log_gamma     -0.5108      0.102     -5.028      0.000      -0.710      -0.312\n",
                            "log_alpha      0.7431      0.138      5.394      0.000       0.473       1.013\n",
                            "==============================================================================\n",
                            "\"\"\""
                        ]
                    },
                    "execution_count": 256,
                    "metadata": {},
                    "output_type": "execute_result"
                }
            ],
            "source": [
                "Model6 = WG_C6(Data['icensored'].values).fit(start_params=-np.random.random(3), method=\"bfgs\")\n",
                "Model6.summary(xname=[\"log_c\", \"log_gamma\", \"log_alpha\"])"
            ]
        },
        {
            "cell_type": "code",
            "execution_count": null,
            "metadata": {},
            "outputs": [],
            "source": [
                "class WG_C_p3(GenericLikelihoodModel):\n",
                "    def loglike(self, params):\n",
                "        t, _ = self.endog, self.exog\n",
                "        c, gamma, alpha = np.exp(params[0:3])\n",
                "        F1 = 1 - (alpha/(alpha+(t - 0.5)**c))**gamma\n",
                "        F2 = 1 - (alpha/(alpha+(t)**c))**gamma\n",
                "\n",
                "        interval_here = F2 - F1\n",
                "        intervalll = np.clip(interval_here, 1e-10, None)\n",
                "        return np.sum(np.log(intervalll))"
            ]
        },
        {
            "cell_type": "code",
            "execution_count": null,
            "metadata": {},
            "outputs": [
                {
                    "name": "stdout",
                    "output_type": "stream",
                    "text": [
                        "Optimization terminated successfully.\n",
                        "         Current function value: 2.419111\n",
                        "         Iterations: 16\n",
                        "         Function evaluations: 18\n",
                        "         Gradient evaluations: 18\n",
                        "                               WG_C_p3 Results                                \n",
                        "==============================================================================\n",
                        "Dep. Variable:              icensored   Log-Likelihood:                -2419.1\n",
                        "Model:                        WG_C_p3   AIC:                             4850.\n",
                        "Method:            Maximum Likelihood   BIC:                             4880.\n",
                        "Date:                Wed, 09 Oct 2024                                         \n",
                        "Time:                        22:58:19                                         \n",
                        "No. Observations:                1000                                         \n",
                        "Df Residuals:                     997                                         \n",
                        "Df Model:                           3                                         \n",
                        "==============================================================================\n",
                        "                 coef    std err          z      P>|z|      [0.025      0.975]\n",
                        "------------------------------------------------------------------------------\n",
                        "log_c          0.7387      0.060     12.395      0.000       0.622       0.856\n",
                        "log_gamma     -0.1551      0.123     -1.258      0.208      -0.397       0.086\n",
                        "log_alpha      0.5375      0.167      3.216      0.001       0.210       0.865\n",
                        "==============================================================================\n"
                    ]
                }
            ],
            "source": [
                "Model5 = WG_C_p3(Data['icensored']).fit(start_params=-np.random.random(3), method=\"bfgs\")\n",
                "print(Model5.summary(xname=[\"log_c\", \"log_gamma\", \"log_alpha\"]))"
            ]
        },
        {
            "cell_type": "code",
            "execution_count": null,
            "metadata": {},
            "outputs": [
                {
                    "data": {
                        "image/png": "[encoded data removed]",
                        "text/plain": [
                            "<Figure size 640x480 with 1 Axes>"
                        ]
                    },
                    "metadata": {},
                    "output_type": "display_data"
                }
            ],
            "source": [
                "t = np.linspace(0.01, 30, 1000)\n",
                "\n",
                "# What's needed to plot for Model 2: \n",
                "c2, gamma2, alpha2 = np.exp(Model6.params[0:3])\n",
                "pdf_WG = (c2 * gamma2 * (t ** (c2)) * (alpha2 ** gamma2)) / (t * (alpha2 + (t) ** c2) ** (gamma2 + 1) )\n",
                "# or simply plug in formula for Weibull distribution\n",
                "\n",
                "# What's needed to plot for Model 3: \n",
                "c3, gamma3, alpha3 = np.exp(Model5.params[0:3])\n",
                "pdf_WG3 = (c3 * gamma3 * (t ** (c3)) * (alpha3 ** gamma3)) / (t * (alpha3 + (t) ** c3) ** (gamma3 + 1) )\n",
                "\n",
                "plt.hist(Data['t'], bins = 50, density = True, label = 't')\n",
                "plt.plot(t,pdf_WG,marker=\"o\", label = 'Weibull-Gamma (not censored)')\n",
                "plt.plot(t, pdf_WG3, marker='o', label = 'Weibull-Gamma (censored)')\n",
                "plt.legend()\n",
                "plt.show()"
            ]
        }
    ],
    "metadata": {
        "kernelspec": {
            "display_name": "Python 3 (ipykernel)",
            "language": "python",
            "name": "python3"
        },
        "language_info": {
            "codemirror_mode": {
                "name": "ipython",
                "version": 3
            },
            "file_extension": ".py",
            "mimetype": "text/x-python",
            "name": "python",
            "nbconvert_exporter": "python",
            "pygments_lexer": "ipython3",
            "version": "3.9.13"
        }
    },
    "nbformat": 4,
    "nbformat_minor": 2
}
