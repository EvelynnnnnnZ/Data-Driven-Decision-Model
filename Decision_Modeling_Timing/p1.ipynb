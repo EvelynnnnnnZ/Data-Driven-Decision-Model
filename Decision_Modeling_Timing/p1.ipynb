{
    "cells": [
        {
            "cell_type": "code",
            "execution_count": 1,
            "metadata": {},
            "outputs": [],
            "source": [
                "import pandas as pd \n",
                "import numpy as np\n",
                "import matplotlib.pyplot as plt\n",
                "import scipy.stats as spst\n",
                "\n",
                "from statsmodels.base.model import GenericLikelihoodModel\n",
                "from statsmodels.tools.tools import add_constant\n",
                "from statsmodels.formula.api import poisson, negativebinomial\n",
                "\n",
                "import warnings\n",
                "warnings.filterwarnings('ignore')"
            ]
        },
        {
            "attachments": {},
            "cell_type": "markdown",
            "metadata": {},
            "source": [
                "# Setup\n",
                "\n",
                "In this problem, we will look at a dataset from [NYC OpenData](https://data.cityofnewyork.us/City-Government/Parking-Violations-Issued-Fiscal-Year-2014/jt7v-77mi). This dataset reports the number of parking violations issued in two boroughs of NYC on a given day. The columns of this dataset are as follows:\n",
                "\n",
                "* **`StreetCode1`**, **`StreetCode2`**, **`StreetCode3`**. These three columns together serve as an identifier for where the ticket was issued.\n",
                "\n",
                "* **`Violation County`**:  This identifies the borough where the ticket was issued. \"BX\" stands for the Bronx, and \"K\" stands for Brooklyn.\n",
                "\n",
                "* **`NViolations`**: This identifies how many tickets were issued in the area. Note that all entries have at least 1 violation; in other words, only areas with at least 1 violation are recorded."
            ]
        },
        {
            "cell_type": "code",
            "execution_count": 2,
            "metadata": {},
            "outputs": [
                {
                    "data": {
                        "text/html": [
                            "<div>\n",
                            "<style scoped>\n",
                            "    .dataframe tbody tr th:only-of-type {\n",
                            "        vertical-align: middle;\n",
                            "    }\n",
                            "\n",
                            "    .dataframe tbody tr th {\n",
                            "        vertical-align: top;\n",
                            "    }\n",
                            "\n",
                            "    .dataframe thead th {\n",
                            "        text-align: right;\n",
                            "    }\n",
                            "</style>\n",
                            "<table border=\"1\" class=\"dataframe\">\n",
                            "  <thead>\n",
                            "    <tr style=\"text-align: right;\">\n",
                            "      <th></th>\n",
                            "      <th>StreetCode1</th>\n",
                            "      <th>StreetCode2</th>\n",
                            "      <th>StreetCode3</th>\n",
                            "      <th>Violation County</th>\n",
                            "      <th>NViolations</th>\n",
                            "    </tr>\n",
                            "  </thead>\n",
                            "  <tbody>\n",
                            "    <tr>\n",
                            "      <th>0</th>\n",
                            "      <td>0</td>\n",
                            "      <td>9980</td>\n",
                            "      <td>0</td>\n",
                            "      <td>K</td>\n",
                            "      <td>1</td>\n",
                            "    </tr>\n",
                            "    <tr>\n",
                            "      <th>1</th>\n",
                            "      <td>0</td>\n",
                            "      <td>12140</td>\n",
                            "      <td>0</td>\n",
                            "      <td>BX</td>\n",
                            "      <td>1</td>\n",
                            "    </tr>\n",
                            "    <tr>\n",
                            "      <th>2</th>\n",
                            "      <td>0</td>\n",
                            "      <td>13430</td>\n",
                            "      <td>0</td>\n",
                            "      <td>K</td>\n",
                            "      <td>1</td>\n",
                            "    </tr>\n",
                            "    <tr>\n",
                            "      <th>3</th>\n",
                            "      <td>0</td>\n",
                            "      <td>26820</td>\n",
                            "      <td>0</td>\n",
                            "      <td>BX</td>\n",
                            "      <td>1</td>\n",
                            "    </tr>\n",
                            "    <tr>\n",
                            "      <th>4</th>\n",
                            "      <td>0</td>\n",
                            "      <td>28410</td>\n",
                            "      <td>0</td>\n",
                            "      <td>BX</td>\n",
                            "      <td>1</td>\n",
                            "    </tr>\n",
                            "  </tbody>\n",
                            "</table>\n",
                            "</div>"
                        ],
                        "text/plain": [
                            "   StreetCode1  StreetCode2  StreetCode3 Violation County  NViolations\n",
                            "0            0         9980            0                K            1\n",
                            "1            0        12140            0               BX            1\n",
                            "2            0        13430            0                K            1\n",
                            "3            0        26820            0               BX            1\n",
                            "4            0        28410            0               BX            1"
                        ]
                    },
                    "execution_count": 2,
                    "metadata": {},
                    "output_type": "execute_result"
                }
            ],
            "source": [
                "data = pd.read_csv('Parking_violation_Unit.csv')\n",
                "data.head()"
            ]
        },
        {
            "attachments": {},
            "cell_type": "markdown",
            "metadata": {},
            "source": [
                "# Part 1 [6 pts]\n",
                "\n",
                "One way to account for the lack of data with 0 counts is to modify the likelihood of each observation used to compute MLE. The  **zero-truncated** likelihood of $y_i$ is\n",
                "\n",
                "$$\\frac{P(y_i)}{P(y>0)} = \\frac{P(y_i)}{1-P(y=0)} = \\frac{PMF_{Poisson}(y_i|\\lambda)}{1-PMF_{Poisson}(y=0|\\lambda)}.$$\n",
                "\n",
                "This proportionally changes the likelihood everywhere so that $y=0$ is accounted for.\n",
                "\n",
                "Perform the following tasks:\n",
                "\n",
                "* Define a new column **Brooklyn**, which takes on value 1 if **Violation County** is K and 0 if **Violation County** is BX.\n",
                "\n",
                "* Estimate a Poisson model by regressing **NViolations** on **Brooklyn** using the zero-truncated likelihood. You will need to define a new `GenericLikelihoodModel` that computes the likelihood above.\n",
                "\n",
                "* Show the summary of the model."
            ]
        },
        {
            "cell_type": "code",
            "execution_count": 3,
            "metadata": {},
            "outputs": [
                {
                    "name": "stdout",
                    "output_type": "stream",
                    "text": [
                        "['K' 'BX']\n"
                    ]
                }
            ],
            "source": [
                "# I'm running everything locally\n",
                "print(data['Violation County'].unique())\n",
                "# so we check if Violation County only have the two situations as mentioned, K and BX"
            ]
        },
        {
            "cell_type": "code",
            "execution_count": 4,
            "metadata": {},
            "outputs": [
                {
                    "data": {
                        "text/html": [
                            "<div>\n",
                            "<style scoped>\n",
                            "    .dataframe tbody tr th:only-of-type {\n",
                            "        vertical-align: middle;\n",
                            "    }\n",
                            "\n",
                            "    .dataframe tbody tr th {\n",
                            "        vertical-align: top;\n",
                            "    }\n",
                            "\n",
                            "    .dataframe thead th {\n",
                            "        text-align: right;\n",
                            "    }\n",
                            "</style>\n",
                            "<table border=\"1\" class=\"dataframe\">\n",
                            "  <thead>\n",
                            "    <tr style=\"text-align: right;\">\n",
                            "      <th></th>\n",
                            "      <th>StreetCode1</th>\n",
                            "      <th>StreetCode2</th>\n",
                            "      <th>StreetCode3</th>\n",
                            "      <th>Violation County</th>\n",
                            "      <th>NViolations</th>\n",
                            "      <th>Brooklyn</th>\n",
                            "    </tr>\n",
                            "  </thead>\n",
                            "  <tbody>\n",
                            "    <tr>\n",
                            "      <th>0</th>\n",
                            "      <td>0</td>\n",
                            "      <td>9980</td>\n",
                            "      <td>0</td>\n",
                            "      <td>K</td>\n",
                            "      <td>1</td>\n",
                            "      <td>1</td>\n",
                            "    </tr>\n",
                            "    <tr>\n",
                            "      <th>1</th>\n",
                            "      <td>0</td>\n",
                            "      <td>12140</td>\n",
                            "      <td>0</td>\n",
                            "      <td>BX</td>\n",
                            "      <td>1</td>\n",
                            "      <td>0</td>\n",
                            "    </tr>\n",
                            "    <tr>\n",
                            "      <th>2</th>\n",
                            "      <td>0</td>\n",
                            "      <td>13430</td>\n",
                            "      <td>0</td>\n",
                            "      <td>K</td>\n",
                            "      <td>1</td>\n",
                            "      <td>1</td>\n",
                            "    </tr>\n",
                            "    <tr>\n",
                            "      <th>3</th>\n",
                            "      <td>0</td>\n",
                            "      <td>26820</td>\n",
                            "      <td>0</td>\n",
                            "      <td>BX</td>\n",
                            "      <td>1</td>\n",
                            "      <td>0</td>\n",
                            "    </tr>\n",
                            "    <tr>\n",
                            "      <th>4</th>\n",
                            "      <td>0</td>\n",
                            "      <td>28410</td>\n",
                            "      <td>0</td>\n",
                            "      <td>BX</td>\n",
                            "      <td>1</td>\n",
                            "      <td>0</td>\n",
                            "    </tr>\n",
                            "  </tbody>\n",
                            "</table>\n",
                            "</div>"
                        ],
                        "text/plain": [
                            "   StreetCode1  StreetCode2  StreetCode3 Violation County  NViolations  \\\n",
                            "0            0         9980            0                K            1   \n",
                            "1            0        12140            0               BX            1   \n",
                            "2            0        13430            0                K            1   \n",
                            "3            0        26820            0               BX            1   \n",
                            "4            0        28410            0               BX            1   \n",
                            "\n",
                            "   Brooklyn  \n",
                            "0         1  \n",
                            "1         0  \n",
                            "2         1  \n",
                            "3         0  \n",
                            "4         0  "
                        ]
                    },
                    "execution_count": 4,
                    "metadata": {},
                    "output_type": "execute_result"
                }
            ],
            "source": [
                "data['Brooklyn'] = data['Violation County'].apply(lambda x: 1 if x == 'K' else 0)\n",
                "data.head()"
            ]
        },
        {
            "cell_type": "code",
            "execution_count": 5,
            "metadata": {},
            "outputs": [],
            "source": [
                "# mimic codes from lecture\n",
                "class PoissonMix(GenericLikelihoodModel):\n",
                "    def loglike(self, params):\n",
                "        X, y = self.exog, self.endog\n",
                "        lambda1 = np.exp(np.dot(X, params))\n",
                "        pmfy = spst.poisson.pmf(y,lambda1)\n",
                "        pmf0 = spst.poisson.pmf(0,lambda1)\n",
                "        ztl = pmfy/(1-pmf0)\n",
                "        ll = np.log(ztl)\n",
                "        # Same as log1 - log2.\n",
                "        \n",
                "        return np.sum(ll)"
            ]
        },
        {
            "cell_type": "code",
            "execution_count": 6,
            "metadata": {},
            "outputs": [
                {
                    "name": "stdout",
                    "output_type": "stream",
                    "text": [
                        "Optimization terminated successfully.\n",
                        "         Current function value: 1.111589\n",
                        "         Iterations: 34\n",
                        "         Function evaluations: 68\n"
                    ]
                }
            ],
            "source": [
                "X = data['Brooklyn']\n",
                "X = add_constant(X)\n",
                "Model1 = PoissonMix(data['NViolations'], X).fit()"
            ]
        },
        {
            "cell_type": "code",
            "execution_count": 7,
            "metadata": {},
            "outputs": [
                {
                    "name": "stdout",
                    "output_type": "stream",
                    "text": [
                        "                              PoissonMix Results                              \n",
                        "==============================================================================\n",
                        "Dep. Variable:            NViolations   Log-Likelihood:                -1757.4\n",
                        "Model:                     PoissonMix   AIC:                             3519.\n",
                        "Method:            Maximum Likelihood   BIC:                             3530.\n",
                        "Date:                Mon, 11 Nov 2024                                         \n",
                        "Time:                        15:03:48                                         \n",
                        "No. Observations:                1581                                         \n",
                        "Df Residuals:                    1579                                         \n",
                        "Df Model:                           1                                         \n",
                        "==============================================================================\n",
                        "                 coef    std err          z      P>|z|      [0.025      0.975]\n",
                        "------------------------------------------------------------------------------\n",
                        "const         -0.2650      0.069     -3.828      0.000      -0.401      -0.129\n",
                        "Brooklyn       0.1490      0.079      1.876      0.061      -0.007       0.305\n",
                        "==============================================================================\n"
                    ]
                }
            ],
            "source": [
                "print(Model1.summary())"
            ]
        },
        {
            "attachments": {},
            "cell_type": "markdown",
            "metadata": {},
            "source": [
                "# Part 2 [8 pts]\n",
                "\n",
                "Perform the following tasks using your estimated model. For all analyses, we will only be looking at areas in Brooklyn (**Brooklyn** $=1$).\n",
                "\n",
                "* Use a bar chart to plot the PMF of the model that you estimated over the range 0 to 10. Compute $E(y)$.\n",
                "\n",
                "* Use a bar chart to plot the conditional distribution $P(y|y>0)$. In other words, these are the zero-truncated likelihoods. Numerically compute $E(y|y>0)$ (hint: recall the basic definition of expectation of a discrete distribution).\n",
                "\n",
                "* Which probabilities are larger for $y \\neq 0$, $P(y)$ or $P(y|y>0)$? Give a brief, intuitive explanation for your observations.\n"
            ]
        },
        {
            "cell_type": "code",
            "execution_count": 8,
            "metadata": {},
            "outputs": [
                {
                    "data": {
                        "text/plain": [
                            "array([-0.2649888 ,  0.14899973])"
                        ]
                    },
                    "execution_count": 8,
                    "metadata": {},
                    "output_type": "execute_result"
                }
            ],
            "source": [
                "Model1.params"
            ]
        },
        {
            "cell_type": "code",
            "execution_count": 9,
            "metadata": {},
            "outputs": [
                {
                    "name": "stdout",
                    "output_type": "stream",
                    "text": [
                        "-0.26498880339534786 0.14899972999977434\n"
                    ]
                }
            ],
            "source": [
                "beta0, beta1=Model1.params\n",
                "print(beta0, beta1)\n",
                "lambdaB = np.exp(beta0+beta1)\n",
                "y_list = np.arange(0, 11) # range 0 to 10\n",
                "pmfyHere = spst.poisson.pmf(y_list, lambdaB)"
            ]
        },
        {
            "cell_type": "code",
            "execution_count": 10,
            "metadata": {},
            "outputs": [
                {
                    "name": "stdout",
                    "output_type": "stream",
                    "text": [
                        "0.8904849532211466\n",
                        "E(y):  0.8904849188822807\n"
                    ]
                }
            ],
            "source": [
                "print(lambdaB)\n",
                "print('E(y): ', np.sum(y_list * pmfyHere))"
            ]
        },
        {
            "cell_type": "code",
            "execution_count": 11,
            "metadata": {},
            "outputs": [
                {
                    "data": {
                        "image/png": "[encoded data removed]",
                        "text/plain": [
                            "<Figure size 640x480 with 1 Axes>"
                        ]
                    },
                    "metadata": {},
                    "output_type": "display_data"
                }
            ],
            "source": [
                "plt.bar(y_list, pmfyHere)\n",
                "plt.show()"
            ]
        },
        {
            "cell_type": "code",
            "execution_count": 12,
            "metadata": {},
            "outputs": [
                {
                    "data": {
                        "text/plain": [
                            "array([4.10456652e-01, 3.65505473e-01, 1.62738562e-01, 4.83054136e-02,\n",
                            "       1.07538110e-02, 1.91522137e-03, 2.84245969e-04, 3.61595370e-05,\n",
                            "       4.02494045e-06, 3.98238767e-07, 3.54625630e-08])"
                        ]
                    },
                    "execution_count": 12,
                    "metadata": {},
                    "output_type": "execute_result"
                }
            ],
            "source": [
                "pmfyHere"
            ]
        },
        {
            "cell_type": "code",
            "execution_count": 13,
            "metadata": {},
            "outputs": [],
            "source": [
                "pmfTL = pmfyHere[1:] / (1-pmfyHere[0]) \n",
                "# I understand this question is telling us starting we should apply the function for y>0 so doing [1:]"
            ]
        },
        {
            "cell_type": "code",
            "execution_count": 14,
            "metadata": {},
            "outputs": [
                {
                    "data": {
                        "image/png": "[encoded data removed]",
                        "text/plain": [
                            "<Figure size 640x480 with 1 Axes>"
                        ]
                    },
                    "metadata": {},
                    "output_type": "display_data"
                }
            ],
            "source": [
                "plt.bar(y_list[1:], pmfTL) # As we want for y > 0\n",
                "plt.show()"
            ]
        },
        {
            "cell_type": "code",
            "execution_count": 15,
            "metadata": {},
            "outputs": [
                {
                    "name": "stdout",
                    "output_type": "stream",
                    "text": [
                        "E(y|y>0):  1.5104655530597226\n"
                    ]
                }
            ],
            "source": [
                "print('E(y|y>0): ', np.sum(y_list[1:] * pmfTL))"
            ]
        },
        {
            "cell_type": "markdown",
            "metadata": {},
            "source": [
                "We can see for our case here, $P(y|y>0)$ is larger. Probably because for $P(y|y>0)$, the total probability mass is distributed over y > 0, thus increased each P (for y > 0). (Or that is we excludes case for y = 0 here, normalizing the distribution over y > 0 would thus gives larger P.) Better for cases with the missing observation of 0."
            ]
        },
        {
            "attachments": {},
            "cell_type": "markdown",
            "metadata": {},
            "source": [
                "# Part 3 [8 pts]\n",
                "\n",
                "Let's now estimate a NBD model using zero-truncated likelihoods. Again, you will need to define a new `GenericLikelihoodModel` that computes the likelihood as defined in Part 1, this time using the PMF of the negative binomial distribution rather than Poisson.\n",
                "\n",
                "After estimating the model:\n",
                "\n",
                "* Show the summary along with appropriate names for the parameters.\n",
                "\n",
                "* Compute and print $E(y)$ for areas in Brooklyn. How does $E(y)$ for the NBD model compare to $E(y)$ for the Poisson model?\n",
                "\n"
            ]
        },
        {
            "cell_type": "code",
            "execution_count": 16,
            "metadata": {},
            "outputs": [],
            "source": [
                "class NBDZeroTruncated(GenericLikelihoodModel):\n",
                "    def loglike(self, params):\n",
                "        X, y = self.exog, self.endog\n",
                "        gamma = np.exp(params[0])\n",
                "        alpha = np.exp(params[1]) / np.exp(X@params[2:])\n",
                "        pmfy = spst.nbinom.logpmf(y, n=gamma, p=alpha/(1+alpha))\n",
                "        pmf0 = spst.nbinom.pmf(0, n=gamma, p=alpha/(1+alpha))\n",
                "        ll = pmfy - np.log(1 - pmf0)\n",
                "        \n",
                "        return np.sum(ll)"
            ]
        },
        {
            "cell_type": "code",
            "execution_count": 17,
            "metadata": {},
            "outputs": [
                {
                    "name": "stdout",
                    "output_type": "stream",
                    "text": [
                        "         Current function value: 0.901288\n",
                        "         Iterations: 26\n",
                        "         Function evaluations: 66\n",
                        "         Gradient evaluations: 55\n",
                        "                           NBDZeroTruncated Results                           \n",
                        "==============================================================================\n",
                        "Dep. Variable:            NViolations   Log-Likelihood:                -1424.9\n",
                        "Model:               NBDZeroTruncated   AIC:                             2854.\n",
                        "Method:            Maximum Likelihood   BIC:                             2865.\n",
                        "Date:                Mon, 11 Nov 2024                                         \n",
                        "Time:                        15:03:49                                         \n",
                        "No. Observations:                1581                                         \n",
                        "Df Residuals:                    1580                                         \n",
                        "Df Model:                           0                                         \n",
                        "==============================================================================\n",
                        "                 coef    std err          z      P>|z|      [0.025      0.975]\n",
                        "------------------------------------------------------------------------------\n",
                        "log_gamma    -11.3865     41.108     -0.277      0.782     -91.957      69.184\n",
                        "log_alpha      0.0273      0.120      0.227      0.820      -0.208       0.263\n",
                        "Brooklyn       0.1849      0.159      1.164      0.244      -0.126       0.496\n",
                        "==============================================================================\n"
                    ]
                }
            ],
            "source": [
                "X = data['Brooklyn']\n",
                "Model3 = NBDZeroTruncated(data['NViolations'], X).fit(start_params=np.zeros(3), method=\"bfgs\")\n",
                "print(Model3.summary(xname=[\"log_gamma\", \"log_alpha\", \"Brooklyn\"]))"
            ]
        },
        {
            "cell_type": "code",
            "execution_count": 18,
            "metadata": {},
            "outputs": [
                {
                    "name": "stdout",
                    "output_type": "stream",
                    "text": [
                        "[-11.38646967   0.02729484   0.18487183]\n"
                    ]
                }
            ],
            "source": [
                "print(Model3.params)"
            ]
        },
        {
            "cell_type": "code",
            "execution_count": 20,
            "metadata": {},
            "outputs": [
                {
                    "name": "stdout",
                    "output_type": "stream",
                    "text": [
                        "1.3284764937612022e-05\n"
                    ]
                }
            ],
            "source": [
                "gammahat = np.exp(Model3.params[0])\n",
                "alphahat = np.exp(Model3.params[1])\n",
                "print(gammahat / (alphahat / np.exp(Model3.params[2])))"
            ]
        },
        {
            "cell_type": "markdown",
            "metadata": {},
            "source": [
                "We can see the E(y) for the NBD model is much smaller than the E(y) for the Poisson model. (assuming we're only asked to compare which one is larger)"
            ]
        },
        {
            "attachments": {},
            "cell_type": "markdown",
            "metadata": {},
            "source": [
                "# Part 4 [8 pts]\n",
                "\n",
                "Perform the following tasks using your estimated model. For all analyses, we will only be looking at areas in Brooklyn (**Brooklyn** $=1$).\n",
                "\n",
                "* Overlay two line plots on one figure showing the distributions of the following over the range 0 to 10: a) $P(\\hat\\lambda|y=5)$, the likelihoods of $\\hat\\lambda$ conditioning on observing 5 violations, and b) $P(\\hat\\lambda|y=5,y=1)$, the likelihoods of $\\hat\\lambda$ conditioning on observing 5 violations followed by another observation of 1 violation. Please provide a legend to label each plot.\n",
                "\n",
                "* Compute and print out the expectations a) $E(\\hat \\lambda|y=5)$, and b) $E(\\hat \\lambda|y=5,y=1)$. Briefly explain how the expectations change with each new observation, starting from $E(\\hat\\lambda)$ (no observations).\n",
                "\n",
                "* Display a bar chart showing the PMF of the number of violations given the two observations above: $P(\\hat y | y=5,y=1)$."
            ]
        },
        {
            "cell_type": "code",
            "execution_count": 21,
            "metadata": {},
            "outputs": [
                {
                    "name": "stdout",
                    "output_type": "stream",
                    "text": [
                        "E(lambda|y=5) = 2.696570800568614\n",
                        "E(lambda|y=5,y=1) = 2.102161075108111\n"
                    ]
                },
                {
                    "data": {
                        "image/png": "[encoded data removed]",
                        "text/plain": [
                            "<Figure size 640x480 with 1 Axes>"
                        ]
                    },
                    "metadata": {},
                    "output_type": "display_data"
                }
            ],
            "source": [
                "alphahat_i = alphahat / np.exp(Model3.params[2])\n",
                "xvalues = np.arange(0,10,.1)\n",
                "\n",
                "gammahat += 5\n",
                "alphahat_i += 1\n",
                "print(\"E(lambda|y=5) =\", gammahat/alphahat_i)\n",
                "plt.plot(xvalues, spst.gamma.pdf(xvalues, a=gammahat, scale=1/alphahat_i), label='yhat|5')\n",
                "\n",
                "gammahat += 1\n",
                "alphahat_i += 1\n",
                "print(\"E(lambda|y=5,y=1) =\", gammahat/alphahat_i)\n",
                "plt.plot(xvalues, spst.gamma.pdf(xvalues, a=gammahat, scale=1/alphahat_i), label='yhat|5,1')\n",
                "\n",
                "plt.legend()\n",
                "plt.show()"
            ]
        },
        {
            "cell_type": "code",
            "execution_count": 22,
            "metadata": {},
            "outputs": [
                {
                    "data": {
                        "image/png": "[encoded data removed]",
                        "text/plain": [
                            "<Figure size 640x480 with 1 Axes>"
                        ]
                    },
                    "metadata": {},
                    "output_type": "display_data"
                }
            ],
            "source": [
                "plt.bar(range(10), spst.nbinom.pmf(range(10), n=gammahat, p=alphahat_i/(alphahat_i+1)))\n",
                "plt.show()"
            ]
        },
        {
            "cell_type": "markdown",
            "metadata": {},
            "source": [
                "After the first observation, expected value jumps to 2.7, so it is moving toward the observation value of 5 from the original expectation of 0. Then after observing 1, it moves back somewhat toward an expected value 2.1. We can see the expectation get smaller with the new observations. This might because the increasing number of observation. The expectation adjust based on the new observations, like getting lower if the new observation suggest lower, and higher on the other side."
            ]
        }
    ],
    "metadata": {
        "kernelspec": {
            "display_name": "Python 3 (ipykernel)",
            "language": "python",
            "name": "python3"
        },
        "language_info": {
            "codemirror_mode": {
                "name": "ipython",
                "version": 3
            },
            "file_extension": ".py",
            "mimetype": "text/x-python",
            "name": "python",
            "nbconvert_exporter": "python",
            "pygments_lexer": "ipython3",
            "version": "3.9.13"
        }
    },
    "nbformat": 4,
    "nbformat_minor": 2
}
