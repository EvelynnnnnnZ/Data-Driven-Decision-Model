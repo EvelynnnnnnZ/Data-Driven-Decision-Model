{
    "cells": [
        {
            "cell_type": "code",
            "execution_count": 1,
            "metadata": {},
            "outputs": [],
            "source": [
                "from statsmodels.formula.api import ols\n",
                "import pandas as pd\n",
                "import numpy as np"
            ]
        },
        {
            "attachments": {},
            "cell_type": "markdown",
            "metadata": {},
            "source": [
                "# Setup\n",
                "\n",
                "In this problem, you will look at a data set tracking properties sold in NYC over a 12-month period. This may be of interest to potential sellers and real estate agents deciding how to price new sales. Some of the relevant columns in this data set are as follows:\n",
                "\n",
                "* RESIDENTIAL_UNITS, COMMERCIAL_UNITS, TOTAL_UNITS\n",
                "* LAND_SQUARE_FEET, GROSS_SQUARE_FEET\n",
                "* YEAR_BUILT\n",
                "* SALE_PRICE\n",
                "\n",
                "We will treat Sale Price as the outcome variable and some of the other columns as predictors. The CSV file contains missing data, so we will clean it up by replacing those instances with `nan`s, which `ols` will then drop from consideration."
            ]
        },
        {
            "cell_type": "code",
            "execution_count": 2,
            "metadata": {},
            "outputs": [
                {
                    "data": {
                        "text/html": [
                            "<div>\n",
                            "<style scoped>\n",
                            "    .dataframe tbody tr th:only-of-type {\n",
                            "        vertical-align: middle;\n",
                            "    }\n",
                            "\n",
                            "    .dataframe tbody tr th {\n",
                            "        vertical-align: top;\n",
                            "    }\n",
                            "\n",
                            "    .dataframe thead th {\n",
                            "        text-align: right;\n",
                            "    }\n",
                            "</style>\n",
                            "<table border=\"1\" class=\"dataframe\">\n",
                            "  <thead>\n",
                            "    <tr style=\"text-align: right;\">\n",
                            "      <th></th>\n",
                            "      <th>BOROUGH</th>\n",
                            "      <th>NEIGHBORHOOD</th>\n",
                            "      <th>RESIDENTIAL_UNITS</th>\n",
                            "      <th>COMMERCIAL_UNITS</th>\n",
                            "      <th>TOTAL_UNITS</th>\n",
                            "      <th>LAND_SQUARE_FEET</th>\n",
                            "      <th>GROSS_SQUARE_FEET</th>\n",
                            "      <th>YEAR_BUILT</th>\n",
                            "      <th>SALE_PRICE</th>\n",
                            "    </tr>\n",
                            "  </thead>\n",
                            "  <tbody>\n",
                            "    <tr>\n",
                            "      <th>0</th>\n",
                            "      <td>3</td>\n",
                            "      <td>DOWNTOWN-METROTECH</td>\n",
                            "      <td>0</td>\n",
                            "      <td>2</td>\n",
                            "      <td>2</td>\n",
                            "      <td>20704.0</td>\n",
                            "      <td>206000.0</td>\n",
                            "      <td>1967.0</td>\n",
                            "      <td>138000000.0</td>\n",
                            "    </tr>\n",
                            "    <tr>\n",
                            "      <th>1</th>\n",
                            "      <td>3</td>\n",
                            "      <td>DOWNTOWN-METROTECH</td>\n",
                            "      <td>0</td>\n",
                            "      <td>2</td>\n",
                            "      <td>2</td>\n",
                            "      <td>20600.0</td>\n",
                            "      <td>164115.0</td>\n",
                            "      <td>1926.0</td>\n",
                            "      <td>98463962.0</td>\n",
                            "    </tr>\n",
                            "    <tr>\n",
                            "      <th>2</th>\n",
                            "      <td>4</td>\n",
                            "      <td>JACKSON HEIGHTS</td>\n",
                            "      <td>198</td>\n",
                            "      <td>0</td>\n",
                            "      <td>198</td>\n",
                            "      <td>59000.0</td>\n",
                            "      <td>194450.0</td>\n",
                            "      <td>1940.0</td>\n",
                            "      <td>85091472.0</td>\n",
                            "    </tr>\n",
                            "    <tr>\n",
                            "      <th>3</th>\n",
                            "      <td>1</td>\n",
                            "      <td>MIDTOWN WEST</td>\n",
                            "      <td>8</td>\n",
                            "      <td>3</td>\n",
                            "      <td>11</td>\n",
                            "      <td>2008.0</td>\n",
                            "      <td>8950.0</td>\n",
                            "      <td>1920.0</td>\n",
                            "      <td>83000000.0</td>\n",
                            "    </tr>\n",
                            "    <tr>\n",
                            "      <th>4</th>\n",
                            "      <td>3</td>\n",
                            "      <td>FORT GREENE</td>\n",
                            "      <td>0</td>\n",
                            "      <td>3</td>\n",
                            "      <td>3</td>\n",
                            "      <td>12415.0</td>\n",
                            "      <td>36000.0</td>\n",
                            "      <td>1920.0</td>\n",
                            "      <td>68000000.0</td>\n",
                            "    </tr>\n",
                            "  </tbody>\n",
                            "</table>\n",
                            "</div>"
                        ],
                        "text/plain": [
                            "   BOROUGH        NEIGHBORHOOD  RESIDENTIAL_UNITS  COMMERCIAL_UNITS  \\\n",
                            "0        3  DOWNTOWN-METROTECH                  0                 2   \n",
                            "1        3  DOWNTOWN-METROTECH                  0                 2   \n",
                            "2        4     JACKSON HEIGHTS                198                 0   \n",
                            "3        1        MIDTOWN WEST                  8                 3   \n",
                            "4        3         FORT GREENE                  0                 3   \n",
                            "\n",
                            "   TOTAL_UNITS  LAND_SQUARE_FEET  GROSS_SQUARE_FEET  YEAR_BUILT   SALE_PRICE  \n",
                            "0            2           20704.0           206000.0      1967.0  138000000.0  \n",
                            "1            2           20600.0           164115.0      1926.0   98463962.0  \n",
                            "2          198           59000.0           194450.0      1940.0   85091472.0  \n",
                            "3           11            2008.0             8950.0      1920.0   83000000.0  \n",
                            "4            3           12415.0            36000.0      1920.0   68000000.0  "
                        ]
                    },
                    "execution_count": 2,
                    "metadata": {},
                    "output_type": "execute_result"
                }
            ],
            "source": [
                "Sales = pd.read_csv(\"NYC_Sales_Samples.csv\")\n",
                "Sales = Sales.replace(\"-\",np.nan)\\\n",
                "    .astype({\"LAND_SQUARE_FEET\":\"float\", \"GROSS_SQUARE_FEET\":\"float\", \"YEAR_BUILT\":\"float\"})\n",
                "Sales.head()"
            ]
        },
        {
            "attachments": {},
            "cell_type": "markdown",
            "metadata": {},
            "source": [
                "# Part 1 [6 pts]\n",
                "\n",
                "* Regress SALE_PRICE on all columns except for BOROUGH and NEIGHBORHOOD, and show the summary table.\n",
                "\n",
                "* Briefly explain what we can infer about the three UNITS coefficients from their standard errors and $p$-values.\n",
                "\n",
                "* Check the estimator covariance matrix using `.cov_params()`. What does this tell you about the three UNITS predictors? How do your observations relate to the standard errors observed above?"
            ]
        },
        {
            "cell_type": "code",
            "execution_count": 3,
            "metadata": {},
            "outputs": [
                {
                    "data": {
                        "text/html": [
                            "<table class=\"simpletable\">\n",
                            "<caption>OLS Regression Results</caption>\n",
                            "<tr>\n",
                            "  <th>Dep. Variable:</th>       <td>SALE_PRICE</td>    <th>  R-squared:         </th> <td>   0.643</td> \n",
                            "</tr>\n",
                            "<tr>\n",
                            "  <th>Model:</th>                   <td>OLS</td>       <th>  Adj. R-squared:    </th> <td>   0.641</td> \n",
                            "</tr>\n",
                            "<tr>\n",
                            "  <th>Method:</th>             <td>Least Squares</td>  <th>  F-statistic:       </th> <td>   436.9</td> \n",
                            "</tr>\n",
                            "<tr>\n",
                            "  <th>Date:</th>             <td>Mon, 23 Sep 2024</td> <th>  Prob (F-statistic):</th> <td>2.94e-321</td>\n",
                            "</tr>\n",
                            "<tr>\n",
                            "  <th>Time:</th>                 <td>02:08:19</td>     <th>  Log-Likelihood:    </th> <td> -24228.</td> \n",
                            "</tr>\n",
                            "<tr>\n",
                            "  <th>No. Observations:</th>      <td>  1463</td>      <th>  AIC:               </th> <td>4.847e+04</td>\n",
                            "</tr>\n",
                            "<tr>\n",
                            "  <th>Df Residuals:</th>          <td>  1456</td>      <th>  BIC:               </th> <td>4.851e+04</td>\n",
                            "</tr>\n",
                            "<tr>\n",
                            "  <th>Df Model:</th>              <td>     6</td>      <th>                     </th>     <td> </td>    \n",
                            "</tr>\n",
                            "<tr>\n",
                            "  <th>Covariance Type:</th>      <td>nonrobust</td>    <th>                     </th>     <td> </td>    \n",
                            "</tr>\n",
                            "</table>\n",
                            "<table class=\"simpletable\">\n",
                            "<tr>\n",
                            "          <td></td>             <th>coef</th>     <th>std err</th>      <th>t</th>      <th>P>|t|</th>  <th>[0.025</th>    <th>0.975]</th>  \n",
                            "</tr>\n",
                            "<tr>\n",
                            "  <th>Intercept</th>         <td> 1.064e+07</td> <td> 6.22e+06</td> <td>    1.711</td> <td> 0.087</td> <td>-1.56e+06</td> <td> 2.28e+07</td>\n",
                            "</tr>\n",
                            "<tr>\n",
                            "  <th>RESIDENTIAL_UNITS</th> <td> 6.058e+04</td> <td> 3.78e+06</td> <td>    0.016</td> <td> 0.987</td> <td>-7.36e+06</td> <td> 7.48e+06</td>\n",
                            "</tr>\n",
                            "<tr>\n",
                            "  <th>COMMERCIAL_UNITS</th>  <td> 4.564e+05</td> <td> 3.78e+06</td> <td>    0.121</td> <td> 0.904</td> <td>-6.95e+06</td> <td> 7.87e+06</td>\n",
                            "</tr>\n",
                            "<tr>\n",
                            "  <th>TOTAL_UNITS</th>       <td>-2559.8198</td> <td> 3.78e+06</td> <td>   -0.001</td> <td> 0.999</td> <td>-7.42e+06</td> <td> 7.41e+06</td>\n",
                            "</tr>\n",
                            "<tr>\n",
                            "  <th>LAND_SQUARE_FEET</th>  <td> -130.4779</td> <td>    8.360</td> <td>  -15.607</td> <td> 0.000</td> <td> -146.878</td> <td> -114.078</td>\n",
                            "</tr>\n",
                            "<tr>\n",
                            "  <th>GROSS_SQUARE_FEET</th> <td>  479.4103</td> <td>   12.446</td> <td>   38.520</td> <td> 0.000</td> <td>  454.997</td> <td>  503.824</td>\n",
                            "</tr>\n",
                            "<tr>\n",
                            "  <th>YEAR_BUILT</th>        <td>-5419.6597</td> <td> 3201.255</td> <td>   -1.693</td> <td> 0.091</td> <td>-1.17e+04</td> <td>  859.905</td>\n",
                            "</tr>\n",
                            "</table>\n",
                            "<table class=\"simpletable\">\n",
                            "<tr>\n",
                            "  <th>Omnibus:</th>       <td>1739.187</td> <th>  Durbin-Watson:     </th>  <td>   1.295</td>  \n",
                            "</tr>\n",
                            "<tr>\n",
                            "  <th>Prob(Omnibus):</th>  <td> 0.000</td>  <th>  Jarque-Bera (JB):  </th> <td>2691575.505</td>\n",
                            "</tr>\n",
                            "<tr>\n",
                            "  <th>Skew:</th>           <td> 5.065</td>  <th>  Prob(JB):          </th>  <td>    0.00</td>  \n",
                            "</tr>\n",
                            "<tr>\n",
                            "  <th>Kurtosis:</th>       <td>212.885</td> <th>  Cond. No.          </th>  <td>1.04e+06</td>  \n",
                            "</tr>\n",
                            "</table><br/><br/>Notes:<br/>[1] Standard Errors assume that the covariance matrix of the errors is correctly specified.<br/>[2] The condition number is large, 1.04e+06. This might indicate that there are<br/>strong multicollinearity or other numerical problems."
                        ],
                        "text/latex": [
                            "\\begin{center}\n",
                            "\\begin{tabular}{lclc}\n",
                            "\\toprule\n",
                            "\\textbf{Dep. Variable:}      &   SALE\\_PRICE    & \\textbf{  R-squared:         } &      0.643   \\\\\n",
                            "\\textbf{Model:}              &       OLS        & \\textbf{  Adj. R-squared:    } &      0.641   \\\\\n",
                            "\\textbf{Method:}             &  Least Squares   & \\textbf{  F-statistic:       } &      436.9   \\\\\n",
                            "\\textbf{Date:}               & Mon, 23 Sep 2024 & \\textbf{  Prob (F-statistic):} &  2.94e-321   \\\\\n",
                            "\\textbf{Time:}               &     02:08:19     & \\textbf{  Log-Likelihood:    } &    -24228.   \\\\\n",
                            "\\textbf{No. Observations:}   &        1463      & \\textbf{  AIC:               } &  4.847e+04   \\\\\n",
                            "\\textbf{Df Residuals:}       &        1456      & \\textbf{  BIC:               } &  4.851e+04   \\\\\n",
                            "\\textbf{Df Model:}           &           6      & \\textbf{                     } &              \\\\\n",
                            "\\textbf{Covariance Type:}    &    nonrobust     & \\textbf{                     } &              \\\\\n",
                            "\\bottomrule\n",
                            "\\end{tabular}\n",
                            "\\begin{tabular}{lcccccc}\n",
                            "                             & \\textbf{coef} & \\textbf{std err} & \\textbf{t} & \\textbf{P$> |$t$|$} & \\textbf{[0.025} & \\textbf{0.975]}  \\\\\n",
                            "\\midrule\n",
                            "\\textbf{Intercept}           &    1.064e+07  &     6.22e+06     &     1.711  &         0.087        &    -1.56e+06    &     2.28e+07     \\\\\n",
                            "\\textbf{RESIDENTIAL\\_UNITS}  &    6.058e+04  &     3.78e+06     &     0.016  &         0.987        &    -7.36e+06    &     7.48e+06     \\\\\n",
                            "\\textbf{COMMERCIAL\\_UNITS}   &    4.564e+05  &     3.78e+06     &     0.121  &         0.904        &    -6.95e+06    &     7.87e+06     \\\\\n",
                            "\\textbf{TOTAL\\_UNITS}        &   -2559.8198  &     3.78e+06     &    -0.001  &         0.999        &    -7.42e+06    &     7.41e+06     \\\\\n",
                            "\\textbf{LAND\\_SQUARE\\_FEET}  &    -130.4779  &        8.360     &   -15.607  &         0.000        &     -146.878    &     -114.078     \\\\\n",
                            "\\textbf{GROSS\\_SQUARE\\_FEET} &     479.4103  &       12.446     &    38.520  &         0.000        &      454.997    &      503.824     \\\\\n",
                            "\\textbf{YEAR\\_BUILT}         &   -5419.6597  &     3201.255     &    -1.693  &         0.091        &    -1.17e+04    &      859.905     \\\\\n",
                            "\\bottomrule\n",
                            "\\end{tabular}\n",
                            "\\begin{tabular}{lclc}\n",
                            "\\textbf{Omnibus:}       & 1739.187 & \\textbf{  Durbin-Watson:     } &      1.295   \\\\\n",
                            "\\textbf{Prob(Omnibus):} &   0.000  & \\textbf{  Jarque-Bera (JB):  } & 2691575.505  \\\\\n",
                            "\\textbf{Skew:}          &   5.065  & \\textbf{  Prob(JB):          } &       0.00   \\\\\n",
                            "\\textbf{Kurtosis:}      & 212.885  & \\textbf{  Cond. No.          } &   1.04e+06   \\\\\n",
                            "\\bottomrule\n",
                            "\\end{tabular}\n",
                            "%\\caption{OLS Regression Results}\n",
                            "\\end{center}\n",
                            "\n",
                            "Notes: \\newline\n",
                            " [1] Standard Errors assume that the covariance matrix of the errors is correctly specified. \\newline\n",
                            " [2] The condition number is large, 1.04e+06. This might indicate that there are \\newline\n",
                            " strong multicollinearity or other numerical problems."
                        ],
                        "text/plain": [
                            "<class 'statsmodels.iolib.summary.Summary'>\n",
                            "\"\"\"\n",
                            "                            OLS Regression Results                            \n",
                            "==============================================================================\n",
                            "Dep. Variable:             SALE_PRICE   R-squared:                       0.643\n",
                            "Model:                            OLS   Adj. R-squared:                  0.641\n",
                            "Method:                 Least Squares   F-statistic:                     436.9\n",
                            "Date:                Mon, 23 Sep 2024   Prob (F-statistic):          2.94e-321\n",
                            "Time:                        02:08:19   Log-Likelihood:                -24228.\n",
                            "No. Observations:                1463   AIC:                         4.847e+04\n",
                            "Df Residuals:                    1456   BIC:                         4.851e+04\n",
                            "Df Model:                           6                                         \n",
                            "Covariance Type:            nonrobust                                         \n",
                            "=====================================================================================\n",
                            "                        coef    std err          t      P>|t|      [0.025      0.975]\n",
                            "-------------------------------------------------------------------------------------\n",
                            "Intercept          1.064e+07   6.22e+06      1.711      0.087   -1.56e+06    2.28e+07\n",
                            "RESIDENTIAL_UNITS  6.058e+04   3.78e+06      0.016      0.987   -7.36e+06    7.48e+06\n",
                            "COMMERCIAL_UNITS   4.564e+05   3.78e+06      0.121      0.904   -6.95e+06    7.87e+06\n",
                            "TOTAL_UNITS       -2559.8198   3.78e+06     -0.001      0.999   -7.42e+06    7.41e+06\n",
                            "LAND_SQUARE_FEET   -130.4779      8.360    -15.607      0.000    -146.878    -114.078\n",
                            "GROSS_SQUARE_FEET   479.4103     12.446     38.520      0.000     454.997     503.824\n",
                            "YEAR_BUILT        -5419.6597   3201.255     -1.693      0.091   -1.17e+04     859.905\n",
                            "==============================================================================\n",
                            "Omnibus:                     1739.187   Durbin-Watson:                   1.295\n",
                            "Prob(Omnibus):                  0.000   Jarque-Bera (JB):          2691575.505\n",
                            "Skew:                           5.065   Prob(JB):                         0.00\n",
                            "Kurtosis:                     212.885   Cond. No.                     1.04e+06\n",
                            "==============================================================================\n",
                            "\n",
                            "Notes:\n",
                            "[1] Standard Errors assume that the covariance matrix of the errors is correctly specified.\n",
                            "[2] The condition number is large, 1.04e+06. This might indicate that there are\n",
                            "strong multicollinearity or other numerical problems.\n",
                            "\"\"\""
                        ]
                    },
                    "execution_count": 3,
                    "metadata": {},
                    "output_type": "execute_result"
                }
            ],
            "source": [
                "model = ols(\"SALE_PRICE ~ RESIDENTIAL_UNITS+COMMERCIAL_UNITS+TOTAL_UNITS+LAND_SQUARE_FEET+GROSS_SQUARE_FEET+YEAR_BUILT\", Sales).fit()\n",
                "model.summary()"
            ]
        },
        {
            "cell_type": "code",
            "execution_count": 4,
            "metadata": {},
            "outputs": [
                {
                    "data": {
                        "text/html": [
                            "<div>\n",
                            "<style scoped>\n",
                            "    .dataframe tbody tr th:only-of-type {\n",
                            "        vertical-align: middle;\n",
                            "    }\n",
                            "\n",
                            "    .dataframe tbody tr th {\n",
                            "        vertical-align: top;\n",
                            "    }\n",
                            "\n",
                            "    .dataframe thead th {\n",
                            "        text-align: right;\n",
                            "    }\n",
                            "</style>\n",
                            "<table border=\"1\" class=\"dataframe\">\n",
                            "  <thead>\n",
                            "    <tr style=\"text-align: right;\">\n",
                            "      <th></th>\n",
                            "      <th>Intercept</th>\n",
                            "      <th>RESIDENTIAL_UNITS</th>\n",
                            "      <th>COMMERCIAL_UNITS</th>\n",
                            "      <th>TOTAL_UNITS</th>\n",
                            "      <th>LAND_SQUARE_FEET</th>\n",
                            "      <th>GROSS_SQUARE_FEET</th>\n",
                            "      <th>YEAR_BUILT</th>\n",
                            "    </tr>\n",
                            "  </thead>\n",
                            "  <tbody>\n",
                            "    <tr>\n",
                            "      <th>Intercept</th>\n",
                            "      <td>3.865444e+13</td>\n",
                            "      <td>5.922712e+11</td>\n",
                            "      <td>5.483410e+11</td>\n",
                            "      <td>-5.991510e+11</td>\n",
                            "      <td>1.610496e+06</td>\n",
                            "      <td>4.932353e+06</td>\n",
                            "      <td>-1.990003e+10</td>\n",
                            "    </tr>\n",
                            "    <tr>\n",
                            "      <th>RESIDENTIAL_UNITS</th>\n",
                            "      <td>5.922712e+11</td>\n",
                            "      <td>1.429827e+13</td>\n",
                            "      <td>1.427213e+13</td>\n",
                            "      <td>-1.429807e+13</td>\n",
                            "      <td>3.923127e+04</td>\n",
                            "      <td>5.645356e+05</td>\n",
                            "      <td>-3.094810e+08</td>\n",
                            "    </tr>\n",
                            "    <tr>\n",
                            "      <th>COMMERCIAL_UNITS</th>\n",
                            "      <td>5.483410e+11</td>\n",
                            "      <td>1.427213e+13</td>\n",
                            "      <td>1.427419e+13</td>\n",
                            "      <td>-1.427204e+13</td>\n",
                            "      <td>6.759491e+04</td>\n",
                            "      <td>1.506333e+05</td>\n",
                            "      <td>-2.880316e+08</td>\n",
                            "    </tr>\n",
                            "    <tr>\n",
                            "      <th>TOTAL_UNITS</th>\n",
                            "      <td>-5.991510e+11</td>\n",
                            "      <td>-1.429807e+13</td>\n",
                            "      <td>-1.427204e+13</td>\n",
                            "      <td>1.429820e+13</td>\n",
                            "      <td>-9.821683e+03</td>\n",
                            "      <td>-6.895942e+05</td>\n",
                            "      <td>3.127789e+08</td>\n",
                            "    </tr>\n",
                            "    <tr>\n",
                            "      <th>LAND_SQUARE_FEET</th>\n",
                            "      <td>1.610496e+06</td>\n",
                            "      <td>3.923127e+04</td>\n",
                            "      <td>6.759491e+04</td>\n",
                            "      <td>-9.821683e+03</td>\n",
                            "      <td>6.989607e+01</td>\n",
                            "      <td>-4.729162e+01</td>\n",
                            "      <td>-9.185072e+02</td>\n",
                            "    </tr>\n",
                            "    <tr>\n",
                            "      <th>GROSS_SQUARE_FEET</th>\n",
                            "      <td>4.932353e+06</td>\n",
                            "      <td>5.645356e+05</td>\n",
                            "      <td>1.506333e+05</td>\n",
                            "      <td>-6.895942e+05</td>\n",
                            "      <td>-4.729162e+01</td>\n",
                            "      <td>1.548966e+02</td>\n",
                            "      <td>-2.531605e+03</td>\n",
                            "    </tr>\n",
                            "    <tr>\n",
                            "      <th>YEAR_BUILT</th>\n",
                            "      <td>-1.990003e+10</td>\n",
                            "      <td>-3.094810e+08</td>\n",
                            "      <td>-2.880316e+08</td>\n",
                            "      <td>3.127789e+08</td>\n",
                            "      <td>-9.185072e+02</td>\n",
                            "      <td>-2.531605e+03</td>\n",
                            "      <td>1.024804e+07</td>\n",
                            "    </tr>\n",
                            "  </tbody>\n",
                            "</table>\n",
                            "</div>"
                        ],
                        "text/plain": [
                            "                      Intercept  RESIDENTIAL_UNITS  COMMERCIAL_UNITS  \\\n",
                            "Intercept          3.865444e+13       5.922712e+11      5.483410e+11   \n",
                            "RESIDENTIAL_UNITS  5.922712e+11       1.429827e+13      1.427213e+13   \n",
                            "COMMERCIAL_UNITS   5.483410e+11       1.427213e+13      1.427419e+13   \n",
                            "TOTAL_UNITS       -5.991510e+11      -1.429807e+13     -1.427204e+13   \n",
                            "LAND_SQUARE_FEET   1.610496e+06       3.923127e+04      6.759491e+04   \n",
                            "GROSS_SQUARE_FEET  4.932353e+06       5.645356e+05      1.506333e+05   \n",
                            "YEAR_BUILT        -1.990003e+10      -3.094810e+08     -2.880316e+08   \n",
                            "\n",
                            "                    TOTAL_UNITS  LAND_SQUARE_FEET  GROSS_SQUARE_FEET  \\\n",
                            "Intercept         -5.991510e+11      1.610496e+06       4.932353e+06   \n",
                            "RESIDENTIAL_UNITS -1.429807e+13      3.923127e+04       5.645356e+05   \n",
                            "COMMERCIAL_UNITS  -1.427204e+13      6.759491e+04       1.506333e+05   \n",
                            "TOTAL_UNITS        1.429820e+13     -9.821683e+03      -6.895942e+05   \n",
                            "LAND_SQUARE_FEET  -9.821683e+03      6.989607e+01      -4.729162e+01   \n",
                            "GROSS_SQUARE_FEET -6.895942e+05     -4.729162e+01       1.548966e+02   \n",
                            "YEAR_BUILT         3.127789e+08     -9.185072e+02      -2.531605e+03   \n",
                            "\n",
                            "                     YEAR_BUILT  \n",
                            "Intercept         -1.990003e+10  \n",
                            "RESIDENTIAL_UNITS -3.094810e+08  \n",
                            "COMMERCIAL_UNITS  -2.880316e+08  \n",
                            "TOTAL_UNITS        3.127789e+08  \n",
                            "LAND_SQUARE_FEET  -9.185072e+02  \n",
                            "GROSS_SQUARE_FEET -2.531605e+03  \n",
                            "YEAR_BUILT         1.024804e+07  "
                        ]
                    },
                    "execution_count": 4,
                    "metadata": {},
                    "output_type": "execute_result"
                }
            ],
            "source": [
                "es_cov = model.cov_params()\n",
                "es_cov"
            ]
        },
        {
            "cell_type": "code",
            "execution_count": null,
            "metadata": {},
            "outputs": [],
            "source": []
        },
        {
            "attachments": {},
            "cell_type": "markdown",
            "metadata": {},
            "source": [
                " # Analyze for question 2 and 3 \n",
                " 2. As we can see, att UNITS coeficients have relatively large std err and p value (much greater than 0.05). The large std err indicates a large uncertainty, and the large p value indicates that we can't reject null hypothesis. Combing these two we can tell that the UNUIT coefficients are not good predictors in this case, as they're not providing very meaningful information.\n",
                " 3. We can see we get a large number for the diagonal of the covariance matrix for the UNIT coefficients. This means that thses coefficients has large uncertainty. What we got for part 3 correspond with what we got for question 2. "
            ]
        },
        {
            "attachments": {},
            "cell_type": "markdown",
            "metadata": {},
            "source": [
                "# Part 2 [6 pts]\n",
                "\n",
                "* Now estimate a new model and show the summary, this time dropping RESIDENTIAL_UNITS, COMMERCIAL_UNITS and LAND_SQUARE_FEET. There should be three predictors.\n",
                "\n",
                "* Again, briefly explain what we can infer about the coefficients from their standard errors and $p$-values.\n",
                "\n",
                "* Compare the $R^2$ values of this model with the one from Part 1. Based solely on this value, which model has a better fit? Why might we prefer a model with a lower $R^2$ value?"
            ]
        },
        {
            "cell_type": "code",
            "execution_count": 8,
            "metadata": {},
            "outputs": [
                {
                    "data": {
                        "text/html": [
                            "<table class=\"simpletable\">\n",
                            "<caption>OLS Regression Results</caption>\n",
                            "<tr>\n",
                            "  <th>Dep. Variable:</th>       <td>SALE_PRICE</td>    <th>  R-squared:         </th> <td>   0.580</td> \n",
                            "</tr>\n",
                            "<tr>\n",
                            "  <th>Model:</th>                   <td>OLS</td>       <th>  Adj. R-squared:    </th> <td>   0.579</td> \n",
                            "</tr>\n",
                            "<tr>\n",
                            "  <th>Method:</th>             <td>Least Squares</td>  <th>  F-statistic:       </th> <td>   672.0</td> \n",
                            "</tr>\n",
                            "<tr>\n",
                            "  <th>Date:</th>             <td>Mon, 23 Sep 2024</td> <th>  Prob (F-statistic):</th> <td>2.21e-274</td>\n",
                            "</tr>\n",
                            "<tr>\n",
                            "  <th>Time:</th>                 <td>02:17:09</td>     <th>  Log-Likelihood:    </th> <td> -24363.</td> \n",
                            "</tr>\n",
                            "<tr>\n",
                            "  <th>No. Observations:</th>      <td>  1464</td>      <th>  AIC:               </th> <td>4.873e+04</td>\n",
                            "</tr>\n",
                            "<tr>\n",
                            "  <th>Df Residuals:</th>          <td>  1460</td>      <th>  BIC:               </th> <td>4.876e+04</td>\n",
                            "</tr>\n",
                            "<tr>\n",
                            "  <th>Df Model:</th>              <td>     3</td>      <th>                     </th>     <td> </td>    \n",
                            "</tr>\n",
                            "<tr>\n",
                            "  <th>Covariance Type:</th>      <td>nonrobust</td>    <th>                     </th>     <td> </td>    \n",
                            "</tr>\n",
                            "</table>\n",
                            "<table class=\"simpletable\">\n",
                            "<tr>\n",
                            "          <td></td>             <th>coef</th>     <th>std err</th>      <th>t</th>      <th>P>|t|</th>  <th>[0.025</th>    <th>0.975]</th>  \n",
                            "</tr>\n",
                            "<tr>\n",
                            "  <th>Intercept</th>         <td> 1.522e+07</td> <td> 6.71e+06</td> <td>    2.268</td> <td> 0.023</td> <td> 2.06e+06</td> <td> 2.84e+07</td>\n",
                            "</tr>\n",
                            "<tr>\n",
                            "  <th>TOTAL_UNITS</th>       <td> 1.132e+05</td> <td> 1.93e+04</td> <td>    5.858</td> <td> 0.000</td> <td> 7.53e+04</td> <td> 1.51e+05</td>\n",
                            "</tr>\n",
                            "<tr>\n",
                            "  <th>GROSS_SQUARE_FEET</th> <td>  396.6846</td> <td>   11.729</td> <td>   33.820</td> <td> 0.000</td> <td>  373.677</td> <td>  419.693</td>\n",
                            "</tr>\n",
                            "<tr>\n",
                            "  <th>YEAR_BUILT</th>        <td>-7927.2757</td> <td> 3455.323</td> <td>   -2.294</td> <td> 0.022</td> <td>-1.47e+04</td> <td>-1149.348</td>\n",
                            "</tr>\n",
                            "</table>\n",
                            "<table class=\"simpletable\">\n",
                            "<tr>\n",
                            "  <th>Omnibus:</th>       <td>1803.270</td> <th>  Durbin-Watson:     </th>  <td>   1.242</td>  \n",
                            "</tr>\n",
                            "<tr>\n",
                            "  <th>Prob(Omnibus):</th>  <td> 0.000</td>  <th>  Jarque-Bera (JB):  </th> <td>2001017.688</td>\n",
                            "</tr>\n",
                            "<tr>\n",
                            "  <th>Skew:</th>           <td> 5.558</td>  <th>  Prob(JB):          </th>  <td>    0.00</td>  \n",
                            "</tr>\n",
                            "<tr>\n",
                            "  <th>Kurtosis:</th>       <td>183.776</td> <th>  Cond. No.          </th>  <td>7.20e+05</td>  \n",
                            "</tr>\n",
                            "</table><br/><br/>Notes:<br/>[1] Standard Errors assume that the covariance matrix of the errors is correctly specified.<br/>[2] The condition number is large, 7.2e+05. This might indicate that there are<br/>strong multicollinearity or other numerical problems."
                        ],
                        "text/latex": [
                            "\\begin{center}\n",
                            "\\begin{tabular}{lclc}\n",
                            "\\toprule\n",
                            "\\textbf{Dep. Variable:}      &   SALE\\_PRICE    & \\textbf{  R-squared:         } &      0.580   \\\\\n",
                            "\\textbf{Model:}              &       OLS        & \\textbf{  Adj. R-squared:    } &      0.579   \\\\\n",
                            "\\textbf{Method:}             &  Least Squares   & \\textbf{  F-statistic:       } &      672.0   \\\\\n",
                            "\\textbf{Date:}               & Mon, 23 Sep 2024 & \\textbf{  Prob (F-statistic):} &  2.21e-274   \\\\\n",
                            "\\textbf{Time:}               &     02:17:09     & \\textbf{  Log-Likelihood:    } &    -24363.   \\\\\n",
                            "\\textbf{No. Observations:}   &        1464      & \\textbf{  AIC:               } &  4.873e+04   \\\\\n",
                            "\\textbf{Df Residuals:}       &        1460      & \\textbf{  BIC:               } &  4.876e+04   \\\\\n",
                            "\\textbf{Df Model:}           &           3      & \\textbf{                     } &              \\\\\n",
                            "\\textbf{Covariance Type:}    &    nonrobust     & \\textbf{                     } &              \\\\\n",
                            "\\bottomrule\n",
                            "\\end{tabular}\n",
                            "\\begin{tabular}{lcccccc}\n",
                            "                             & \\textbf{coef} & \\textbf{std err} & \\textbf{t} & \\textbf{P$> |$t$|$} & \\textbf{[0.025} & \\textbf{0.975]}  \\\\\n",
                            "\\midrule\n",
                            "\\textbf{Intercept}           &    1.522e+07  &     6.71e+06     &     2.268  &         0.023        &     2.06e+06    &     2.84e+07     \\\\\n",
                            "\\textbf{TOTAL\\_UNITS}        &    1.132e+05  &     1.93e+04     &     5.858  &         0.000        &     7.53e+04    &     1.51e+05     \\\\\n",
                            "\\textbf{GROSS\\_SQUARE\\_FEET} &     396.6846  &       11.729     &    33.820  &         0.000        &      373.677    &      419.693     \\\\\n",
                            "\\textbf{YEAR\\_BUILT}         &   -7927.2757  &     3455.323     &    -2.294  &         0.022        &    -1.47e+04    &    -1149.348     \\\\\n",
                            "\\bottomrule\n",
                            "\\end{tabular}\n",
                            "\\begin{tabular}{lclc}\n",
                            "\\textbf{Omnibus:}       & 1803.270 & \\textbf{  Durbin-Watson:     } &      1.242   \\\\\n",
                            "\\textbf{Prob(Omnibus):} &   0.000  & \\textbf{  Jarque-Bera (JB):  } & 2001017.688  \\\\\n",
                            "\\textbf{Skew:}          &   5.558  & \\textbf{  Prob(JB):          } &       0.00   \\\\\n",
                            "\\textbf{Kurtosis:}      & 183.776  & \\textbf{  Cond. No.          } &   7.20e+05   \\\\\n",
                            "\\bottomrule\n",
                            "\\end{tabular}\n",
                            "%\\caption{OLS Regression Results}\n",
                            "\\end{center}\n",
                            "\n",
                            "Notes: \\newline\n",
                            " [1] Standard Errors assume that the covariance matrix of the errors is correctly specified. \\newline\n",
                            " [2] The condition number is large, 7.2e+05. This might indicate that there are \\newline\n",
                            " strong multicollinearity or other numerical problems."
                        ],
                        "text/plain": [
                            "<class 'statsmodels.iolib.summary.Summary'>\n",
                            "\"\"\"\n",
                            "                            OLS Regression Results                            \n",
                            "==============================================================================\n",
                            "Dep. Variable:             SALE_PRICE   R-squared:                       0.580\n",
                            "Model:                            OLS   Adj. R-squared:                  0.579\n",
                            "Method:                 Least Squares   F-statistic:                     672.0\n",
                            "Date:                Mon, 23 Sep 2024   Prob (F-statistic):          2.21e-274\n",
                            "Time:                        02:17:09   Log-Likelihood:                -24363.\n",
                            "No. Observations:                1464   AIC:                         4.873e+04\n",
                            "Df Residuals:                    1460   BIC:                         4.876e+04\n",
                            "Df Model:                           3                                         \n",
                            "Covariance Type:            nonrobust                                         \n",
                            "=====================================================================================\n",
                            "                        coef    std err          t      P>|t|      [0.025      0.975]\n",
                            "-------------------------------------------------------------------------------------\n",
                            "Intercept          1.522e+07   6.71e+06      2.268      0.023    2.06e+06    2.84e+07\n",
                            "TOTAL_UNITS        1.132e+05   1.93e+04      5.858      0.000    7.53e+04    1.51e+05\n",
                            "GROSS_SQUARE_FEET   396.6846     11.729     33.820      0.000     373.677     419.693\n",
                            "YEAR_BUILT        -7927.2757   3455.323     -2.294      0.022   -1.47e+04   -1149.348\n",
                            "==============================================================================\n",
                            "Omnibus:                     1803.270   Durbin-Watson:                   1.242\n",
                            "Prob(Omnibus):                  0.000   Jarque-Bera (JB):          2001017.688\n",
                            "Skew:                           5.558   Prob(JB):                         0.00\n",
                            "Kurtosis:                     183.776   Cond. No.                     7.20e+05\n",
                            "==============================================================================\n",
                            "\n",
                            "Notes:\n",
                            "[1] Standard Errors assume that the covariance matrix of the errors is correctly specified.\n",
                            "[2] The condition number is large, 7.2e+05. This might indicate that there are\n",
                            "strong multicollinearity or other numerical problems.\n",
                            "\"\"\""
                        ]
                    },
                    "execution_count": 8,
                    "metadata": {},
                    "output_type": "execute_result"
                }
            ],
            "source": [
                "model2 = ols(\"SALE_PRICE ~ TOTAL_UNITS+GROSS_SQUARE_FEET+YEAR_BUILT\", Sales).fit()\n",
                "model2.summary()"
            ]
        },
        {
            "cell_type": "code",
            "execution_count": 10,
            "metadata": {},
            "outputs": [
                {
                    "data": {
                        "text/plain": [
                            "0.5799924259745989"
                        ]
                    },
                    "execution_count": 10,
                    "metadata": {},
                    "output_type": "execute_result"
                }
            ],
            "source": [
                "r_sqr2 = model2.rsquared\n",
                "r_sqr2"
            ]
        },
        {
            "cell_type": "code",
            "execution_count": 11,
            "metadata": {},
            "outputs": [
                {
                    "data": {
                        "text/plain": [
                            "0.6429042391249843"
                        ]
                    },
                    "execution_count": 11,
                    "metadata": {},
                    "output_type": "execute_result"
                }
            ],
            "source": [
                "r_sqr = model.rsquared\n",
                "r_sqr"
            ]
        },
        {
            "attachments": {},
            "cell_type": "markdown",
            "metadata": {},
            "source": [
                "# Analysis for question 2 and 3\n",
                "1. This time with this setting, we can see the three variables all reject null hypothesis. The std err of TOTAL_UNITS also gets lower than the previous case, smaller than coefficient, meaning the new model is more reasonable than the previous one.\n",
                "2. We can see the second moddel with a lower r squred value. Solely from the value, model 1 best fit better, but we migt prefer model with lower r suqred value as we want to avoid possible overfitting, or like this case though model 2 with lower r squired value, the stad err and p value of it indicates we might prefer model 2 here. "
            ]
        },
        {
            "attachments": {},
            "cell_type": "markdown",
            "metadata": {},
            "source": [
                "# Part 3 [6 pts]\n",
                "\n",
                "* Create arrays for the matrix $X$ and vector $\\mathbf y$ from Part 2. Drop all rows containing `nan` values, and don't forget to add the column of 1s to $X$.\n",
                "\n",
                "* Use the OLS solution formula to compute and show $\\hat\\beta$ (these should be identical to the results in Part 2). Then use these to compute the predictions $\\mathbf{\\hat y}$ and the sum of squared residuals. You may find `numpy.linalg.inv()` useful. \n",
                "\n",
                "* Compute and show the sample estimate of the error variance $\\hat{\\sigma}^2$ and the sample estimate of the estimator covariance matrix $\\hat{Var}(\\hat\\beta)$.  "
            ]
        },
        {
            "cell_type": "code",
            "execution_count": 30,
            "metadata": {},
            "outputs": [
                {
                    "data": {
                        "text/plain": [
                            "array([[2.00000e+00, 2.06000e+05, 1.96700e+03, 1.00000e+00],\n",
                            "       [2.00000e+00, 1.64115e+05, 1.92600e+03, 1.00000e+00],\n",
                            "       [1.98000e+02, 1.94450e+05, 1.94000e+03, 1.00000e+00],\n",
                            "       ...,\n",
                            "       [1.00000e+00, 1.83600e+03, 1.92500e+03, 1.00000e+00],\n",
                            "       [4.00000e+00, 3.30000e+03, 1.93100e+03, 1.00000e+00],\n",
                            "       [5.00000e+00, 2.00000e+03, 1.93100e+03, 1.00000e+00]])"
                        ]
                    },
                    "execution_count": 30,
                    "metadata": {},
                    "output_type": "execute_result"
                }
            ],
            "source": [
                "dropNa = Sales[[\"TOTAL_UNITS\", \"GROSS_SQUARE_FEET\", \"YEAR_BUILT\", \"SALE_PRICE\"]].dropna()\n",
                "X = dropNa[[\"TOTAL_UNITS\", \"GROSS_SQUARE_FEET\", \"YEAR_BUILT\"]].values\n",
                "y = dropNa[\"SALE_PRICE\"].values\n",
                "X = np.hstack((X,np.ones([X.shape[0],1], X.dtype)))\n",
                "X"
            ]
        },
        {
            "cell_type": "code",
            "execution_count": 31,
            "metadata": {},
            "outputs": [
                {
                    "data": {
                        "text/plain": [
                            "array([1.3800000e+08, 9.8463962e+07, 8.5091472e+07, ..., 1.0000000e+05,\n",
                            "       1.0000000e+05, 1.0000000e+05])"
                        ]
                    },
                    "execution_count": 31,
                    "metadata": {},
                    "output_type": "execute_result"
                }
            ],
            "source": [
                "y"
            ]
        },
        {
            "cell_type": "code",
            "execution_count": 32,
            "metadata": {},
            "outputs": [
                {
                    "data": {
                        "text/plain": [
                            "(1464, 4)"
                        ]
                    },
                    "execution_count": 32,
                    "metadata": {},
                    "output_type": "execute_result"
                }
            ],
            "source": [
                "X.shape"
            ]
        },
        {
            "cell_type": "code",
            "execution_count": 33,
            "metadata": {},
            "outputs": [
                {
                    "data": {
                        "text/plain": [
                            "(1464,)"
                        ]
                    },
                    "execution_count": 33,
                    "metadata": {},
                    "output_type": "execute_result"
                }
            ],
            "source": [
                "y.shape"
            ]
        },
        {
            "cell_type": "code",
            "execution_count": 40,
            "metadata": {},
            "outputs": [
                {
                    "name": "stdout",
                    "output_type": "stream",
                    "text": [
                        "[ 1.13193547e+05  3.96684619e+02 -7.92727573e+03  1.52215971e+07]\n",
                        "[81572064.28435203 65281947.34200311 99390328.65107743 ...\n",
                        "   803097.85910404  1675861.12807449  1273364.67125381]\n",
                        "2.441461418686264e+16\n"
                    ]
                }
            ],
            "source": [
                "# According to the lecture notes, we have the solution to OLS is:\n",
                "beta_hat = np.linalg.inv(X.T @ X) @ X.T @ y\n",
                "y_hat = X @ beta_hat\n",
                "res = y - y_hat # ****** res_i = y_i - y_hat_i\n",
                "RSS = np.sum(res ** 2)\n",
                "print(beta_hat)\n",
                "print(y_hat)\n",
                "print(RSS)"
            ]
        },
        {
            "cell_type": "code",
            "execution_count": 44,
            "metadata": {},
            "outputs": [
                {
                    "data": {
                        "text/plain": [
                            "16733799990995.64"
                        ]
                    },
                    "execution_count": 44,
                    "metadata": {},
                    "output_type": "execute_result"
                }
            ],
            "source": [
                "# Based on the lecture notes we have:\n",
                "n = X.shape[0]\n",
                "k = X.shape[1]\n",
                "var = RSS / (n - k - 1)\n",
                "var"
            ]
        },
        {
            "cell_type": "code",
            "execution_count": 45,
            "metadata": {},
            "outputs": [
                {
                    "data": {
                        "text/plain": [
                            "array([[ 3.73639555e+08, -1.25623507e+05,  4.28802876e+06,\n",
                            "        -8.81070537e+09],\n",
                            "       [-1.25623507e+05,  1.37669905e+02, -3.40248768e+03,\n",
                            "         6.45273661e+06],\n",
                            "       [ 4.28802876e+06, -3.40248768e+03,  1.19474416e+07,\n",
                            "        -2.32009168e+10],\n",
                            "       [-8.81070537e+09,  6.45273661e+06, -2.32009168e+10,\n",
                            "         4.50673208e+13]])"
                        ]
                    },
                    "execution_count": 45,
                    "metadata": {},
                    "output_type": "execute_result"
                }
            ],
            "source": [
                "var_b = var * np.linalg.inv(X.T @ X)\n",
                "var_b"
            ]
        }
    ],
    "metadata": {
        "kernelspec": {
            "display_name": "Python 3 (ipykernel)",
            "language": "python",
            "name": "python3"
        },
        "language_info": {
            "codemirror_mode": {
                "name": "ipython",
                "version": 3
            },
            "file_extension": ".py",
            "mimetype": "text/x-python",
            "name": "python",
            "nbconvert_exporter": "python",
            "pygments_lexer": "ipython3",
            "version": "3.9.13"
        }
    },
    "nbformat": 4,
    "nbformat_minor": 2
}
