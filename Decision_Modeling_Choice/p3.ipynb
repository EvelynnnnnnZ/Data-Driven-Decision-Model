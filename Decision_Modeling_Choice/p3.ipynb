{
    "cells": [
        {
            "cell_type": "code",
            "execution_count": 143,
            "metadata": {},
            "outputs": [],
            "source": [
                "import numpy as np \n",
                "import pandas as pd\n",
                "import matplotlib.pyplot as plt\n",
                "from statsmodels.formula.api import logit, mnlogit\n",
                "from statsmodels.tools.tools import add_constant\n",
                "from statsmodels.base.model import GenericLikelihoodModel\n",
                "from statsmodels.miscmodels.ordinal_model import OrderedModel"
            ]
        },
        {
            "attachments": {},
            "cell_type": "markdown",
            "metadata": {},
            "source": [
                "# Setting\n",
                "\n",
                "We will look at a dataset concerning maternal mortality from [Kaggle](https://www.kaggle.com/datasets/joebeachcapital/maternal-health-risk). The columns of interest are as follows:\n",
                "\n",
                "* **SystolicBP**: The upper value of the patient's blood pressure in mmHg.\n",
                "* **HeartRate**: The patient's heartbeats per minute.\n",
                "* **RiskLevel**: The patient's predicted risk of maternal mortality during pregnancy. There are three levels of increasing risk:\n",
                "*low risk*, *mid risk*, and *high risk*."
            ]
        },
        {
            "cell_type": "code",
            "execution_count": 144,
            "metadata": {},
            "outputs": [
                {
                    "data": {
                        "text/html": [
                            "<div>\n",
                            "<style scoped>\n",
                            "    .dataframe tbody tr th:only-of-type {\n",
                            "        vertical-align: middle;\n",
                            "    }\n",
                            "\n",
                            "    .dataframe tbody tr th {\n",
                            "        vertical-align: top;\n",
                            "    }\n",
                            "\n",
                            "    .dataframe thead th {\n",
                            "        text-align: right;\n",
                            "    }\n",
                            "</style>\n",
                            "<table border=\"1\" class=\"dataframe\">\n",
                            "  <thead>\n",
                            "    <tr style=\"text-align: right;\">\n",
                            "      <th></th>\n",
                            "      <th>SystolicBP</th>\n",
                            "      <th>HeartRate</th>\n",
                            "      <th>RiskLevel</th>\n",
                            "    </tr>\n",
                            "  </thead>\n",
                            "  <tbody>\n",
                            "    <tr>\n",
                            "      <th>0</th>\n",
                            "      <td>130</td>\n",
                            "      <td>86</td>\n",
                            "      <td>high risk</td>\n",
                            "    </tr>\n",
                            "    <tr>\n",
                            "      <th>1</th>\n",
                            "      <td>140</td>\n",
                            "      <td>70</td>\n",
                            "      <td>high risk</td>\n",
                            "    </tr>\n",
                            "    <tr>\n",
                            "      <th>2</th>\n",
                            "      <td>90</td>\n",
                            "      <td>80</td>\n",
                            "      <td>high risk</td>\n",
                            "    </tr>\n",
                            "    <tr>\n",
                            "      <th>3</th>\n",
                            "      <td>140</td>\n",
                            "      <td>70</td>\n",
                            "      <td>high risk</td>\n",
                            "    </tr>\n",
                            "    <tr>\n",
                            "      <th>4</th>\n",
                            "      <td>120</td>\n",
                            "      <td>76</td>\n",
                            "      <td>low risk</td>\n",
                            "    </tr>\n",
                            "    <tr>\n",
                            "      <th>...</th>\n",
                            "      <td>...</td>\n",
                            "      <td>...</td>\n",
                            "      <td>...</td>\n",
                            "    </tr>\n",
                            "    <tr>\n",
                            "      <th>1009</th>\n",
                            "      <td>120</td>\n",
                            "      <td>80</td>\n",
                            "      <td>high risk</td>\n",
                            "    </tr>\n",
                            "    <tr>\n",
                            "      <th>1010</th>\n",
                            "      <td>120</td>\n",
                            "      <td>60</td>\n",
                            "      <td>high risk</td>\n",
                            "    </tr>\n",
                            "    <tr>\n",
                            "      <th>1011</th>\n",
                            "      <td>85</td>\n",
                            "      <td>86</td>\n",
                            "      <td>high risk</td>\n",
                            "    </tr>\n",
                            "    <tr>\n",
                            "      <th>1012</th>\n",
                            "      <td>120</td>\n",
                            "      <td>70</td>\n",
                            "      <td>high risk</td>\n",
                            "    </tr>\n",
                            "    <tr>\n",
                            "      <th>1013</th>\n",
                            "      <td>120</td>\n",
                            "      <td>76</td>\n",
                            "      <td>mid risk</td>\n",
                            "    </tr>\n",
                            "  </tbody>\n",
                            "</table>\n",
                            "<p>1014 rows × 3 columns</p>\n",
                            "</div>"
                        ],
                        "text/plain": [
                            "      SystolicBP  HeartRate  RiskLevel\n",
                            "0            130         86  high risk\n",
                            "1            140         70  high risk\n",
                            "2             90         80  high risk\n",
                            "3            140         70  high risk\n",
                            "4            120         76   low risk\n",
                            "...          ...        ...        ...\n",
                            "1009         120         80  high risk\n",
                            "1010         120         60  high risk\n",
                            "1011          85         86  high risk\n",
                            "1012         120         70  high risk\n",
                            "1013         120         76   mid risk\n",
                            "\n",
                            "[1014 rows x 3 columns]"
                        ]
                    },
                    "execution_count": 144,
                    "metadata": {},
                    "output_type": "execute_result"
                }
            ],
            "source": [
                "data = pd.read_csv('maternal_mortality_risk.csv')\n",
                "data = data[[\"SystolicBP\",\"HeartRate\",\"RiskLevel\"]]\n",
                "data "
            ]
        },
        {
            "attachments": {},
            "cell_type": "markdown",
            "metadata": {},
            "source": [
                "# Part 1 [4 pts]\n",
                "\n",
                "Estimate a multinomial logit model that predicts **RiskLevel** given covariates **SystolicBP** and **HeartRate**. Treat *low risk* as the baseline option. You may use `mnlogit()` from `statsmodels`. Show the model summary."
            ]
        },
        {
            "cell_type": "code",
            "execution_count": 145,
            "metadata": {},
            "outputs": [
                {
                    "data": {
                        "text/plain": [
                            "array(['high risk', 'low risk', 'mid risk'], dtype=object)"
                        ]
                    },
                    "execution_count": 145,
                    "metadata": {},
                    "output_type": "execute_result"
                }
            ],
            "source": [
                "data['RiskLevel'].unique()"
            ]
        },
        {
            "cell_type": "code",
            "execution_count": 146,
            "metadata": {},
            "outputs": [
                {
                    "name": "stdout",
                    "output_type": "stream",
                    "text": [
                        "Optimization terminated successfully.\n",
                        "         Current function value: 0.971944\n",
                        "         Iterations 6\n"
                    ]
                },
                {
                    "data": {
                        "text/html": [
                            "<table class=\"simpletable\">\n",
                            "<caption>MNLogit Regression Results</caption>\n",
                            "<tr>\n",
                            "  <th>Dep. Variable:</th>       <td>Risk_num</td>     <th>  No. Observations:  </th>  <td>  1014</td>  \n",
                            "</tr>\n",
                            "<tr>\n",
                            "  <th>Model:</th>                <td>MNLogit</td>     <th>  Df Residuals:      </th>  <td>  1008</td>  \n",
                            "</tr>\n",
                            "<tr>\n",
                            "  <th>Method:</th>                 <td>MLE</td>       <th>  Df Model:          </th>  <td>     4</td>  \n",
                            "</tr>\n",
                            "<tr>\n",
                            "  <th>Date:</th>            <td>Tue, 22 Oct 2024</td> <th>  Pseudo R-squ.:     </th>  <td>0.1046</td>  \n",
                            "</tr>\n",
                            "<tr>\n",
                            "  <th>Time:</th>                <td>00:06:47</td>     <th>  Log-Likelihood:    </th> <td> -985.55</td> \n",
                            "</tr>\n",
                            "<tr>\n",
                            "  <th>converged:</th>             <td>True</td>       <th>  LL-Null:           </th> <td> -1100.7</td> \n",
                            "</tr>\n",
                            "<tr>\n",
                            "  <th>Covariance Type:</th>     <td>nonrobust</td>    <th>  LLR p-value:       </th> <td>1.192e-48</td>\n",
                            "</tr>\n",
                            "</table>\n",
                            "<table class=\"simpletable\">\n",
                            "<tr>\n",
                            "  <th>Risk_num=1</th>    <th>coef</th>     <th>std err</th>      <th>z</th>      <th>P>|z|</th>  <th>[0.025</th>    <th>0.975]</th>  \n",
                            "</tr>\n",
                            "<tr>\n",
                            "  <th>Intercept</th>  <td>   -5.3573</td> <td>    0.957</td> <td>   -5.595</td> <td> 0.000</td> <td>   -7.234</td> <td>   -3.481</td>\n",
                            "</tr>\n",
                            "<tr>\n",
                            "  <th>SystolicBP</th> <td>    0.0260</td> <td>    0.004</td> <td>    5.878</td> <td> 0.000</td> <td>    0.017</td> <td>    0.035</td>\n",
                            "</tr>\n",
                            "<tr>\n",
                            "  <th>HeartRate</th>  <td>    0.0315</td> <td>    0.010</td> <td>    3.139</td> <td> 0.002</td> <td>    0.012</td> <td>    0.051</td>\n",
                            "</tr>\n",
                            "<tr>\n",
                            "  <th>Risk_num=2</th>    <th>coef</th>     <th>std err</th>      <th>z</th>      <th>P>|z|</th>  <th>[0.025</th>    <th>0.975]</th>  \n",
                            "</tr>\n",
                            "<tr>\n",
                            "  <th>Intercept</th>  <td>  -14.5764</td> <td>    1.228</td> <td>  -11.869</td> <td> 0.000</td> <td>  -16.983</td> <td>  -12.169</td>\n",
                            "</tr>\n",
                            "<tr>\n",
                            "  <th>SystolicBP</th> <td>    0.0692</td> <td>    0.006</td> <td>   11.861</td> <td> 0.000</td> <td>    0.058</td> <td>    0.081</td>\n",
                            "</tr>\n",
                            "<tr>\n",
                            "  <th>HeartRate</th>  <td>    0.0829</td> <td>    0.012</td> <td>    6.748</td> <td> 0.000</td> <td>    0.059</td> <td>    0.107</td>\n",
                            "</tr>\n",
                            "</table>"
                        ],
                        "text/latex": [
                            "\\begin{center}\n",
                            "\\begin{tabular}{lclc}\n",
                            "\\toprule\n",
                            "\\textbf{Dep. Variable:}   &    Risk\\_num     & \\textbf{  No. Observations:  } &     1014    \\\\\n",
                            "\\textbf{Model:}           &     MNLogit      & \\textbf{  Df Residuals:      } &     1008    \\\\\n",
                            "\\textbf{Method:}          &       MLE        & \\textbf{  Df Model:          } &        4    \\\\\n",
                            "\\textbf{Date:}            & Tue, 22 Oct 2024 & \\textbf{  Pseudo R-squ.:     } &   0.1046    \\\\\n",
                            "\\textbf{Time:}            &     00:06:47     & \\textbf{  Log-Likelihood:    } &   -985.55   \\\\\n",
                            "\\textbf{converged:}       &       True       & \\textbf{  LL-Null:           } &   -1100.7   \\\\\n",
                            "\\textbf{Covariance Type:} &    nonrobust     & \\textbf{  LLR p-value:       } & 1.192e-48   \\\\\n",
                            "\\bottomrule\n",
                            "\\end{tabular}\n",
                            "\\begin{tabular}{ccccccc}\n",
                            "\\textbf{Risk\\_num=1} & \\textbf{coef} & \\textbf{std err} & \\textbf{z} & \\textbf{P$> |$z$|$} & \\textbf{[0.025} & \\textbf{0.975]}  \\\\\n",
                            "\\midrule\n",
                            "\\bottomrule\n",
                            "\\end{tabular}\n",
                            "\\begin{tabular}{lcccccc}\n",
                            "\\textbf{Intercept}   &      -5.3573  &        0.957     &    -5.595  &         0.000        &       -7.234    &       -3.481     \\\\\n",
                            "\\textbf{SystolicBP}  &       0.0260  &        0.004     &     5.878  &         0.000        &        0.017    &        0.035     \\\\\n",
                            "\\textbf{HeartRate}   &       0.0315  &        0.010     &     3.139  &         0.002        &        0.012    &        0.051     \\\\\n",
                            "\\bottomrule\n",
                            "\\end{tabular}\n",
                            "\\begin{tabular}{ccccccc}\n",
                            "\\textbf{Risk\\_num=2} & \\textbf{coef} & \\textbf{std err} & \\textbf{z} & \\textbf{P$> |$z$|$} & \\textbf{[0.025} & \\textbf{0.975]}  \\\\\n",
                            "\\midrule\n",
                            "\\bottomrule\n",
                            "\\end{tabular}\n",
                            "\\begin{tabular}{lcccccc}\n",
                            "\\textbf{Intercept}   &     -14.5764  &        1.228     &   -11.869  &         0.000        &      -16.983    &      -12.169     \\\\\n",
                            "\\textbf{SystolicBP}  &       0.0692  &        0.006     &    11.861  &         0.000        &        0.058    &        0.081     \\\\\n",
                            "\\textbf{HeartRate}   &       0.0829  &        0.012     &     6.748  &         0.000        &        0.059    &        0.107     \\\\\n",
                            "\\bottomrule\n",
                            "\\end{tabular}\n",
                            "%\\caption{MNLogit Regression Results}\n",
                            "\\end{center}"
                        ],
                        "text/plain": [
                            "<class 'statsmodels.iolib.summary.Summary'>\n",
                            "\"\"\"\n",
                            "                          MNLogit Regression Results                          \n",
                            "==============================================================================\n",
                            "Dep. Variable:               Risk_num   No. Observations:                 1014\n",
                            "Model:                        MNLogit   Df Residuals:                     1008\n",
                            "Method:                           MLE   Df Model:                            4\n",
                            "Date:                Tue, 22 Oct 2024   Pseudo R-squ.:                  0.1046\n",
                            "Time:                        00:06:47   Log-Likelihood:                -985.55\n",
                            "converged:                       True   LL-Null:                       -1100.7\n",
                            "Covariance Type:            nonrobust   LLR p-value:                 1.192e-48\n",
                            "==============================================================================\n",
                            "Risk_num=1       coef    std err          z      P>|z|      [0.025      0.975]\n",
                            "------------------------------------------------------------------------------\n",
                            "Intercept     -5.3573      0.957     -5.595      0.000      -7.234      -3.481\n",
                            "SystolicBP     0.0260      0.004      5.878      0.000       0.017       0.035\n",
                            "HeartRate      0.0315      0.010      3.139      0.002       0.012       0.051\n",
                            "------------------------------------------------------------------------------\n",
                            "Risk_num=2       coef    std err          z      P>|z|      [0.025      0.975]\n",
                            "------------------------------------------------------------------------------\n",
                            "Intercept    -14.5764      1.228    -11.869      0.000     -16.983     -12.169\n",
                            "SystolicBP     0.0692      0.006     11.861      0.000       0.058       0.081\n",
                            "HeartRate      0.0829      0.012      6.748      0.000       0.059       0.107\n",
                            "==============================================================================\n",
                            "\"\"\""
                        ]
                    },
                    "execution_count": 146,
                    "metadata": {},
                    "output_type": "execute_result"
                }
            ],
            "source": [
                "data['Risk_num'] = data['RiskLevel'].map({'low risk': 0, 'mid risk': 1, 'high risk': 2})\n",
                "model = mnlogit(\"Risk_num~SystolicBP + HeartRate\", data).fit()\n",
                "model.summary()"
            ]
        },
        {
            "attachments": {},
            "cell_type": "markdown",
            "metadata": {},
            "source": [
                "# Part 2 [12 pts]\n",
                "\n",
                "Suppose we assign the following costs to each risk level:\n",
                "* low risk: 100\n",
                "* medium risk: 1000\n",
                "* high risk: 5000\n",
                "\n",
                "We will also be able to implement a treatment plan to help patients lower their **SystolicBP** levels. The cost is $\\Delta^2$, where $\\Delta$ is the amount by which **SystolicBP** is reduced from the starting level.\n",
                "\n",
                "The expected cost associated with a patient is thus the weighted sum of the risk costs, where the weights are the respective probabilities of each risk level, plus the cost of the treatment plan.\n",
                "\n",
                "We implement this treatment plan for a patient who currently has **SystolicBP** $=160$ and **HeartRate** $=80$. \n",
                "\n",
                "* Compute and show the probabilities of this patient's risk levels, as well as their current expected cost. \n",
                "\n",
                "* Compute and plot the expected cost of the patient against values of **SystolicBP** *after* the treatment. For example, **SystolicBP** $=150$ would contribute an expected cost of $\\Delta^2=10^2=100$. Plot from the range $80$ to $160$.\n",
                "\n",
                "* Compute and show the optimal **SystolicBP** value that minimizes expected cost. Also compute the probabilities of the patient's risk levels, as well as the expected cost itself.\n"
            ]
        },
        {
            "cell_type": "code",
            "execution_count": 147,
            "metadata": {},
            "outputs": [
                {
                    "data": {
                        "text/html": [
                            "<div>\n",
                            "<style scoped>\n",
                            "    .dataframe tbody tr th:only-of-type {\n",
                            "        vertical-align: middle;\n",
                            "    }\n",
                            "\n",
                            "    .dataframe tbody tr th {\n",
                            "        vertical-align: top;\n",
                            "    }\n",
                            "\n",
                            "    .dataframe thead th {\n",
                            "        text-align: right;\n",
                            "    }\n",
                            "</style>\n",
                            "<table border=\"1\" class=\"dataframe\">\n",
                            "  <thead>\n",
                            "    <tr style=\"text-align: right;\">\n",
                            "      <th></th>\n",
                            "      <th>0</th>\n",
                            "      <th>1</th>\n",
                            "      <th>2</th>\n",
                            "    </tr>\n",
                            "  </thead>\n",
                            "  <tbody>\n",
                            "    <tr>\n",
                            "      <th>0</th>\n",
                            "      <td>0.036011</td>\n",
                            "      <td>0.136119</td>\n",
                            "      <td>0.82787</td>\n",
                            "    </tr>\n",
                            "  </tbody>\n",
                            "</table>\n",
                            "</div>"
                        ],
                        "text/plain": [
                            "          0         1        2\n",
                            "0  0.036011  0.136119  0.82787"
                        ]
                    },
                    "execution_count": 147,
                    "metadata": {},
                    "output_type": "execute_result"
                }
            ],
            "source": [
                "costs = {0: 100, 1: 1000, 2: 5000}\n",
                "sysBP = 160\n",
                "hr = 80\n",
                "patient_num = pd.DataFrame({\n",
                "    'SystolicBP': [sysBP],\n",
                "    'HeartRate': [hr]\n",
                "})\n",
                "pred = model.predict(patient_num)\n",
                "pred"
            ]
        },
        {
            "cell_type": "code",
            "execution_count": 148,
            "metadata": {},
            "outputs": [
                {
                    "name": "stdout",
                    "output_type": "stream",
                    "text": [
                        "Probability of Low risk: 0    0.036011\n",
                        "Name: 0, dtype: float64 \n",
                        "Probability of mid risk: 0    0.136119\n",
                        "Name: 1, dtype: float64 \n",
                        "Probability of high risk: 0    0.82787\n",
                        "Name: 2, dtype: float64\n"
                    ]
                }
            ],
            "source": [
                "print('Probability of Low risk:', pred[0], '\\nProbability of mid risk:', pred[1], '\\nProbability of high risk:', pred[2])"
            ]
        },
        {
            "cell_type": "code",
            "execution_count": 149,
            "metadata": {},
            "outputs": [
                {
                    "name": "stdout",
                    "output_type": "stream",
                    "text": [
                        "4279.069506117661\n"
                    ]
                }
            ],
            "source": [
                "exp_cost = np.sum(pred * costs)\n",
                "print(sum(exp_cost))"
            ]
        },
        {
            "cell_type": "code",
            "execution_count": 150,
            "metadata": {},
            "outputs": [],
            "source": [
                "exp_list = []\n",
                "min_exp = 100000\n",
                "optimal_sysbp = 0"
            ]
        },
        {
            "cell_type": "code",
            "execution_count": 151,
            "metadata": {},
            "outputs": [
                {
                    "name": "stdout",
                    "output_type": "stream",
                    "text": [
                        "80\n",
                        "80\n"
                    ]
                },
                {
                    "data": {
                        "image/png": "[encoded data removed]",
                        "text/plain": [
                            "<Figure size 640x480 with 1 Axes>"
                        ]
                    },
                    "metadata": {},
                    "output_type": "display_data"
                }
            ],
            "source": [
                "sysbp_list = np.arange(80, 160)\n",
                "for i in sysbp_list:\n",
                "    delta2 = (160 - i) ** 2\n",
                "    patient_num_i = pd.DataFrame({\n",
                "        'SystolicBP': [i],\n",
                "        'HeartRate': [hr]\n",
                "    })\n",
                "\n",
                "    pred_i = model.predict(patient_num_i)\n",
                "    exp_cost_i = np.sum(pred_i * costs)\n",
                "    expected_cost = sum(exp_cost_i) + delta2\n",
                "    if expected_cost < min_exp:\n",
                "        min_exp = expected_cost\n",
                "        optimal_sysbp = i\n",
                "\n",
                "    exp_list.append(expected_cost)\n",
                "\n",
                "    \n",
                "print(len(exp_list))\n",
                "print(len(sysbp_list))\n",
                "\n",
                "plt.plot(sysbp_list, exp_list)\n",
                "plt.show()\n"
            ]
        },
        {
            "cell_type": "code",
            "execution_count": 152,
            "metadata": {},
            "outputs": [
                {
                    "data": {
                        "text/plain": [
                            "(130, 3792.5663741211265)"
                        ]
                    },
                    "execution_count": 152,
                    "metadata": {},
                    "output_type": "execute_result"
                }
            ],
            "source": [
                "optimal_sysbp, min_exp"
            ]
        },
        {
            "cell_type": "code",
            "execution_count": 153,
            "metadata": {},
            "outputs": [
                {
                    "name": "stdout",
                    "output_type": "stream",
                    "text": [
                        "low, mid, high risk's probability as:            0         1         2\n",
                        "0  0.178208  0.308553  0.513238\n"
                    ]
                }
            ],
            "source": [
                "patient_num_final = pd.DataFrame({\n",
                "        'SystolicBP': [optimal_sysbp],\n",
                "        'HeartRate': [hr]\n",
                "        })\n",
                "\n",
                "pred_final = model.predict(patient_num_final)\n",
                "print(\"low, mid, high risk's probability as: \", pred_final)"
            ]
        },
        {
            "attachments": {},
            "cell_type": "markdown",
            "metadata": {},
            "source": [
                "# Part 3 [2 pts]\n",
                "\n",
                "Now estimate an ordinal logit model. You may use `OrderedModel` from `statsmodels()`. Show the model summary."
            ]
        },
        {
            "cell_type": "code",
            "execution_count": 154,
            "metadata": {},
            "outputs": [
                {
                    "name": "stdout",
                    "output_type": "stream",
                    "text": [
                        "Optimization terminated successfully.\n",
                        "         Current function value: 0.972994\n",
                        "         Iterations: 168\n",
                        "         Function evaluations: 287\n"
                    ]
                },
                {
                    "data": {
                        "text/html": [
                            "<table class=\"simpletable\">\n",
                            "<caption>OrderedModel Results</caption>\n",
                            "<tr>\n",
                            "  <th>Dep. Variable:</th>         <td>Risk_num</td>      <th>  Log-Likelihood:    </th> <td> -986.62</td>\n",
                            "</tr>\n",
                            "<tr>\n",
                            "  <th>Model:</th>               <td>OrderedModel</td>    <th>  AIC:               </th> <td>   1981.</td>\n",
                            "</tr>\n",
                            "<tr>\n",
                            "  <th>Method:</th>           <td>Maximum Likelihood</td> <th>  BIC:               </th> <td>   2001.</td>\n",
                            "</tr>\n",
                            "<tr>\n",
                            "  <th>Date:</th>              <td>Tue, 22 Oct 2024</td>  <th>                     </th>     <td> </td>   \n",
                            "</tr>\n",
                            "<tr>\n",
                            "  <th>Time:</th>                  <td>00:06:48</td>      <th>                     </th>     <td> </td>   \n",
                            "</tr>\n",
                            "<tr>\n",
                            "  <th>No. Observations:</th>       <td>  1014</td>       <th>                     </th>     <td> </td>   \n",
                            "</tr>\n",
                            "<tr>\n",
                            "  <th>Df Residuals:</th>           <td>  1010</td>       <th>                     </th>     <td> </td>   \n",
                            "</tr>\n",
                            "<tr>\n",
                            "  <th>Df Model:</th>               <td>     2</td>       <th>                     </th>     <td> </td>   \n",
                            "</tr>\n",
                            "</table>\n",
                            "<table class=\"simpletable\">\n",
                            "<tr>\n",
                            "       <td></td>         <th>coef</th>     <th>std err</th>      <th>z</th>      <th>P>|z|</th>  <th>[0.025</th>    <th>0.975]</th>  \n",
                            "</tr>\n",
                            "<tr>\n",
                            "  <th>SystolicBP</th> <td>    0.0286</td> <td>    0.002</td> <td>   13.268</td> <td> 0.000</td> <td>    0.024</td> <td>    0.033</td>\n",
                            "</tr>\n",
                            "<tr>\n",
                            "  <th>HeartRate</th>  <td>    0.0351</td> <td>    0.005</td> <td>    7.137</td> <td> 0.000</td> <td>    0.025</td> <td>    0.045</td>\n",
                            "</tr>\n",
                            "<tr>\n",
                            "  <th>0/1</th>        <td>    5.5439</td> <td>    0.460</td> <td>   12.057</td> <td> 0.000</td> <td>    4.643</td> <td>    6.445</td>\n",
                            "</tr>\n",
                            "<tr>\n",
                            "  <th>1/2</th>        <td>    0.0035</td> <td>    0.047</td> <td>    0.074</td> <td> 0.941</td> <td>   -0.089</td> <td>    0.096</td>\n",
                            "</tr>\n",
                            "</table>"
                        ],
                        "text/latex": [
                            "\\begin{center}\n",
                            "\\begin{tabular}{lclc}\n",
                            "\\toprule\n",
                            "\\textbf{Dep. Variable:}    &     Risk\\_num      & \\textbf{  Log-Likelihood:    } &   -986.62   \\\\\n",
                            "\\textbf{Model:}            &    OrderedModel    & \\textbf{  AIC:               } &     1981.   \\\\\n",
                            "\\textbf{Method:}           & Maximum Likelihood & \\textbf{  BIC:               } &     2001.   \\\\\n",
                            "\\textbf{Date:}             &  Tue, 22 Oct 2024  & \\textbf{                     } &             \\\\\n",
                            "\\textbf{Time:}             &      00:06:48      & \\textbf{                     } &             \\\\\n",
                            "\\textbf{No. Observations:} &         1014       & \\textbf{                     } &             \\\\\n",
                            "\\textbf{Df Residuals:}     &         1010       & \\textbf{                     } &             \\\\\n",
                            "\\textbf{Df Model:}         &            2       & \\textbf{                     } &             \\\\\n",
                            "\\bottomrule\n",
                            "\\end{tabular}\n",
                            "\\begin{tabular}{lcccccc}\n",
                            "                    & \\textbf{coef} & \\textbf{std err} & \\textbf{z} & \\textbf{P$> |$z$|$} & \\textbf{[0.025} & \\textbf{0.975]}  \\\\\n",
                            "\\midrule\n",
                            "\\textbf{SystolicBP} &       0.0286  &        0.002     &    13.268  &         0.000        &        0.024    &        0.033     \\\\\n",
                            "\\textbf{HeartRate}  &       0.0351  &        0.005     &     7.137  &         0.000        &        0.025    &        0.045     \\\\\n",
                            "\\textbf{0/1}        &       5.5439  &        0.460     &    12.057  &         0.000        &        4.643    &        6.445     \\\\\n",
                            "\\textbf{1/2}        &       0.0035  &        0.047     &     0.074  &         0.941        &       -0.089    &        0.096     \\\\\n",
                            "\\bottomrule\n",
                            "\\end{tabular}\n",
                            "%\\caption{OrderedModel Results}\n",
                            "\\end{center}"
                        ],
                        "text/plain": [
                            "<class 'statsmodels.iolib.summary.Summary'>\n",
                            "\"\"\"\n",
                            "                             OrderedModel Results                             \n",
                            "==============================================================================\n",
                            "Dep. Variable:               Risk_num   Log-Likelihood:                -986.62\n",
                            "Model:                   OrderedModel   AIC:                             1981.\n",
                            "Method:            Maximum Likelihood   BIC:                             2001.\n",
                            "Date:                Tue, 22 Oct 2024                                         \n",
                            "Time:                        00:06:48                                         \n",
                            "No. Observations:                1014                                         \n",
                            "Df Residuals:                    1010                                         \n",
                            "Df Model:                           2                                         \n",
                            "==============================================================================\n",
                            "                 coef    std err          z      P>|z|      [0.025      0.975]\n",
                            "------------------------------------------------------------------------------\n",
                            "SystolicBP     0.0286      0.002     13.268      0.000       0.024       0.033\n",
                            "HeartRate      0.0351      0.005      7.137      0.000       0.025       0.045\n",
                            "0/1            5.5439      0.460     12.057      0.000       4.643       6.445\n",
                            "1/2            0.0035      0.047      0.074      0.941      -0.089       0.096\n",
                            "==============================================================================\n",
                            "\"\"\""
                        ]
                    },
                    "execution_count": 154,
                    "metadata": {},
                    "output_type": "execute_result"
                }
            ],
            "source": [
                "ordinal = OrderedModel(data[\"Risk_num\"], data[[\"SystolicBP\", \"HeartRate\"]]).fit()\n",
                "ordinal.summary()"
            ]
        },
        {
            "attachments": {},
            "cell_type": "markdown",
            "metadata": {},
            "source": [
                "# Part 4 [12 pts]\n",
                "\n",
                "Repeat Part 2 using the estimated ordinal logit model."
            ]
        },
        {
            "cell_type": "markdown",
            "metadata": {},
            "source": [
                "Suppose we assign the following costs to each risk level:\n",
                "* low risk: 100\n",
                "* medium risk: 1000\n",
                "* high risk: 5000\n",
                "\n",
                "We will also be able to implement a treatment plan to help patients lower their **SystolicBP** levels. The cost is $\\Delta^2$, where $\\Delta$ is the amount by which **SystolicBP** is reduced from the starting level.\n",
                "\n",
                "The expected cost associated with a patient is thus the weighted sum of the risk costs, where the weights are the respective probabilities of each risk level, plus the cost of the treatment plan.\n",
                "\n",
                "We implement this treatment plan for a patient who currently has **SystolicBP** $=160$ and **HeartRate** $=80$. \n",
                "\n",
                "* Compute and show the probabilities of this patient's risk levels, as well as their current expected cost. \n",
                "\n",
                "* Compute and plot the expected cost of the patient against values of **SystolicBP** *after* the treatment. For example, **SystolicBP** $=150$ would contribute an expected cost of $\\Delta^2=10^2=100$. Plot from the range $80$ to $160$.\n",
                "\n",
                "* Compute and show the optimal **SystolicBP** value that minimizes expected cost. Also compute the probabilities of the patient's risk levels, as well as the expected cost itself.\n"
            ]
        },
        {
            "cell_type": "code",
            "execution_count": 155,
            "metadata": {},
            "outputs": [
                {
                    "data": {
                        "text/html": [
                            "<div>\n",
                            "<style scoped>\n",
                            "    .dataframe tbody tr th:only-of-type {\n",
                            "        vertical-align: middle;\n",
                            "    }\n",
                            "\n",
                            "    .dataframe tbody tr th {\n",
                            "        vertical-align: top;\n",
                            "    }\n",
                            "\n",
                            "    .dataframe thead th {\n",
                            "        text-align: right;\n",
                            "    }\n",
                            "</style>\n",
                            "<table border=\"1\" class=\"dataframe\">\n",
                            "  <thead>\n",
                            "    <tr style=\"text-align: right;\">\n",
                            "      <th></th>\n",
                            "      <th>0</th>\n",
                            "      <th>1</th>\n",
                            "      <th>2</th>\n",
                            "    </tr>\n",
                            "  </thead>\n",
                            "  <tbody>\n",
                            "    <tr>\n",
                            "      <th>0</th>\n",
                            "      <td>0.032822</td>\n",
                            "      <td>0.168375</td>\n",
                            "      <td>0.798804</td>\n",
                            "    </tr>\n",
                            "  </tbody>\n",
                            "</table>\n",
                            "</div>"
                        ],
                        "text/plain": [
                            "          0         1         2\n",
                            "0  0.032822  0.168375  0.798804"
                        ]
                    },
                    "execution_count": 155,
                    "metadata": {},
                    "output_type": "execute_result"
                }
            ],
            "source": [
                "costs = {0: 100, 1: 1000, 2: 5000}\n",
                "sysBP = 160\n",
                "hr = 80\n",
                "patient_num = pd.DataFrame({\n",
                "    'SystolicBP': [sysBP],\n",
                "    'HeartRate': [hr]\n",
                "})\n",
                "pred = ordinal.predict(patient_num)\n",
                "pred"
            ]
        },
        {
            "cell_type": "code",
            "execution_count": 156,
            "metadata": {},
            "outputs": [
                {
                    "name": "stdout",
                    "output_type": "stream",
                    "text": [
                        "Probability of Low risk: 0    0.032822\n",
                        "Name: 0, dtype: float64 \n",
                        "Probability of mid risk: 0    0.168375\n",
                        "Name: 1, dtype: float64 \n",
                        "Probability of high risk: 0    0.798804\n",
                        "Name: 2, dtype: float64\n"
                    ]
                }
            ],
            "source": [
                "print('Probability of Low risk:', pred[0], '\\nProbability of mid risk:', pred[1], '\\nProbability of high risk:', pred[2])"
            ]
        },
        {
            "cell_type": "code",
            "execution_count": 157,
            "metadata": {},
            "outputs": [
                {
                    "name": "stdout",
                    "output_type": "stream",
                    "text": [
                        "Utility for x:  7.38473991477331\n",
                        "Cutoffs:  [5.54388645 6.54738367]\n",
                        "Probabilities:  [0.13695039 0.1651415  0.69790812]\n"
                    ]
                }
            ],
            "source": [
                "model_params = ordinal.params\n",
                "beta = model_params[0:2] \n",
                "x = np.array([160, 80])\n",
                "cut_base = model_params[2]\n",
                "increments = np.exp(model_params[3:])\n",
                "cutoffs = np.cumsum(np.insert(increments, 0, cut_base))\n",
                "utilities = cutoffs - np.dot(beta, x)\n",
                "exp_terms = np.exp(utilities) / (1 + np.exp(utilities)) \n",
                "probabilities = np.diff(np.insert(exp_terms, 0, 0)) \n",
                "probabilities = np.append(probabilities, 1 - exp_terms[-1])\n",
                "print(\"Utility for x: \", np.dot(beta, x)) \n",
                "print(\"Cutoffs: \", cutoffs) \n",
                "print(\"Probabilities: \", probabilities)"
            ]
        },
        {
            "cell_type": "code",
            "execution_count": 158,
            "metadata": {},
            "outputs": [
                {
                    "name": "stdout",
                    "output_type": "stream",
                    "text": [
                        "4165.67593021436\n"
                    ]
                }
            ],
            "source": [
                "exp_cost = np.sum(pred * costs)\n",
                "print(sum(exp_cost))"
            ]
        },
        {
            "cell_type": "code",
            "execution_count": 159,
            "metadata": {},
            "outputs": [],
            "source": [
                "exp_list = []\n",
                "min_exp = 100000\n",
                "optimal_sysbp = 0"
            ]
        },
        {
            "cell_type": "code",
            "execution_count": 160,
            "metadata": {},
            "outputs": [
                {
                    "name": "stdout",
                    "output_type": "stream",
                    "text": [
                        "80\n",
                        "80\n"
                    ]
                },
                {
                    "data": {
                        "image/png": "[encoded data removed]",
                        "text/plain": [
                            "<Figure size 640x480 with 1 Axes>"
                        ]
                    },
                    "metadata": {},
                    "output_type": "display_data"
                }
            ],
            "source": [
                "sysbp_list = np.arange(80, 160)\n",
                "for i in sysbp_list:\n",
                "    delta2 = (160 - i) ** 2\n",
                "    patient_num_i = pd.DataFrame({\n",
                "        'SystolicBP': [i],\n",
                "        'HeartRate': [hr]\n",
                "    })\n",
                "\n",
                "    pred_i = ordinal.predict(patient_num_i)\n",
                "    exp_cost_i = np.sum(pred_i * costs)\n",
                "    expected_cost = sum(exp_cost_i) + delta2\n",
                "\n",
                "    if expected_cost < min_exp:\n",
                "        min_exp = expected_cost\n",
                "        optimal_sysbp = i\n",
                "\n",
                "    exp_list.append(expected_cost)\n",
                "\n",
                "    \n",
                "print(len(exp_list))\n",
                "print(len(sysbp_list))\n",
                "\n",
                "plt.plot(sysbp_list, exp_list)\n",
                "plt.show()\n"
            ]
        },
        {
            "cell_type": "code",
            "execution_count": 161,
            "metadata": {},
            "outputs": [
                {
                    "data": {
                        "text/plain": [
                            "(135, 3702.5672253286652)"
                        ]
                    },
                    "execution_count": 161,
                    "metadata": {},
                    "output_type": "execute_result"
                }
            ],
            "source": [
                "optimal_sysbp, min_exp"
            ]
        },
        {
            "cell_type": "code",
            "execution_count": 162,
            "metadata": {},
            "outputs": [
                {
                    "name": "stdout",
                    "output_type": "stream",
                    "text": [
                        "low, mid, high risk's probability as:            0         1        2\n",
                        "0  0.130125  0.321205  0.54867\n"
                    ]
                }
            ],
            "source": [
                "patient_num_final = pd.DataFrame({\n",
                "        'SystolicBP': [optimal_sysbp],\n",
                "        'HeartRate': [hr]\n",
                "        })\n",
                "\n",
                "pred_final = ordinal.predict(patient_num_final)\n",
                "print(\"low, mid, high risk's probability as: \", pred_final)"
            ]
        }
    ],
    "metadata": {
        "kernelspec": {
            "display_name": "Python 3 (ipykernel)",
            "language": "python",
            "name": "python3"
        },
        "language_info": {
            "codemirror_mode": {
                "name": "ipython",
                "version": 3
            },
            "file_extension": ".py",
            "mimetype": "text/x-python",
            "name": "python",
            "nbconvert_exporter": "python",
            "pygments_lexer": "ipython3",
            "version": "3.8.5"
        }
    },
    "nbformat": 4,
    "nbformat_minor": 2
}
