{
    "cells": [
        {
            "cell_type": "code",
            "execution_count": 1,
            "metadata": {},
            "outputs": [],
            "source": [
                "import numpy as np \n",
                "import pandas as pd\n",
                "import matplotlib.pyplot as plt\n",
                "from statsmodels.formula.api import logit, mnlogit\n",
                "from statsmodels.tools.tools import add_constant\n",
                "from statsmodels.base.model import GenericLikelihoodModel"
            ]
        },
        {
            "attachments": {},
            "cell_type": "markdown",
            "metadata": {},
            "source": [
                "# Setting\n",
                "\n",
                "In this problem, you will be working with some simulated data, roughly following the [Combined Logit Example](https://edstem.org/us/courses/61428/lessons/115899/slides/668804) in the lecture notes. **Choice** is the outcome value that can be 1, 2, or 3. The **income** covariate does not vary across options, while **price** does."
            ]
        },
        {
            "cell_type": "code",
            "execution_count": 6,
            "metadata": {},
            "outputs": [
                {
                    "data": {
                        "text/html": [
                            "<div>\n",
                            "<style scoped>\n",
                            "    .dataframe tbody tr th:only-of-type {\n",
                            "        vertical-align: middle;\n",
                            "    }\n",
                            "\n",
                            "    .dataframe tbody tr th {\n",
                            "        vertical-align: top;\n",
                            "    }\n",
                            "\n",
                            "    .dataframe thead th {\n",
                            "        text-align: right;\n",
                            "    }\n",
                            "</style>\n",
                            "<table border=\"1\" class=\"dataframe\">\n",
                            "  <thead>\n",
                            "    <tr style=\"text-align: right;\">\n",
                            "      <th></th>\n",
                            "      <th>income</th>\n",
                            "      <th>price1</th>\n",
                            "      <th>price2</th>\n",
                            "      <th>price3</th>\n",
                            "      <th>choice</th>\n",
                            "    </tr>\n",
                            "  </thead>\n",
                            "  <tbody>\n",
                            "    <tr>\n",
                            "      <th>0</th>\n",
                            "      <td>0.408099</td>\n",
                            "      <td>0.966943</td>\n",
                            "      <td>0.745761</td>\n",
                            "      <td>0.040999</td>\n",
                            "      <td>2</td>\n",
                            "    </tr>\n",
                            "    <tr>\n",
                            "      <th>1</th>\n",
                            "      <td>0.053544</td>\n",
                            "      <td>0.381934</td>\n",
                            "      <td>0.584063</td>\n",
                            "      <td>0.383261</td>\n",
                            "      <td>3</td>\n",
                            "    </tr>\n",
                            "    <tr>\n",
                            "      <th>2</th>\n",
                            "      <td>0.420917</td>\n",
                            "      <td>0.166761</td>\n",
                            "      <td>0.711968</td>\n",
                            "      <td>0.951595</td>\n",
                            "      <td>1</td>\n",
                            "    </tr>\n",
                            "    <tr>\n",
                            "      <th>3</th>\n",
                            "      <td>0.393788</td>\n",
                            "      <td>0.672119</td>\n",
                            "      <td>0.273230</td>\n",
                            "      <td>0.951942</td>\n",
                            "      <td>1</td>\n",
                            "    </tr>\n",
                            "    <tr>\n",
                            "      <th>4</th>\n",
                            "      <td>0.043305</td>\n",
                            "      <td>0.582327</td>\n",
                            "      <td>0.387086</td>\n",
                            "      <td>0.823542</td>\n",
                            "      <td>1</td>\n",
                            "    </tr>\n",
                            "    <tr>\n",
                            "      <th>...</th>\n",
                            "      <td>...</td>\n",
                            "      <td>...</td>\n",
                            "      <td>...</td>\n",
                            "      <td>...</td>\n",
                            "      <td>...</td>\n",
                            "    </tr>\n",
                            "    <tr>\n",
                            "      <th>995</th>\n",
                            "      <td>0.188789</td>\n",
                            "      <td>0.070250</td>\n",
                            "      <td>0.165083</td>\n",
                            "      <td>0.641672</td>\n",
                            "      <td>3</td>\n",
                            "    </tr>\n",
                            "    <tr>\n",
                            "      <th>996</th>\n",
                            "      <td>0.493251</td>\n",
                            "      <td>0.682945</td>\n",
                            "      <td>0.476679</td>\n",
                            "      <td>0.266091</td>\n",
                            "      <td>1</td>\n",
                            "    </tr>\n",
                            "    <tr>\n",
                            "      <th>997</th>\n",
                            "      <td>0.352964</td>\n",
                            "      <td>0.054450</td>\n",
                            "      <td>0.665700</td>\n",
                            "      <td>0.450901</td>\n",
                            "      <td>2</td>\n",
                            "    </tr>\n",
                            "    <tr>\n",
                            "      <th>998</th>\n",
                            "      <td>0.274516</td>\n",
                            "      <td>0.205258</td>\n",
                            "      <td>0.958081</td>\n",
                            "      <td>0.681329</td>\n",
                            "      <td>1</td>\n",
                            "    </tr>\n",
                            "    <tr>\n",
                            "      <th>999</th>\n",
                            "      <td>0.885560</td>\n",
                            "      <td>0.503295</td>\n",
                            "      <td>0.393509</td>\n",
                            "      <td>0.359804</td>\n",
                            "      <td>1</td>\n",
                            "    </tr>\n",
                            "  </tbody>\n",
                            "</table>\n",
                            "<p>1000 rows × 5 columns</p>\n",
                            "</div>"
                        ],
                        "text/plain": [
                            "       income    price1    price2    price3  choice\n",
                            "0    0.408099  0.966943  0.745761  0.040999       2\n",
                            "1    0.053544  0.381934  0.584063  0.383261       3\n",
                            "2    0.420917  0.166761  0.711968  0.951595       1\n",
                            "3    0.393788  0.672119  0.273230  0.951942       1\n",
                            "4    0.043305  0.582327  0.387086  0.823542       1\n",
                            "..        ...       ...       ...       ...     ...\n",
                            "995  0.188789  0.070250  0.165083  0.641672       3\n",
                            "996  0.493251  0.682945  0.476679  0.266091       1\n",
                            "997  0.352964  0.054450  0.665700  0.450901       2\n",
                            "998  0.274516  0.205258  0.958081  0.681329       1\n",
                            "999  0.885560  0.503295  0.393509  0.359804       1\n",
                            "\n",
                            "[1000 rows x 5 columns]"
                        ]
                    },
                    "execution_count": 6,
                    "metadata": {},
                    "output_type": "execute_result"
                }
            ],
            "source": [
                "df = pd.read_csv(\"data.csv\")\n",
                "df"
            ]
        },
        {
            "attachments": {},
            "cell_type": "markdown",
            "metadata": {},
            "source": [
                "# Part 1 [12 pts]\n",
                "\n",
                "Estimate a combined logit model for this dataset, following the description in the lecture notes. Make option 3 the baseline option, and name the **five** parameters accordingly. Show the model summary."
            ]
        },
        {
            "cell_type": "code",
            "execution_count": 23,
            "metadata": {},
            "outputs": [],
            "source": [
                "class Combined_logit(GenericLikelihoodModel):\n",
                "    def loglike(self, params):\n",
                "        y, X = self.endog, self.exog \n",
                "\n",
                "        beta10, beta1, beta20, beta2, gamma = params\n",
                "        y1 = beta10 + beta1 * X[:, 1] + gamma * X[:, 2]\n",
                "        y2 = beta20 + beta2 * X[:, 1] + gamma * X[:, 3]\n",
                "        y3 = gamma * X[:, 4]\n",
                "        J = 3\n",
                "\n",
                "        pij = np.empty((len(X), J))\n",
                "        pij[:, 0] = np.exp(y1)\n",
                "        pij[:, 1] = np.exp(y2)\n",
                "        pij[:, 2] = np.exp(y3)\n",
                "        pij /= np.sum(pij, axis=1, keepdims=True)\n",
                "\n",
                "        #p1 = np.exp(y1) / (np.exp(y1) + np.exp(y2) + np.exp(y3))\n",
                "        #p2 = np.exp(y2) / (np.exp(y1) + np.exp(y2) + np.exp(y3))\n",
                "        #p3 = np.exp(y3) / (np.exp(y1) + np.exp(y2) + np.exp(y3))\n",
                "        \n",
                "        choices = y - 1\n",
                "        likelihood = pij[np.arange(len(y)), choices]\n",
                "        return np.sum(np.log(likelihood))"
            ]
        },
        {
            "cell_type": "code",
            "execution_count": 31,
            "metadata": {},
            "outputs": [
                {
                    "name": "stdout",
                    "output_type": "stream",
                    "text": [
                        "Optimization terminated successfully.\n",
                        "         Current function value: 1.091695\n",
                        "         Iterations: 28\n",
                        "         Function evaluations: 29\n",
                        "         Gradient evaluations: 29\n"
                    ]
                },
                {
                    "data": {
                        "text/html": [
                            "<table class=\"simpletable\">\n",
                            "<caption>Combined_logit Results</caption>\n",
                            "<tr>\n",
                            "  <th>Dep. Variable:</th>          <td>choice</td>       <th>  Log-Likelihood:    </th> <td> -1091.7</td>\n",
                            "</tr>\n",
                            "<tr>\n",
                            "  <th>Model:</th>              <td>Combined_logit</td>   <th>  AIC:               </th> <td>   2193.</td>\n",
                            "</tr>\n",
                            "<tr>\n",
                            "  <th>Method:</th>           <td>Maximum Likelihood</td> <th>  BIC:               </th> <td>   2218.</td>\n",
                            "</tr>\n",
                            "<tr>\n",
                            "  <th>Date:</th>              <td>Mon, 21 Oct 2024</td>  <th>                     </th>     <td> </td>   \n",
                            "</tr>\n",
                            "<tr>\n",
                            "  <th>Time:</th>                  <td>04:02:47</td>      <th>                     </th>     <td> </td>   \n",
                            "</tr>\n",
                            "<tr>\n",
                            "  <th>No. Observations:</th>       <td>  1000</td>       <th>                     </th>     <td> </td>   \n",
                            "</tr>\n",
                            "<tr>\n",
                            "  <th>Df Residuals:</th>           <td>   995</td>       <th>                     </th>     <td> </td>   \n",
                            "</tr>\n",
                            "<tr>\n",
                            "  <th>Df Model:</th>               <td>     4</td>       <th>                     </th>     <td> </td>   \n",
                            "</tr>\n",
                            "</table>\n",
                            "<table class=\"simpletable\">\n",
                            "<tr>\n",
                            "   <td></td>      <th>coef</th>     <th>std err</th>      <th>z</th>      <th>P>|z|</th>  <th>[0.025</th>    <th>0.975]</th>  \n",
                            "</tr>\n",
                            "<tr>\n",
                            "  <th>b10</th> <td>    0.1973</td> <td>    0.157</td> <td>    1.256</td> <td> 0.209</td> <td>   -0.111</td> <td>    0.505</td>\n",
                            "</tr>\n",
                            "<tr>\n",
                            "  <th>b1</th>  <td>   -0.6231</td> <td>    0.270</td> <td>   -2.305</td> <td> 0.021</td> <td>   -1.153</td> <td>   -0.093</td>\n",
                            "</tr>\n",
                            "<tr>\n",
                            "  <th>b20</th> <td>    0.0997</td> <td>    0.159</td> <td>    0.626</td> <td> 0.532</td> <td>   -0.213</td> <td>    0.412</td>\n",
                            "</tr>\n",
                            "<tr>\n",
                            "  <th>b2</th>  <td>   -0.4688</td> <td>    0.272</td> <td>   -1.726</td> <td> 0.084</td> <td>   -1.001</td> <td>    0.063</td>\n",
                            "</tr>\n",
                            "<tr>\n",
                            "  <th>g</th>   <td>    0.2589</td> <td>    0.134</td> <td>    1.937</td> <td> 0.053</td> <td>   -0.003</td> <td>    0.521</td>\n",
                            "</tr>\n",
                            "</table>"
                        ],
                        "text/latex": [
                            "\\begin{center}\n",
                            "\\begin{tabular}{lclc}\n",
                            "\\toprule\n",
                            "\\textbf{Dep. Variable:}    &       choice       & \\textbf{  Log-Likelihood:    } &   -1091.7   \\\\\n",
                            "\\textbf{Model:}            &  Combined\\_logit   & \\textbf{  AIC:               } &     2193.   \\\\\n",
                            "\\textbf{Method:}           & Maximum Likelihood & \\textbf{  BIC:               } &     2218.   \\\\\n",
                            "\\textbf{Date:}             &  Mon, 21 Oct 2024  & \\textbf{                     } &             \\\\\n",
                            "\\textbf{Time:}             &      04:02:47      & \\textbf{                     } &             \\\\\n",
                            "\\textbf{No. Observations:} &         1000       & \\textbf{                     } &             \\\\\n",
                            "\\textbf{Df Residuals:}     &          995       & \\textbf{                     } &             \\\\\n",
                            "\\textbf{Df Model:}         &            4       & \\textbf{                     } &             \\\\\n",
                            "\\bottomrule\n",
                            "\\end{tabular}\n",
                            "\\begin{tabular}{lcccccc}\n",
                            "             & \\textbf{coef} & \\textbf{std err} & \\textbf{z} & \\textbf{P$> |$z$|$} & \\textbf{[0.025} & \\textbf{0.975]}  \\\\\n",
                            "\\midrule\n",
                            "\\textbf{b10} &       0.1973  &        0.157     &     1.256  &         0.209        &       -0.111    &        0.505     \\\\\n",
                            "\\textbf{b1}  &      -0.6231  &        0.270     &    -2.305  &         0.021        &       -1.153    &       -0.093     \\\\\n",
                            "\\textbf{b20} &       0.0997  &        0.159     &     0.626  &         0.532        &       -0.213    &        0.412     \\\\\n",
                            "\\textbf{b2}  &      -0.4688  &        0.272     &    -1.726  &         0.084        &       -1.001    &        0.063     \\\\\n",
                            "\\textbf{g}   &       0.2589  &        0.134     &     1.937  &         0.053        &       -0.003    &        0.521     \\\\\n",
                            "\\bottomrule\n",
                            "\\end{tabular}\n",
                            "%\\caption{Combined_logit Results}\n",
                            "\\end{center}"
                        ],
                        "text/plain": [
                            "<class 'statsmodels.iolib.summary.Summary'>\n",
                            "\"\"\"\n",
                            "                            Combined_logit Results                            \n",
                            "==============================================================================\n",
                            "Dep. Variable:                 choice   Log-Likelihood:                -1091.7\n",
                            "Model:                 Combined_logit   AIC:                             2193.\n",
                            "Method:            Maximum Likelihood   BIC:                             2218.\n",
                            "Date:                Mon, 21 Oct 2024                                         \n",
                            "Time:                        04:02:47                                         \n",
                            "No. Observations:                1000                                         \n",
                            "Df Residuals:                     995                                         \n",
                            "Df Model:                           4                                         \n",
                            "==============================================================================\n",
                            "                 coef    std err          z      P>|z|      [0.025      0.975]\n",
                            "------------------------------------------------------------------------------\n",
                            "b10            0.1973      0.157      1.256      0.209      -0.111       0.505\n",
                            "b1            -0.6231      0.270     -2.305      0.021      -1.153      -0.093\n",
                            "b20            0.0997      0.159      0.626      0.532      -0.213       0.412\n",
                            "b2            -0.4688      0.272     -1.726      0.084      -1.001       0.063\n",
                            "g              0.2589      0.134      1.937      0.053      -0.003       0.521\n",
                            "==============================================================================\n",
                            "\"\"\""
                        ]
                    },
                    "execution_count": 31,
                    "metadata": {},
                    "output_type": "execute_result"
                }
            ],
            "source": [
                "X = df[[\"income\", \"price1\", \"price2\", \"price3\"]]\n",
                "X = add_constant(X)\n",
                "y = df[\"choice\"]\n",
                "\n",
                "Model = Combined_logit(y, X).fit(start_params=np.random.rand(5), method=\"bfgs\")\n",
                "Model.summary(xname=[\"b10\",\"b1\",\"b20\",\"b2\",\"g\"])     "
            ]
        },
        {
            "attachments": {},
            "cell_type": "markdown",
            "metadata": {},
            "source": [
                "# Part 2 [6 pts]\n",
                "\n",
                "Briefly answer the following questions about the estimated parameters.\n",
                "\n",
                "* Without consideration of the covariates (alternatively, consider setting them all to 0), rank the options from most likely to least likely. Which parameters give you this information, without having to explicitly compute probabilities?\n",
                "\n",
                "* Suppose the **income** value increases by some amount while all **price**s remain unchanged. Rank the three options from largest to smallest increase (or largest decrease) in likelihood. Which parameters give you this information, without having to explicitly compute probabilities?\n",
                "\n",
                "* Suppose the **price** value for option 3 increases by some amount while **income** and all *other* **price**s remain unchanged. How does this affect the likelihood of each option being chosen?"
            ]
        },
        {
            "attachments": {},
            "cell_type": "markdown",
            "metadata": {},
            "source": [
                "1. When consider covariates as 0, we have the formulas as:\n",
                "   \n",
                "   yi1 = b10 = 0.1974, yi2 = b20 = 0.0997\t, yi3 = 0\n",
                "\n",
                "   Thus we can see, from most likely to least likely, we have:\n",
                "\n",
                "   Option 1, Option 2, Option 3. We gain this information mainly from b10 and b20.\n",
                "\n",
                "2. With income increase andd prices unchanged, based on the formula, we have:\n",
                "   \n",
                "   Change of yi1: b1 * income = -0.6232 * income\n",
                "   Change of yi2: b2 * income = -0.4687 * income\n",
                "   Change of yi3: 0\n",
                "\n",
                "   Thus we see decreases from largest to smallest as:\n",
                "   \n",
                "   Option 1, Option 2, Option 3. We gain this information mainly from b1 and b2.\n",
                "\n",
                "3. For option 3 in the given situation, we have:\n",
                "   \n",
                "   Change of option 3: 0.2589\t* price, as price increased, we have this change as positive. \n",
                "\n",
                "   Thuus, we have p of Option 3 increases. While at the same time, sum of all pij increases as while (but (pij for option 3)/sum(pij) would still be increasing), and as pij for option 1 and 2 remains unchanged, there likelihood would decrease."
            ]
        },
        {
            "attachments": {},
            "cell_type": "markdown",
            "metadata": {},
            "source": [
                "# Part 3 [6 pts]\n",
                "\n",
                "Let's see how the option probabilities vary as a function of **income**. Suppose all three **price**s are equal to $1$. Compute and plot all three option probabilities on one figure over the range of **income** from $-20$ to $20$ (pretend that negative income means something here).\n",
                "\n",
                "Briefly describe your observations about the *shapes* of the probability curves. What does the (non-)motonocity of each curve tell you about how **income** affects the choice of each option?"
            ]
        },
        {
            "cell_type": "code",
            "execution_count": 36,
            "metadata": {},
            "outputs": [],
            "source": [
                "incomes = np.linspace(-20, 20, 100)\n",
                "params = Model.params\n",
                "beta10, beta1, beta20, beta2, gamma = params\n",
                "y1 = beta10 + beta1 * incomes + gamma\n",
                "y2 = beta20 + beta2 * incomes + gamma\n",
                "y3 = gamma\n",
                "\n",
                "p1 = np.exp(y1) / (np.exp(y1) + np.exp(y2) + np.exp(y3))\n",
                "p2 = np.exp(y2) / (np.exp(y1) + np.exp(y2) + np.exp(y3))\n",
                "p3 = np.exp(y3) / (np.exp(y1) + np.exp(y2) + np.exp(y3))"
            ]
        },
        {
            "cell_type": "code",
            "execution_count": 45,
            "metadata": {},
            "outputs": [
                {
                    "data": {
                        "image/png": "[encoded data removed]",
                        "text/plain": [
                            "<Figure size 640x480 with 1 Axes>"
                        ]
                    },
                    "metadata": {},
                    "output_type": "display_data"
                }
            ],
            "source": [
                "plt.plot(incomes, p1, label = \"Option 1\")\n",
                "plt.plot(incomes, p2, label = \"Option 2\")\n",
                "plt.plot(incomes, p3, label = \"Option 3\")\n",
                "plt.legend()\n",
                "plt.show()"
            ]
        },
        {
            "cell_type": "markdown",
            "metadata": {},
            "source": [
                "We can see Option 3 benefits from increasing income the most, and Option 2 also benefits when the income increases while still negative, but then decreases when the income continues growing when it's positive, and Option 1 doesn't benefit from increasing income."
            ]
        },
        {
            "attachments": {},
            "cell_type": "markdown",
            "metadata": {},
            "source": [
                "# Part 4 [6 pts]\n",
                "\n",
                "Let's see how the option probabilities vary as a function of **price3**. Suppose all other covariates, including **income**, are equal to $1$. Compute and plot all three option probabilities on one figure over the range of **price3** from $-20$ to $20$.\n",
                "\n",
                "Briefly describe your observations about the *shapes* of the probability curves. How would you expect the curve trends to change if either **price1** or **price2** varied instead of **price3**?"
            ]
        },
        {
            "cell_type": "code",
            "execution_count": 50,
            "metadata": {},
            "outputs": [],
            "source": [
                "price3 = np.linspace(-20, 20, 100)\n",
                "params = Model.params\n",
                "beta10, beta1, beta20, beta2, gamma = params\n",
                "y1 = beta10 + beta1 + gamma\n",
                "y2 = beta20 + beta2 + gamma\n",
                "y3 = gamma * price3\n",
                "\n",
                "p1 = np.exp(y1) / (np.exp(y1) + np.exp(y2) + np.exp(y3))\n",
                "p2 = np.exp(y2) / (np.exp(y1) + np.exp(y2) + np.exp(y3))\n",
                "p3 = np.exp(y3) / (np.exp(y1) + np.exp(y2) + np.exp(y3))"
            ]
        },
        {
            "cell_type": "code",
            "execution_count": 51,
            "metadata": {},
            "outputs": [
                {
                    "data": {
                        "image/png": "[encoded data removed]",
                        "text/plain": [
                            "<Figure size 640x480 with 1 Axes>"
                        ]
                    },
                    "metadata": {},
                    "output_type": "display_data"
                }
            ],
            "source": [
                "plt.plot(incomes, p1, label = \"Option 1\")\n",
                "plt.plot(incomes, p2, label = \"Option 2\")\n",
                "plt.plot(incomes, p3, label = \"Option 3\")\n",
                "plt.legend()\n",
                "plt.show()"
            ]
        },
        {
            "cell_type": "markdown",
            "metadata": {},
            "source": [
                "We can see Option 3 benefits from the increasing price 3 while Option 1 and 2 don't benefit from increasing price 3. If we change it to price 1 or 2 as increasing term, we probably would see Option 1 or 2 benefit from such increasing respectively. "
            ]
        }
    ],
    "metadata": {
        "kernelspec": {
            "display_name": "Python 3 (ipykernel)",
            "language": "python",
            "name": "python3"
        },
        "language_info": {
            "codemirror_mode": {
                "name": "ipython",
                "version": 3
            },
            "file_extension": ".py",
            "mimetype": "text/x-python",
            "name": "python",
            "nbconvert_exporter": "python",
            "pygments_lexer": "ipython3",
            "version": "3.8.5"
        }
    },
    "nbformat": 4,
    "nbformat_minor": 2
}
