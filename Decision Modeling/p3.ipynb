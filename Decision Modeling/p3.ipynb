{
    "cells": [
        {
            "cell_type": "code",
            "execution_count": 3,
            "metadata": {},
            "outputs": [],
            "source": [
                "import math\n",
                "import numpy as np\n",
                "import pandas as pd\n",
                "import scipy.stats as spst  \n",
                "import scipy.special as spsp\n",
                "\n",
                "from statsmodels.base.model import GenericLikelihoodModel\n",
                "from statsmodels.tools.tools import add_constant\n",
                "from statsmodels.formula.api import poisson, negativebinomial\n",
                "\n",
                "import warnings\n",
                "warnings.filterwarnings('ignore')"
            ]
        },
        {
            "attachments": {},
            "cell_type": "markdown",
            "metadata": {},
            "source": [
                "# Setup\n",
                "\n",
                "In this problem, we will be working with a data set that tracks the the number of bike crossings over all bridges between the East River and Manhattan on different dates. We also have data on weather, specifically temperature and precipitation. This information may be useful for making decisions on when to schedule bike lane closures for maintenance, for example.\n",
                "\n",
                "The relevant columns are as follows:\n",
                "\n",
                "* `Total` (outcome): The number of total bike crossings across the east river bridges (Manhattan Bridge, Brooklyn Bridge, Williamsburg Bridge, and Queensboro Bridge).\n",
                "\n",
                "* `HighTemp`: The high temperature for a specific date.\n",
                "\n",
                "* `LowTemp`: The low temperature for a specific date.\n",
                "\n",
                "* `Precipitation`: Precipitation levels for a specific date.\n",
                "\n",
                "Reference to the raw dataset [here](https://www.kaggle.com/datasets/new-york-city/nyc-east-river-bicycle-crossings)."
            ]
        },
        {
            "cell_type": "code",
            "execution_count": 37,
            "metadata": {},
            "outputs": [
                {
                    "data": {
                        "text/html": [
                            "<div>\n",
                            "<style scoped>\n",
                            "    .dataframe tbody tr th:only-of-type {\n",
                            "        vertical-align: middle;\n",
                            "    }\n",
                            "\n",
                            "    .dataframe tbody tr th {\n",
                            "        vertical-align: top;\n",
                            "    }\n",
                            "\n",
                            "    .dataframe thead th {\n",
                            "        text-align: right;\n",
                            "    }\n",
                            "</style>\n",
                            "<table border=\"1\" class=\"dataframe\">\n",
                            "  <thead>\n",
                            "    <tr style=\"text-align: right;\">\n",
                            "      <th></th>\n",
                            "      <th>Date</th>\n",
                            "      <th>HighTemp</th>\n",
                            "      <th>LowTemp</th>\n",
                            "      <th>Precipitation</th>\n",
                            "      <th>Total</th>\n",
                            "    </tr>\n",
                            "  </thead>\n",
                            "  <tbody>\n",
                            "    <tr>\n",
                            "      <th>0</th>\n",
                            "      <td>2016-04-01 00:00:00</td>\n",
                            "      <td>78.1</td>\n",
                            "      <td>66.0</td>\n",
                            "      <td>0.01</td>\n",
                            "      <td>11497</td>\n",
                            "    </tr>\n",
                            "    <tr>\n",
                            "      <th>1</th>\n",
                            "      <td>2016-04-02 00:00:00</td>\n",
                            "      <td>55.0</td>\n",
                            "      <td>48.9</td>\n",
                            "      <td>0.15</td>\n",
                            "      <td>6922</td>\n",
                            "    </tr>\n",
                            "    <tr>\n",
                            "      <th>2</th>\n",
                            "      <td>2016-04-03 00:00:00</td>\n",
                            "      <td>39.9</td>\n",
                            "      <td>34.0</td>\n",
                            "      <td>0.09</td>\n",
                            "      <td>4759</td>\n",
                            "    </tr>\n",
                            "    <tr>\n",
                            "      <th>3</th>\n",
                            "      <td>2016-04-04 00:00:00</td>\n",
                            "      <td>44.1</td>\n",
                            "      <td>33.1</td>\n",
                            "      <td>0.47</td>\n",
                            "      <td>4335</td>\n",
                            "    </tr>\n",
                            "    <tr>\n",
                            "      <th>4</th>\n",
                            "      <td>2016-04-05 00:00:00</td>\n",
                            "      <td>42.1</td>\n",
                            "      <td>26.1</td>\n",
                            "      <td>0.00</td>\n",
                            "      <td>9471</td>\n",
                            "    </tr>\n",
                            "  </tbody>\n",
                            "</table>\n",
                            "</div>"
                        ],
                        "text/plain": [
                            "                  Date  HighTemp  LowTemp  Precipitation  Total\n",
                            "0  2016-04-01 00:00:00      78.1     66.0           0.01  11497\n",
                            "1  2016-04-02 00:00:00      55.0     48.9           0.15   6922\n",
                            "2  2016-04-03 00:00:00      39.9     34.0           0.09   4759\n",
                            "3  2016-04-04 00:00:00      44.1     33.1           0.47   4335\n",
                            "4  2016-04-05 00:00:00      42.1     26.1           0.00   9471"
                        ]
                    },
                    "execution_count": 37,
                    "metadata": {},
                    "output_type": "execute_result"
                }
            ],
            "source": [
                "data = pd.read_csv('nyc-east-river-bicycle-counts.csv')\n",
                "data = data[['Date', \n",
                "             'HighTemp', \n",
                "             'LowTemp', \n",
                "             'Precipitation', \n",
                "             'Total']]\n",
                "data.head()"
            ]
        },
        {
            "attachments": {},
            "cell_type": "markdown",
            "metadata": {},
            "source": [
                "# Part 1 [12 pts]\n",
                "\n",
                "* Run a Poisson regression using `poisson()` from `statsmodels` to predict `Total` from the other three variables. Show the model summary.\n",
                "\n",
                "* Give an intuitive explanation for each of the four estimated coefficients. Are they reliable and statistically significant estimates?\n",
                "\n",
                "* Use the model to predict the average number of bike crossings under two scenarios: a dry winter day with temperature range $25^\\circ$ to $35^\\circ$ and $0.1$ precipitation level, and a wet summer day with temperature range $75^\\circ$ to $80^\\circ$ and $0.8$ precipitation level.\n",
                "\n"
            ]
        },
        {
            "cell_type": "code",
            "execution_count": 36,
            "metadata": {},
            "outputs": [
                {
                    "name": "stdout",
                    "output_type": "stream",
                    "text": [
                        "Optimization terminated successfully.\n",
                        "         Current function value: 362.376170\n",
                        "         Iterations 6\n"
                    ]
                },
                {
                    "data": {
                        "text/html": [
                            "<table class=\"simpletable\">\n",
                            "<caption>Poisson Regression Results</caption>\n",
                            "<tr>\n",
                            "  <th>Dep. Variable:</th>         <td>Total</td>      <th>  No. Observations:  </th>   <td>   210</td>   \n",
                            "</tr>\n",
                            "<tr>\n",
                            "  <th>Model:</th>                <td>Poisson</td>     <th>  Df Residuals:      </th>   <td>   206</td>   \n",
                            "</tr>\n",
                            "<tr>\n",
                            "  <th>Method:</th>                 <td>MLE</td>       <th>  Df Model:          </th>   <td>     3</td>   \n",
                            "</tr>\n",
                            "<tr>\n",
                            "  <th>Date:</th>            <td>Tue, 24 Sep 2024</td> <th>  Pseudo R-squ.:     </th>   <td>0.6913</td>   \n",
                            "</tr>\n",
                            "<tr>\n",
                            "  <th>Time:</th>                <td>15:36:34</td>     <th>  Log-Likelihood:    </th>  <td> -76099.</td>  \n",
                            "</tr>\n",
                            "<tr>\n",
                            "  <th>converged:</th>             <td>True</td>       <th>  LL-Null:           </th> <td>-2.4651e+05</td>\n",
                            "</tr>\n",
                            "<tr>\n",
                            "  <th>Covariance Type:</th>     <td>nonrobust</td>    <th>  LLR p-value:       </th>   <td> 0.000</td>   \n",
                            "</tr>\n",
                            "</table>\n",
                            "<table class=\"simpletable\">\n",
                            "<tr>\n",
                            "        <td></td>           <th>coef</th>     <th>std err</th>      <th>z</th>      <th>P>|z|</th>  <th>[0.025</th>    <th>0.975]</th>  \n",
                            "</tr>\n",
                            "<tr>\n",
                            "  <th>Intercept</th>     <td>    8.3964</td> <td>    0.004</td> <td> 2265.587</td> <td> 0.000</td> <td>    8.389</td> <td>    8.404</td>\n",
                            "</tr>\n",
                            "<tr>\n",
                            "  <th>HighTemp</th>      <td>    0.0244</td> <td> 9.65e-05</td> <td>  253.205</td> <td> 0.000</td> <td>    0.024</td> <td>    0.025</td>\n",
                            "</tr>\n",
                            "<tr>\n",
                            "  <th>LowTemp</th>       <td>   -0.0052</td> <td>    0.000</td> <td>  -48.165</td> <td> 0.000</td> <td>   -0.005</td> <td>   -0.005</td>\n",
                            "</tr>\n",
                            "<tr>\n",
                            "  <th>Precipitation</th> <td>   -2.2184</td> <td>    0.009</td> <td> -248.186</td> <td> 0.000</td> <td>   -2.236</td> <td>   -2.201</td>\n",
                            "</tr>\n",
                            "</table>"
                        ],
                        "text/latex": [
                            "\\begin{center}\n",
                            "\\begin{tabular}{lclc}\n",
                            "\\toprule\n",
                            "\\textbf{Dep. Variable:}   &      Total       & \\textbf{  No. Observations:  } &       210    \\\\\n",
                            "\\textbf{Model:}           &     Poisson      & \\textbf{  Df Residuals:      } &       206    \\\\\n",
                            "\\textbf{Method:}          &       MLE        & \\textbf{  Df Model:          } &         3    \\\\\n",
                            "\\textbf{Date:}            & Tue, 24 Sep 2024 & \\textbf{  Pseudo R-squ.:     } &    0.6913    \\\\\n",
                            "\\textbf{Time:}            &     15:36:34     & \\textbf{  Log-Likelihood:    } &    -76099.   \\\\\n",
                            "\\textbf{converged:}       &       True       & \\textbf{  LL-Null:           } & -2.4651e+05  \\\\\n",
                            "\\textbf{Covariance Type:} &    nonrobust     & \\textbf{  LLR p-value:       } &     0.000    \\\\\n",
                            "\\bottomrule\n",
                            "\\end{tabular}\n",
                            "\\begin{tabular}{lcccccc}\n",
                            "                       & \\textbf{coef} & \\textbf{std err} & \\textbf{z} & \\textbf{P$> |$z$|$} & \\textbf{[0.025} & \\textbf{0.975]}  \\\\\n",
                            "\\midrule\n",
                            "\\textbf{Intercept}     &       8.3964  &        0.004     &  2265.587  &         0.000        &        8.389    &        8.404     \\\\\n",
                            "\\textbf{HighTemp}      &       0.0244  &     9.65e-05     &   253.205  &         0.000        &        0.024    &        0.025     \\\\\n",
                            "\\textbf{LowTemp}       &      -0.0052  &        0.000     &   -48.165  &         0.000        &       -0.005    &       -0.005     \\\\\n",
                            "\\textbf{Precipitation} &      -2.2184  &        0.009     &  -248.186  &         0.000        &       -2.236    &       -2.201     \\\\\n",
                            "\\bottomrule\n",
                            "\\end{tabular}\n",
                            "%\\caption{Poisson Regression Results}\n",
                            "\\end{center}"
                        ],
                        "text/plain": [
                            "<class 'statsmodels.iolib.summary.Summary'>\n",
                            "\"\"\"\n",
                            "                          Poisson Regression Results                          \n",
                            "==============================================================================\n",
                            "Dep. Variable:                  Total   No. Observations:                  210\n",
                            "Model:                        Poisson   Df Residuals:                      206\n",
                            "Method:                           MLE   Df Model:                            3\n",
                            "Date:                Tue, 24 Sep 2024   Pseudo R-squ.:                  0.6913\n",
                            "Time:                        15:36:34   Log-Likelihood:                -76099.\n",
                            "converged:                       True   LL-Null:                   -2.4651e+05\n",
                            "Covariance Type:            nonrobust   LLR p-value:                     0.000\n",
                            "=================================================================================\n",
                            "                    coef    std err          z      P>|z|      [0.025      0.975]\n",
                            "---------------------------------------------------------------------------------\n",
                            "Intercept         8.3964      0.004   2265.587      0.000       8.389       8.404\n",
                            "HighTemp          0.0244   9.65e-05    253.205      0.000       0.024       0.025\n",
                            "LowTemp          -0.0052      0.000    -48.165      0.000      -0.005      -0.005\n",
                            "Precipitation    -2.2184      0.009   -248.186      0.000      -2.236      -2.201\n",
                            "=================================================================================\n",
                            "\"\"\""
                        ]
                    },
                    "execution_count": 36,
                    "metadata": {},
                    "output_type": "execute_result"
                }
            ],
            "source": [
                "result = poisson(\"Total~HighTemp+LowTemp+Precipitation\", data).fit()\n",
                "result.summary()"
            ]
        },
        {
            "attachments": {},
            "cell_type": "markdown",
            "metadata": {},
            "source": [
                "# part 2\n",
                "Yes, they are statistical significant because we see they all with p value smaller than 0.05. They all also have std err smaller than coef. They are also reliable as we can see the conficence interval of them are small."
            ]
        },
        {
            "cell_type": "code",
            "execution_count": 38,
            "metadata": {},
            "outputs": [
                {
                    "data": {
                        "text/plain": [
                            "0    7336.368443\n",
                            "dtype: float64"
                        ]
                    },
                    "execution_count": 38,
                    "metadata": {},
                    "output_type": "execute_result"
                }
            ],
            "source": [
                "s1 = pd.DataFrame({\n",
                "    'HighTemp': [35],\n",
                "    'LowTemp': [25],\n",
                "    'Precipitation': [0.1]\n",
                "})\n",
                "\n",
                "s2 = pd.DataFrame({\n",
                "    'HighTemp': [80],\n",
                "    'LowTemp': [75],\n",
                "    'Precipitation': [0.8]\n",
                "})\n",
                "\n",
                "pred1 = result.predict(s1)\n",
                "pred1"
            ]
        },
        {
            "cell_type": "code",
            "execution_count": 39,
            "metadata": {},
            "outputs": [
                {
                    "data": {
                        "text/plain": [
                            "0    3601.82271\n",
                            "dtype: float64"
                        ]
                    },
                    "execution_count": 39,
                    "metadata": {},
                    "output_type": "execute_result"
                }
            ],
            "source": [
                "pred2 = result.predict(s2)\n",
                "pred2"
            ]
        },
        {
            "attachments": {},
            "cell_type": "markdown",
            "metadata": {},
            "source": [
                "# Part 2 [4 pts]\n",
                "\n",
                "Suppose we are interested in computing the log-likelihood of a Poisson mixture model, given as \n",
                "$$\\log \\mathcal L(y_i|\\lambda_1,\\lambda_2) = \\log (f(y_i|\\lambda_1)p + f(y_i|\\lambda_2)(1-p))$$\n",
                "where $f$ is the PMF of the Poisson distribution. \n",
                "* Try to compute the joint log-likelihood $\\log \\mathcal L(\\mathbf y | \\lambda_1, \\lambda_2)$ of the synthetic data provided below using the Poisson mixture model $\\lambda_1=2000, \\lambda_2=8000, p=0.7$. Use the functions `spst.poisson.pmf()` and `np.log()`; what is the result?\n",
                "\n",
                "An alternative method utilizes the [LogSumExp](https://en.wikipedia.org/wiki/LogSumExp) function, a smooth approximation of the max function: \n",
                "$$LSE(x_1, ..., x_n) = \\log(\\exp(x_1)+\\cdots+\\exp(x_n))$$ \n",
                "Notice that while $\\log \\mathcal L$ is not exacty in the $LSE$ form, you can apply the transformation $x = \\exp(\\log x)$ to the summands. \n",
                "* Using this idea, compute the joint log-likelihood using the same data again. This time, use the functions `spst.poisson.logpmf()` and `spsp.logsumexp()`."
            ]
        },
        {
            "cell_type": "code",
            "execution_count": 40,
            "metadata": {},
            "outputs": [],
            "source": [
                "y = np.array([4472, 4457, 4494, 4597, 4514, 4511, 4448, 4507, 4553, 4518, 4443,\n",
                "              4354, 4456, 4476, 4414, 4471, 4500, 4554, 4520, 4585, 4417, 4569,\n",
                "              4551, 4531, 4590, 4469, 4448, 4428, 4546, 4462, 4561, 4512, 4413,\n",
                "              4517, 4486, 4478, 4622, 4613, 4423, 4461, 4593, 4474, 4430, 4420,\n",
                "              4526, 4497, 4506, 4483, 4441, 4495, 4552, 4457, 4530, 4622, 4496,\n",
                "              4549, 4554, 4477, 4487, 4581, 4601, 4454, 4561, 4469, 4567, 4364,\n",
                "              4529, 4413, 4530, 4497, 4548, 4506, 4546, 4480, 5396, 5491, 5612, \n",
                "              5388, 5527, 5695, 5526, 5510, 5588, 5430, 5483, 5500, 5407, 5542, \n",
                "              5546, 5375, 5425, 5496, 5460, 5517, 5516, 5557, 5622, 5541, 5476, 5523])"
            ]
        },
        {
            "cell_type": "code",
            "execution_count": 41,
            "metadata": {},
            "outputs": [
                {
                    "name": "stdout",
                    "output_type": "stream",
                    "text": [
                        "-inf -79343.02271756018\n"
                    ]
                }
            ],
            "source": [
                "lambda1 = 2000\n",
                "lambda2 = 8000\n",
                "p = 0.7\n",
                "\n",
                "def LLS_comp (y, lambda1, lamda2, p):\n",
                "    LLs = 0\n",
                "    for yi in y:\n",
                "        LLs = LLs + np.log(spst.poisson.pmf(yi, lambda1) * p + spst.poisson.pmf(yi, lambda2) * (1 - p))\n",
                "    return LLs\n",
                "\n",
                "def log_sum_exp (y, lambda1, lamda2, p):\n",
                "    LLs = 0\n",
                "    for yi in y:\n",
                "        LLs = LLs + spsp.logsumexp([spst.poisson.logpmf(yi, lambda1) + np.log(p), \n",
                "        spst.poisson.logpmf(yi, lambda2) + np.log(1 - p)])\n",
                "    return LLs\n",
                "\n",
                "log1 = LLS_comp(y, lambda1, lambda2, p)\n",
                "log2 = log_sum_exp(y, lambda1, lambda2, p)\n",
                "\n",
                "print(log1, log2)\n"
            ]
        },
        {
            "cell_type": "code",
            "execution_count": 98,
            "metadata": {},
            "outputs": [],
            "source": []
        },
        {
            "attachments": {},
            "cell_type": "markdown",
            "metadata": {},
            "source": [
                "# Part 3 [12 pts]\n",
                "\n",
                "Define a new `GenericLikelihoodModel` class and the associated `loglike()` method in order to run a 2-segment Poisson regression with covariates on the bicycle data set. Let each of $\\lambda_1$ and $\\lambda_2$ depend on `HighTemp`, `LowTemp`, and `Precipitation`. Including the $p$ parameter, that gives us **nine** parameters in total to estimate. \n",
                "\n",
                "In your `loglike()` method, remember that you will want to estimate the logistic transformation of $p$. Also, you will want to use `logsumexp()` as in Part 2 above in order to compute log likelihoods. Otherwise, your estimate will very likely not converge.\n",
                "\n",
                "To perform the actual estimation, use the `bfgs` method, and initialize all parameters to $0$. Show the model summary when done."
            ]
        },
        {
            "cell_type": "code",
            "execution_count": 42,
            "metadata": {},
            "outputs": [],
            "source": [
                "class PoissonMix(GenericLikelihoodModel):\n",
                "    def loglike(self, params):\n",
                "        X, y = self.exog, self.endog\n",
                "        lambda1 = np.exp(X @ params[0:4])\n",
                "        lambda2 = np.exp(X @ params[4:8])\n",
                "        p = np.exp(params[8]) / (1+np.exp(params[8]))\n",
                "        ll = spsp.logsumexp([spst.poisson.logpmf(y, lambda1) + np.log(p), \n",
                "        spst.poisson.logpmf(y, lambda2) + np.log(1 - p)], axis = 0)\n",
                "        return np.sum(ll)"
            ]
        },
        {
            "cell_type": "code",
            "execution_count": 43,
            "metadata": {},
            "outputs": [
                {
                    "name": "stdout",
                    "output_type": "stream",
                    "text": [
                        "         Current function value: 108.959095\n",
                        "         Iterations: 49\n",
                        "         Function evaluations: 152\n",
                        "         Gradient evaluations: 139\n"
                    ]
                },
                {
                    "data": {
                        "text/html": [
                            "<table class=\"simpletable\">\n",
                            "<caption>PoissonMix Results</caption>\n",
                            "<tr>\n",
                            "  <th>Dep. Variable:</th>           <td>Total</td>       <th>  Log-Likelihood:    </th> <td> -22881.</td> \n",
                            "</tr>\n",
                            "<tr>\n",
                            "  <th>Model:</th>                <td>PoissonMix</td>     <th>  AIC:               </th> <td>4.578e+04</td>\n",
                            "</tr>\n",
                            "<tr>\n",
                            "  <th>Method:</th>           <td>Maximum Likelihood</td> <th>  BIC:               </th> <td>4.581e+04</td>\n",
                            "</tr>\n",
                            "<tr>\n",
                            "  <th>Date:</th>              <td>Tue, 24 Sep 2024</td>  <th>                     </th>     <td> </td>    \n",
                            "</tr>\n",
                            "<tr>\n",
                            "  <th>Time:</th>                  <td>15:37:14</td>      <th>                     </th>     <td> </td>    \n",
                            "</tr>\n",
                            "<tr>\n",
                            "  <th>No. Observations:</th>       <td>   210</td>       <th>                     </th>     <td> </td>    \n",
                            "</tr>\n",
                            "<tr>\n",
                            "  <th>Df Residuals:</th>           <td>   206</td>       <th>                     </th>     <td> </td>    \n",
                            "</tr>\n",
                            "<tr>\n",
                            "  <th>Df Model:</th>               <td>     3</td>       <th>                     </th>     <td> </td>    \n",
                            "</tr>\n",
                            "</table>\n",
                            "<table class=\"simpletable\">\n",
                            "<tr>\n",
                            "   <td></td>      <th>coef</th>     <th>std err</th>      <th>z</th>      <th>P>|z|</th>  <th>[0.025</th>    <th>0.975]</th>  \n",
                            "</tr>\n",
                            "<tr>\n",
                            "  <th>b10</th> <td>    8.2670</td> <td>    0.006</td> <td> 1390.874</td> <td> 0.000</td> <td>    8.255</td> <td>    8.279</td>\n",
                            "</tr>\n",
                            "<tr>\n",
                            "  <th>b11</th> <td>    0.0225</td> <td>    0.000</td> <td>  128.356</td> <td> 0.000</td> <td>    0.022</td> <td>    0.023</td>\n",
                            "</tr>\n",
                            "<tr>\n",
                            "  <th>b12</th> <td>    0.0034</td> <td>    0.000</td> <td>   19.666</td> <td> 0.000</td> <td>    0.003</td> <td>    0.004</td>\n",
                            "</tr>\n",
                            "<tr>\n",
                            "  <th>b20</th> <td>   -5.2254</td> <td>    0.028</td> <td> -186.615</td> <td> 0.000</td> <td>   -5.280</td> <td>   -5.171</td>\n",
                            "</tr>\n",
                            "<tr>\n",
                            "  <th>b21</th> <td>    7.5725</td> <td>    0.006</td> <td> 1171.518</td> <td> 0.000</td> <td>    7.560</td> <td>    7.585</td>\n",
                            "</tr>\n",
                            "<tr>\n",
                            "  <th>b22</th> <td>    0.0455</td> <td>    0.000</td> <td>  307.404</td> <td> 0.000</td> <td>    0.045</td> <td>    0.046</td>\n",
                            "</tr>\n",
                            "<tr>\n",
                            "  <th>b30</th> <td>   -0.0223</td> <td>    0.000</td> <td> -140.899</td> <td> 0.000</td> <td>   -0.023</td> <td>   -0.022</td>\n",
                            "</tr>\n",
                            "<tr>\n",
                            "  <th>b31</th> <td>   -0.3472</td> <td>    0.010</td> <td>  -33.282</td> <td> 0.000</td> <td>   -0.368</td> <td>   -0.327</td>\n",
                            "</tr>\n",
                            "<tr>\n",
                            "  <th>b32</th> <td>    0.1335</td> <td>    0.138</td> <td>    0.965</td> <td> 0.334</td> <td>   -0.138</td> <td>    0.405</td>\n",
                            "</tr>\n",
                            "</table>"
                        ],
                        "text/latex": [
                            "\\begin{center}\n",
                            "\\begin{tabular}{lclc}\n",
                            "\\toprule\n",
                            "\\textbf{Dep. Variable:}    &       Total        & \\textbf{  Log-Likelihood:    } &   -22881.   \\\\\n",
                            "\\textbf{Model:}            &     PoissonMix     & \\textbf{  AIC:               } & 4.578e+04   \\\\\n",
                            "\\textbf{Method:}           & Maximum Likelihood & \\textbf{  BIC:               } & 4.581e+04   \\\\\n",
                            "\\textbf{Date:}             &  Tue, 24 Sep 2024  & \\textbf{                     } &             \\\\\n",
                            "\\textbf{Time:}             &      15:37:14      & \\textbf{                     } &             \\\\\n",
                            "\\textbf{No. Observations:} &          210       & \\textbf{                     } &             \\\\\n",
                            "\\textbf{Df Residuals:}     &          206       & \\textbf{                     } &             \\\\\n",
                            "\\textbf{Df Model:}         &            3       & \\textbf{                     } &             \\\\\n",
                            "\\bottomrule\n",
                            "\\end{tabular}\n",
                            "\\begin{tabular}{lcccccc}\n",
                            "             & \\textbf{coef} & \\textbf{std err} & \\textbf{z} & \\textbf{P$> |$z$|$} & \\textbf{[0.025} & \\textbf{0.975]}  \\\\\n",
                            "\\midrule\n",
                            "\\textbf{b10} &       8.2670  &        0.006     &  1390.874  &         0.000        &        8.255    &        8.279     \\\\\n",
                            "\\textbf{b11} &       0.0225  &        0.000     &   128.356  &         0.000        &        0.022    &        0.023     \\\\\n",
                            "\\textbf{b12} &       0.0034  &        0.000     &    19.666  &         0.000        &        0.003    &        0.004     \\\\\n",
                            "\\textbf{b20} &      -5.2254  &        0.028     &  -186.615  &         0.000        &       -5.280    &       -5.171     \\\\\n",
                            "\\textbf{b21} &       7.5725  &        0.006     &  1171.518  &         0.000        &        7.560    &        7.585     \\\\\n",
                            "\\textbf{b22} &       0.0455  &        0.000     &   307.404  &         0.000        &        0.045    &        0.046     \\\\\n",
                            "\\textbf{b30} &      -0.0223  &        0.000     &  -140.899  &         0.000        &       -0.023    &       -0.022     \\\\\n",
                            "\\textbf{b31} &      -0.3472  &        0.010     &   -33.282  &         0.000        &       -0.368    &       -0.327     \\\\\n",
                            "\\textbf{b32} &       0.1335  &        0.138     &     0.965  &         0.334        &       -0.138    &        0.405     \\\\\n",
                            "\\bottomrule\n",
                            "\\end{tabular}\n",
                            "%\\caption{PoissonMix Results}\n",
                            "\\end{center}"
                        ],
                        "text/plain": [
                            "<class 'statsmodels.iolib.summary.Summary'>\n",
                            "\"\"\"\n",
                            "                              PoissonMix Results                              \n",
                            "==============================================================================\n",
                            "Dep. Variable:                  Total   Log-Likelihood:                -22881.\n",
                            "Model:                     PoissonMix   AIC:                         4.578e+04\n",
                            "Method:            Maximum Likelihood   BIC:                         4.581e+04\n",
                            "Date:                Tue, 24 Sep 2024                                         \n",
                            "Time:                        15:37:14                                         \n",
                            "No. Observations:                 210                                         \n",
                            "Df Residuals:                     206                                         \n",
                            "Df Model:                           3                                         \n",
                            "==============================================================================\n",
                            "                 coef    std err          z      P>|z|      [0.025      0.975]\n",
                            "------------------------------------------------------------------------------\n",
                            "b10            8.2670      0.006   1390.874      0.000       8.255       8.279\n",
                            "b11            0.0225      0.000    128.356      0.000       0.022       0.023\n",
                            "b12            0.0034      0.000     19.666      0.000       0.003       0.004\n",
                            "b20           -5.2254      0.028   -186.615      0.000      -5.280      -5.171\n",
                            "b21            7.5725      0.006   1171.518      0.000       7.560       7.585\n",
                            "b22            0.0455      0.000    307.404      0.000       0.045       0.046\n",
                            "b30           -0.0223      0.000   -140.899      0.000      -0.023      -0.022\n",
                            "b31           -0.3472      0.010    -33.282      0.000      -0.368      -0.327\n",
                            "b32            0.1335      0.138      0.965      0.334      -0.138       0.405\n",
                            "==============================================================================\n",
                            "\"\"\""
                        ]
                    },
                    "execution_count": 43,
                    "metadata": {},
                    "output_type": "execute_result"
                }
            ],
            "source": [
                "X = data[['HighTemp','LowTemp','Precipitation']]\n",
                "X = add_constant(X)\n",
                "y = data['Total']\n",
                "result = PoissonMix(y, X).fit(start_params=np.zeros(9), method='bfgs')\n",
                "result.summary(xname=['b10','b11','b12','b20','b21','b22','b30','b31','b32'])"
            ]
        },
        {
            "attachments": {},
            "cell_type": "markdown",
            "metadata": {},
            "source": [
                "# Part 4 [6 pts]\n",
                "\n",
                "Consider a lovely day with with temperature range $65^\\circ$ to $75^\\circ$ and $0.1$ precipitation level. Use your learned model to answer the following:\n",
                "\n",
                "* What is the expected number of total bike crossings given that the day belongs in segment 1? What if it belongs in segment 2?\n",
                "\n",
                "* What is the probability that a generic day belongs to segment 1? Use the full mixture model to predict the expected number of total bike crossings for the given day."
            ]
        },
        {
            "cell_type": "code",
            "execution_count": 44,
            "metadata": {},
            "outputs": [
                {
                    "name": "stdout",
                    "output_type": "stream",
                    "text": [
                        "15483.724657824314 13447.806954614025 0.5333334075846211 14533.629880829023\n"
                    ]
                }
            ],
            "source": [
                "x = ([1, 75, 65, 0.1]) # intercept, HighTemp, LowTemp, P\n",
                "lambda1 = np.exp(x @ result.params[0:4])\n",
                "lambda2 = np.exp(x @ result.params[4:8])\n",
                "p = np.exp(result.params[8]) / (1 + np.exp(result.params[8]))\n",
                "\n",
                "print(lambda1, lambda2, p, lambda1 * p + lambda2 * (1 - p))"
            ]
        },
        {
            "cell_type": "code",
            "execution_count": 105,
            "metadata": {},
            "outputs": [],
            "source": []
        }
    ],
    "metadata": {
        "kernelspec": {
            "display_name": "Python 3 (ipykernel)",
            "language": "python",
            "name": "python3"
        },
        "language_info": {
            "codemirror_mode": {
                "name": "ipython",
                "version": 3
            },
            "file_extension": ".py",
            "mimetype": "text/x-python",
            "name": "python",
            "nbconvert_exporter": "python",
            "pygments_lexer": "ipython3",
            "version": "3.9.13"
        }
    },
    "nbformat": 4,
    "nbformat_minor": 2
}
