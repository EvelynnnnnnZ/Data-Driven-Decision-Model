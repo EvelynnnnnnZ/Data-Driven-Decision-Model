{
    "cells": [
        {
            "cell_type": "code",
            "execution_count": 2,
            "metadata": {},
            "outputs": [],
            "source": [
                "import math\n",
                "import numpy as np \n",
                "import matplotlib.pyplot as plt "
            ]
        },
        {
            "attachments": {},
            "cell_type": "markdown",
            "metadata": {},
            "source": [
                "# Setup\n",
                "\n",
                "The [binomial distribution](https://en.wikipedia.org/wiki/Binomial_distribution) models the number of successes in $m$ Bernoulli trials (e.g., coin flips), each with success probability $p$. The PMF is as follows: \n",
                "\n",
                "$f(y_i) = \\frac{m!}{y_i!(m-y_i)!} p^{y_i} (1-p)^{m-y_i}$ where $y_i \\in \\{0, 1, ..., m\\}$\n",
                "\n",
                "This distribution has both $m$ and $p$ as parameters. Here we will treat $m$ as known, and rather than estimating $p$ directly, we will first apply the logistic transformation $p = \\frac{\\exp(\\beta)}{1+\\exp(\\beta)}$ to obtain the following likelihood:\n",
                "\n",
                "$$f(y_i|\\beta) = \\frac{m!}{y_i!(m-y_i)!} \\left(\\frac{\\exp(\\beta)}{1+\\exp(\\beta)}\\right)^{y_i} \\left(1-\\frac{\\exp(\\beta)}{1+\\exp(\\beta)} \\right)^{m-y_i}$$\n",
                "\n",
                "Our goal will be to use MLE to solve for $\\hat\\beta$."
            ]
        },
        {
            "attachments": {},
            "cell_type": "markdown",
            "metadata": {},
            "source": [
                "# Part 1 [12 pts]\n",
                "\n",
                "* Find and simplify the joint log-likelihood function $\\log \\mathcal L(\\beta;\\mathbf y)$.\n",
                "\n",
                "* Compute the score function $s(\\beta)$, and use it to find the MLE $\\hat\\beta$ in terms of known values.\n",
                "\n",
                "* What is the value of $\\hat p$ corresponding to the value of $\\hat \\beta$ that you found? As a hint, simply apply the logistic transformation. Give a brief explanation for the value of $\\hat p$ in terms of the data and model."
            ]
        },
        {
            "attachments": {},
            "cell_type": "markdown",
            "metadata": {},
            "source": [
                "### 1. To find and simplify $ \\log L(\\beta; y) $, we have:\n",
                "\n",
                "The likelihood is given by:\n",
                "\n",
                "$L(\\beta; y) = \\prod_{i=1}^{n} f(y_i | \\beta)$\n",
                "\n",
                "Taking the logarithm, we have:\n",
                "\n",
                "$log L(\\beta; y) = \\log \\left( \\prod_{i} f(y_i | \\beta) \\right) = \\sum_i \\log(f(y_i | \\beta))$\n",
                "\n",
                "Substitute the binomial distribution form:\n",
                "\n",
                "$log L(\\beta; y) = \\sum_i \\left[ \\log \\frac{m!}{y_i!(m - y_i)!} + y_i \\log \\frac{\\exp(\\beta)}{1 + \\exp(\\beta)} + (m - y_i) \\log \\left( 1 - \\frac{\\exp(\\beta)}{1 + \\exp(\\beta)} \\right) \\right]$\n",
                "\n",
                "Since we are given $ p = \\frac{\\exp(\\beta)}{1 + \\exp(\\beta)} $, we have:\n",
                "\n",
                "$log L(\\beta; y) = \\sum_i \\left[ \\log \\frac{m!}{y_i!(m - y_i)!} + y_i \\log p + (m - y_i) \\log(1 - p) \\right]$\n",
                "\n",
                "Thus, we get:\n",
                "\n",
                "$log L(\\beta; y) = \\sum_i \\left[ y_i \\log p + (m - y_i) \\log(1 - p) \\right]$"
            ]
        },
        {
            "cell_type": "code",
            "execution_count": null,
            "metadata": {},
            "outputs": [],
            "source": []
        },
        {
            "cell_type": "code",
            "execution_count": null,
            "metadata": {},
            "outputs": [],
            "source": []
        },
        {
            "attachments": {},
            "cell_type": "markdown",
            "metadata": {},
            "source": [
                "### 2. For the score function $ S(\\beta) $ and MLE $ \\hat{\\beta} $, we have\n",
                "\n",
                "$\n",
                "S(\\beta) = \\frac{\\partial \\log L}{\\partial \\beta} \\quad \\Rightarrow \\quad S(\\beta) = \\frac{\\partial}{\\partial \\beta} \\sum_i \\left[ y_i \\log p + (m - y_i) \\log(1 - p) \\right]\n",
                "$\n",
                "\n",
                "$\n",
                "S(\\beta) = \\frac{\\partial}{\\partial \\beta} \\sum_i \\left[ y_i \\log p + (m - y_i) \\log(1 - p) \\right]\n",
                "$\n",
                "\n",
                "As $ p = \\frac{\\exp(\\beta)}{1 + \\exp(\\beta)} $, we have:\n",
                "\n",
                "$\n",
                "\\frac{\\partial p}{\\partial \\beta} = p(1 - p)\n",
                "$\n",
                "\n",
                "Then we have:\n",
                "\n",
                "$\n",
                "S(\\beta) = \\sum_i \\left( \\frac{y_i}{p} \\cdot p(1 - p) - \\frac{m - y_i}{1 - p} \\cdot p(1 - p) \\right)\n",
                "$\n",
                "\n",
                "$\n",
                "= \\sum_i \\left[ y_i (1 - p) - (m - y_i) p \\right]\n",
                "$\n",
                "\n",
                "For the MLE $ \\hat{\\beta} $, we have $ S(\\hat{\\beta}) = 0 $. Solving this, we get:\n",
                "\n",
                "$\n",
                "\\sum_i \\left[ y_i (1 - p) - (m - y_i) p \\right] = 0 \\quad \\Rightarrow \\quad \\sum_i y_i = n m p\n",
                "$\n",
                "\n",
                "Thus, we have:\n",
                "\n",
                "$\n",
                "p = \\frac{\\sum_{i=1}^{n} y_i}{n m}\n",
                "$"
            ]
        },
        {
            "attachments": {},
            "cell_type": "markdown",
            "metadata": {},
            "source": [
                "### 3. As $ p = \\frac{\\exp(\\beta)}{1 + \\exp(\\beta)}$, we have:\n",
                "\n",
                "$\\hat{\\beta} = \\log \\frac{p}{1 - p}$\n",
                "\n",
                "$\\hat{\\beta} = \\log \\frac{\\sum_{i=1}^{n} y_i}{n m - \\sum_{i=1}^{n} y_i}$\n",
                "\n",
                "Thus, $ p = \\frac{\\sum_{i=1}^{n} y_i}{n m}$.\n"
            ]
        },
        {
            "attachments": {},
            "cell_type": "markdown",
            "metadata": {},
            "source": [
                "# Part 2 [12 pts]\n",
                "\n",
                "* Find an expression for the Hessian $H(\\beta)$ at $\\hat\\beta$ in terms of known quantities, and use it show that $\\hat\\beta$ is a local maximum.\n",
                "\n",
                "* Find an expression for $\\hat{Var}(\\hat\\beta)$ the sample estimate of the variance $\\hat\\beta$.\n",
                "\n",
                "* Briefly explain why $\\hat{Var}(\\hat\\beta)$ varies inversely with each of $m$ and $n$. How does it vary with $\\hat\\beta$?"
            ]
        },
        {
            "attachments": {},
            "cell_type": "markdown",
            "metadata": {},
            "source": [
                "### 1. From lecture notes, we have\n",
                "\n",
                "$H(\\beta) = \\frac{\\partial^2 \\log L(\\beta; y)}{\\partial \\beta^2}$\n",
                "\n",
                "$= \\frac{\\partial}{\\partial \\beta} \\left( \\frac{\\partial \\log L(\\beta; y)}{\\partial \\beta} \\right)$\n",
                "\n",
                "$= \\frac{\\partial}{\\partial \\beta} \\left( S(\\beta) \\right)$\n",
                "\n",
                "$= \\sum_i \\frac{\\partial}{\\partial \\beta} \\left[ y_i (1 - p(\\beta)) - (m - y_i) p(\\beta) \\right]$\n",
                "\n",
                "$= \\sum_i \\left[ -y_i \\frac{\\partial p(\\beta)}{\\partial \\beta} - (m - y_i) \\frac{\\partial p(\\beta)}{\\partial \\beta} \\right]$\n",
                "\n",
                "$= \\sum_i \\left[ -y_i p(\\beta)(1 - p(\\beta)) - (m - y_i) p(\\beta)(1 - p(\\beta)) \\right]$\n",
                "\n",
                "Thus, we have:\n",
                "\n",
                "$H(\\beta) = -n m p(\\beta)(1 - p(\\beta)) \\quad \\text{as} \\quad \\frac{\\partial p}{\\partial \\beta} = p(1 - p)$\n",
                "\n",
                "Since $ H(\\hat{\\beta}) < 0$, we have $ \\hat{\\beta}$ as a local maximum."
            ]
        },
        {
            "attachments": {},
            "cell_type": "markdown",
            "metadata": {},
            "source": [
                "### 2. From lecture notes, we have\n",
                "\n",
                "$\\text{Var}(\\hat{\\beta}) \\approx -H(\\hat{\\beta})^{-1}$\n",
                "\n",
                "Thus, we have:\n",
                "\n",
                "$\\text{Var}(\\hat{\\beta}) = \\frac{1}{n m p(\\hat{\\beta})(1 - p(\\hat{\\beta}))}$\n"
            ]
        },
        {
            "attachments": {},
            "cell_type": "markdown",
            "metadata": {},
            "source": [
                "### 3. \n",
                "Because $ \\text{Var}(\\hat{\\beta})$ represents uncertainty, as $ n$, the number of Bernoulli trials, and $ m$, the number of outcomes, increase, we get more information and become more certain. Thus, the uncertainty decreases, and $ \\text{Var}(\\hat{\\beta})$ decreases.\n",
                "\n",
                "Also, as different $ p(\\beta)$ give different $ \\hat{\\beta}$, we have $ \\text{Var}(\\hat{\\beta})$ vary for different $ p(\\beta)$. $ \\text{Var}(\\hat{\\beta})$ decreases as $ p(\\beta)$ approaches 0 or 1 (meaning more certain)."
            ]
        },
        {
            "cell_type": "code",
            "execution_count": null,
            "metadata": {},
            "outputs": [],
            "source": []
        },
        {
            "cell_type": "code",
            "execution_count": null,
            "metadata": {},
            "outputs": [],
            "source": []
        },
        {
            "attachments": {},
            "cell_type": "markdown",
            "metadata": {},
            "source": [
                "# Part 3 [12 pts]\n",
                "\n",
                "* Let $m = 100$ and $n = 100$. Write a loop over values of $p$ ranging from $0.01$ to $0.99$, at intervals of $0.01$, that does the following:\n",
                "\n",
                "* Generate $n$ samples using `np.random.binomial(m,p,n)`.\n",
                "\n",
                "* Using the generated samples, compute $\\hat\\beta$, $\\hat p$, $H(\\hat\\beta)$, and $\\hat{Var}(\\hat\\beta)$. Store the last quantity, e.g., in a list.\n",
                "\n",
                "* When finished, show a simple plot of $\\hat{Var}(\\hat\\beta)$ over the the values of $p$."
            ]
        },
        {
            "cell_type": "markdown",
            "metadata": {},
            "source": []
        },
        {
            "cell_type": "code",
            "execution_count": 6,
            "metadata": {},
            "outputs": [
                {
                    "data": {
                        "text/plain": [
                            "array([ 99,  99, 100,  97,  99,  98,  97,  99,  95,  99, 100,  98,  96,\n",
                            "        98,  99,  99,  98,  95,  99,  98,  96,  98, 100,  98,  97, 100,\n",
                            "       100,  96,  98, 100,  98,  99,  96,  99,  97,  98,  99,  99,  99,\n",
                            "        95, 100,  96, 100,  98,  96,  98,  99,  99,  97,  99,  98,  99,\n",
                            "        98,  99,  97,  98,  97, 100,  99,  99,  98,  99,  99,  96,  99,\n",
                            "        99,  99,  98,  99,  97,  97,  98,  97,  97,  98,  98,  97, 100,\n",
                            "        99,  98,  99,  96,  97,  99,  96,  99,  98,  99,  97,  96,  98,\n",
                            "        98,  99,  98,  99,  98, 100, 100,  99,  97])"
                        ]
                    },
                    "execution_count": 6,
                    "metadata": {},
                    "output_type": "execute_result"
                }
            ],
            "source": [
                "m = 100\n",
                "n = 100\n",
                "p_val = np.arange(0.01, 0.99, 0.01)\n",
                "\n",
                "for p in p_val:\n",
                "    y = np.random.binomial(m, p, n)\n",
                "y"
            ]
        },
        {
            "cell_type": "code",
            "execution_count": 7,
            "metadata": {},
            "outputs": [
                {
                    "data": {
                        "text/plain": [
                            "3.9658185429366477"
                        ]
                    },
                    "execution_count": 7,
                    "metadata": {},
                    "output_type": "execute_result"
                }
            ],
            "source": [
                "beta_hat = np.log(np.sum(y) / (m * n - np.sum(y)))\n",
                "beta_hat"
            ]
        },
        {
            "cell_type": "code",
            "execution_count": 8,
            "metadata": {},
            "outputs": [
                {
                    "data": {
                        "text/plain": [
                            "0.9814"
                        ]
                    },
                    "execution_count": 8,
                    "metadata": {},
                    "output_type": "execute_result"
                }
            ],
            "source": [
                "p_hat = np.sum(y) / (m * n)\n",
                "p_hat"
            ]
        },
        {
            "cell_type": "code",
            "execution_count": 9,
            "metadata": {},
            "outputs": [
                {
                    "data": {
                        "text/plain": [
                            "0.9814"
                        ]
                    },
                    "execution_count": 9,
                    "metadata": {},
                    "output_type": "execute_result"
                }
            ],
            "source": [
                "p_beta = np.exp(beta_hat) / (1 + np.exp(beta_hat))\n",
                "p_beta"
            ]
        },
        {
            "cell_type": "code",
            "execution_count": 10,
            "metadata": {},
            "outputs": [
                {
                    "data": {
                        "text/plain": [
                            "-1.8254039999999951"
                        ]
                    },
                    "execution_count": 10,
                    "metadata": {},
                    "output_type": "execute_result"
                }
            ],
            "source": [
                "H_beta = - m * p_hat * (1-p_hat)\n",
                "H_beta"
            ]
        },
        {
            "cell_type": "code",
            "execution_count": 11,
            "metadata": {},
            "outputs": [
                {
                    "data": {
                        "text/plain": [
                            "0.5478239337702792"
                        ]
                    },
                    "execution_count": 11,
                    "metadata": {},
                    "output_type": "execute_result"
                }
            ],
            "source": [
                "Var_beta = - (1 / H_beta)\n",
                "Var_beta"
            ]
        },
        {
            "cell_type": "code",
            "execution_count": 73,
            "metadata": {},
            "outputs": [
                {
                    "name": "stdout",
                    "output_type": "stream",
                    "text": [
                        "3.789829806794527 0.9779000000000001 -216.11589999999904 0.0046271468226077046\n"
                    ]
                }
            ],
            "source": [
                "var_beta_val = []\n",
                "i = 0\n",
                "for p in p_val:\n",
                "    y_now = np.random.binomial(m, p, n)\n",
                "    p_hat_now = np.mean(y_now) / m\n",
                "    beta_hat_now = np.log(p_hat_now  / (1 - p_hat_now))\n",
                "    H = - n * m * p_hat_now * (1-p_hat_now)\n",
                "    var_b = - 1 / H\n",
                "    var_beta_val.append(var_b)\n",
                "\n",
                "print(beta_hat_now, p_hat_now, H, var_b)"
            ]
        },
        {
            "cell_type": "code",
            "execution_count": 74,
            "metadata": {},
            "outputs": [
                {
                    "data": {
                        "text/plain": [
                            "<function matplotlib.pyplot.show(close=None, block=None)>"
                        ]
                    },
                    "execution_count": 74,
                    "metadata": {},
                    "output_type": "execute_result"
                },
                {
                    "data": {
                        "image/png": "[encoded data removed]",
                        "text/plain": [
                            "<Figure size 640x480 with 1 Axes>"
                        ]
                    },
                    "metadata": {},
                    "output_type": "display_data"
                }
            ],
            "source": [
                "plt.plot(p_val, var_beta_val)\n",
                "plt.show"
            ]
        },
        {
            "attachments": {},
            "cell_type": "markdown",
            "metadata": {},
            "source": [
                "# Part 4 [12 pts]\n",
                "\n",
                "Implement Newton's method to numerically find the MLE for $\\hat\\beta$, with the data generated below. Use $0$ as the initial guess, and stop when the log-likelihood changes by less than $10^{-8}$ in a given iteration. Show a simple plot of the log-likelihood over each iteration when done.\n",
                "\n",
                "You are strongly recommended to use the code template from class."
            ]
        },
        {
            "cell_type": "code",
            "execution_count": 67,
            "metadata": {},
            "outputs": [],
            "source": [
                "y = np.random.binomial(100, 0.99, 100)"
            ]
        },
        {
            "cell_type": "code",
            "execution_count": 55,
            "metadata": {},
            "outputs": [],
            "source": [
                "import scipy.stats as spst  \n"
            ]
        },
        {
            "cell_type": "code",
            "execution_count": 65,
            "metadata": {},
            "outputs": [],
            "source": [
                "def loglikelihood(beta, y, m):\n",
                "    p = np.exp(beta) / (1 + np.exp(beta))\n",
                "    return np.sum(spst.binom.logpmf(y, m, p))\n",
                "    #y * np.log(p) + (m - y) * np.log(1 - p))\n",
                "\n",
                "def newton(y, m, beta, thresh):\n",
                "    n = len(y)\n",
                "    LLs = [loglikelihood(beta, y, m)]\n",
                "    while True:\n",
                "        #print(beta)\n",
                "        p = np.exp(beta) / (1 + np.exp(beta))\n",
                "        grad = np.sum(y) - n * m * p\n",
                "        #print(\"grad\", grad)\n",
                "\n",
                "        hess = - n * m * p * (1 - p)\n",
                "        #print(\"hess\", hess, \"p\", p)\n",
                "        beta = beta - grad/hess\n",
                "        #print(\"update beta\", beta)\n",
                "        new = loglikelihood(beta, y, m)\n",
                "        LLs.append(new)\n",
                "        if abs(new - LLs[-2]) < thresh:\n",
                "            return beta, LLs\n"
            ]
        },
        {
            "cell_type": "code",
            "execution_count": 68,
            "metadata": {},
            "outputs": [],
            "source": [
                "beta, LLs = newton(y, 100, 0, 1e-8)"
            ]
        },
        {
            "cell_type": "code",
            "execution_count": 69,
            "metadata": {},
            "outputs": [
                {
                    "name": "stdout",
                    "output_type": "stream",
                    "text": [
                        "4.820281565604949 \n",
                        "\n",
                        "[-6579.487808483377, -1113.4229994518514, -360.98312287031786, -160.53229524504772, -118.24999492846041, -114.03535151795678, -113.96027760055685, -113.96024510497678, -113.96024510497034]\n"
                    ]
                }
            ],
            "source": [
                "print(beta, \"\\n\")\n",
                "print(LLs)"
            ]
        },
        {
            "cell_type": "code",
            "execution_count": 70,
            "metadata": {},
            "outputs": [
                {
                    "data": {
                        "image/png": "[encoded data removed]",
                        "text/plain": [
                            "<Figure size 640x480 with 1 Axes>"
                        ]
                    },
                    "metadata": {},
                    "output_type": "display_data"
                }
            ],
            "source": [
                "plt.plot(LLs)\n",
                "plt.show()"
            ]
        }
    ],
    "metadata": {
        "kernelspec": {
            "display_name": "Python 3 (ipykernel)",
            "language": "python",
            "name": "python3"
        },
        "language_info": {
            "codemirror_mode": {
                "name": "ipython",
                "version": 3
            },
            "file_extension": ".py",
            "mimetype": "text/x-python",
            "name": "python",
            "nbconvert_exporter": "python",
            "pygments_lexer": "ipython3",
            "version": "3.9.13"
        }
    },
    "nbformat": 4,
    "nbformat_minor": 2
}
